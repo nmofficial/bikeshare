{
 "cells": [
  {
   "cell_type": "markdown",
   "id": "a6cccb2c",
   "metadata": {},
   "source": [
    "### Imports"
   ]
  },
  {
   "cell_type": "code",
   "execution_count": 85,
   "id": "b711e7d9",
   "metadata": {},
   "outputs": [],
   "source": [
    "import pandas as pd\n",
    "import numpy as np\n",
    "import datetime\n",
    "import geopandas as gpd\n",
    "from geopy import distance\n",
    "import matplotlib\n",
    "import plotly.express as px\n",
    "import plotly.graph_objects as go\n",
    "import math"
   ]
  },
  {
   "cell_type": "markdown",
   "id": "60181aa3",
   "metadata": {},
   "source": [
    "### Basic data loading"
   ]
  },
  {
   "cell_type": "code",
   "execution_count": 71,
   "id": "73523448",
   "metadata": {
    "scrolled": true
   },
   "outputs": [
    {
     "data": {
      "text/html": [
       "<div>\n",
       "<style scoped>\n",
       "    .dataframe tbody tr th:only-of-type {\n",
       "        vertical-align: middle;\n",
       "    }\n",
       "\n",
       "    .dataframe tbody tr th {\n",
       "        vertical-align: top;\n",
       "    }\n",
       "\n",
       "    .dataframe thead th {\n",
       "        text-align: right;\n",
       "    }\n",
       "</style>\n",
       "<table border=\"1\" class=\"dataframe\">\n",
       "  <thead>\n",
       "    <tr style=\"text-align: right;\">\n",
       "      <th></th>\n",
       "      <th>rideable_type</th>\n",
       "      <th>started_at</th>\n",
       "      <th>ended_at</th>\n",
       "      <th>start_station_name</th>\n",
       "      <th>start_station_id</th>\n",
       "      <th>end_station_name</th>\n",
       "      <th>end_station_id</th>\n",
       "      <th>start_lat</th>\n",
       "      <th>start_lng</th>\n",
       "      <th>end_lat</th>\n",
       "      <th>end_lng</th>\n",
       "      <th>member_casual</th>\n",
       "      <th>duration</th>\n",
       "    </tr>\n",
       "    <tr>\n",
       "      <th>ride_id</th>\n",
       "      <th></th>\n",
       "      <th></th>\n",
       "      <th></th>\n",
       "      <th></th>\n",
       "      <th></th>\n",
       "      <th></th>\n",
       "      <th></th>\n",
       "      <th></th>\n",
       "      <th></th>\n",
       "      <th></th>\n",
       "      <th></th>\n",
       "      <th></th>\n",
       "      <th></th>\n",
       "    </tr>\n",
       "  </thead>\n",
       "  <tbody>\n",
       "    <tr>\n",
       "      <th>13A48BD20CC3DD85</th>\n",
       "      <td>classic_bike</td>\n",
       "      <td>2021-01-08 17:58:48</td>\n",
       "      <td>2021-01-08 18:25:23</td>\n",
       "      <td>Connecticut Ave &amp; Yuma St NW</td>\n",
       "      <td>31318.0</td>\n",
       "      <td>Georgia Ave &amp; Emerson St NW</td>\n",
       "      <td>31405.0</td>\n",
       "      <td>38.947156</td>\n",
       "      <td>-77.065115</td>\n",
       "      <td>38.949662</td>\n",
       "      <td>-77.027333</td>\n",
       "      <td>casual</td>\n",
       "      <td>0 days 00:26:35</td>\n",
       "    </tr>\n",
       "    <tr>\n",
       "      <th>CA68C580B32EEE66</th>\n",
       "      <td>electric_bike</td>\n",
       "      <td>2021-01-08 22:05:51</td>\n",
       "      <td>2021-01-08 22:23:52</td>\n",
       "      <td>8th &amp; D St NW</td>\n",
       "      <td>31270.0</td>\n",
       "      <td>14th &amp; D St SE</td>\n",
       "      <td>31663.0</td>\n",
       "      <td>38.894804</td>\n",
       "      <td>-77.023091</td>\n",
       "      <td>38.884053</td>\n",
       "      <td>-76.986043</td>\n",
       "      <td>member</td>\n",
       "      <td>0 days 00:18:01</td>\n",
       "    </tr>\n",
       "    <tr>\n",
       "      <th>5A925307814D5C2B</th>\n",
       "      <td>classic_bike</td>\n",
       "      <td>2021-01-21 17:20:31</td>\n",
       "      <td>2021-01-21 17:23:24</td>\n",
       "      <td>Wilson Blvd. &amp; N. Vermont St.</td>\n",
       "      <td>31926.0</td>\n",
       "      <td>George Mason Dr &amp; Wilson Blvd</td>\n",
       "      <td>31036.0</td>\n",
       "      <td>38.879477</td>\n",
       "      <td>-77.114563</td>\n",
       "      <td>38.878870</td>\n",
       "      <td>-77.120700</td>\n",
       "      <td>member</td>\n",
       "      <td>0 days 00:02:53</td>\n",
       "    </tr>\n",
       "    <tr>\n",
       "      <th>B6B2DB54A2B233EE</th>\n",
       "      <td>classic_bike</td>\n",
       "      <td>2021-01-28 10:06:30</td>\n",
       "      <td>2021-01-28 10:20:54</td>\n",
       "      <td>Franklin St &amp; S Washington St</td>\n",
       "      <td>31907.0</td>\n",
       "      <td>Braddock Rd Metro</td>\n",
       "      <td>31047.0</td>\n",
       "      <td>38.798133</td>\n",
       "      <td>-77.048700</td>\n",
       "      <td>38.814577</td>\n",
       "      <td>-77.052808</td>\n",
       "      <td>member</td>\n",
       "      <td>0 days 00:14:24</td>\n",
       "    </tr>\n",
       "    <tr>\n",
       "      <th>921A142D5C8A9759</th>\n",
       "      <td>classic_bike</td>\n",
       "      <td>2021-01-11 12:09:45</td>\n",
       "      <td>2021-01-11 12:20:15</td>\n",
       "      <td>St. Asaph &amp; Montgomery St</td>\n",
       "      <td>31931.0</td>\n",
       "      <td>Braddock Rd Metro</td>\n",
       "      <td>31047.0</td>\n",
       "      <td>38.814185</td>\n",
       "      <td>-77.043809</td>\n",
       "      <td>38.814577</td>\n",
       "      <td>-77.052808</td>\n",
       "      <td>casual</td>\n",
       "      <td>0 days 00:10:30</td>\n",
       "    </tr>\n",
       "  </tbody>\n",
       "</table>\n",
       "</div>"
      ],
      "text/plain": [
       "                  rideable_type          started_at            ended_at  \\\n",
       "ride_id                                                                   \n",
       "13A48BD20CC3DD85   classic_bike 2021-01-08 17:58:48 2021-01-08 18:25:23   \n",
       "CA68C580B32EEE66  electric_bike 2021-01-08 22:05:51 2021-01-08 22:23:52   \n",
       "5A925307814D5C2B   classic_bike 2021-01-21 17:20:31 2021-01-21 17:23:24   \n",
       "B6B2DB54A2B233EE   classic_bike 2021-01-28 10:06:30 2021-01-28 10:20:54   \n",
       "921A142D5C8A9759   classic_bike 2021-01-11 12:09:45 2021-01-11 12:20:15   \n",
       "\n",
       "                             start_station_name  start_station_id  \\\n",
       "ride_id                                                             \n",
       "13A48BD20CC3DD85   Connecticut Ave & Yuma St NW           31318.0   \n",
       "CA68C580B32EEE66                  8th & D St NW           31270.0   \n",
       "5A925307814D5C2B  Wilson Blvd. & N. Vermont St.           31926.0   \n",
       "B6B2DB54A2B233EE  Franklin St & S Washington St           31907.0   \n",
       "921A142D5C8A9759      St. Asaph & Montgomery St           31931.0   \n",
       "\n",
       "                               end_station_name  end_station_id  start_lat  \\\n",
       "ride_id                                                                      \n",
       "13A48BD20CC3DD85    Georgia Ave & Emerson St NW         31405.0  38.947156   \n",
       "CA68C580B32EEE66                 14th & D St SE         31663.0  38.894804   \n",
       "5A925307814D5C2B  George Mason Dr & Wilson Blvd         31036.0  38.879477   \n",
       "B6B2DB54A2B233EE              Braddock Rd Metro         31047.0  38.798133   \n",
       "921A142D5C8A9759              Braddock Rd Metro         31047.0  38.814185   \n",
       "\n",
       "                  start_lng    end_lat    end_lng member_casual  \\\n",
       "ride_id                                                           \n",
       "13A48BD20CC3DD85 -77.065115  38.949662 -77.027333        casual   \n",
       "CA68C580B32EEE66 -77.023091  38.884053 -76.986043        member   \n",
       "5A925307814D5C2B -77.114563  38.878870 -77.120700        member   \n",
       "B6B2DB54A2B233EE -77.048700  38.814577 -77.052808        member   \n",
       "921A142D5C8A9759 -77.043809  38.814577 -77.052808        casual   \n",
       "\n",
       "                        duration  \n",
       "ride_id                           \n",
       "13A48BD20CC3DD85 0 days 00:26:35  \n",
       "CA68C580B32EEE66 0 days 00:18:01  \n",
       "5A925307814D5C2B 0 days 00:02:53  \n",
       "B6B2DB54A2B233EE 0 days 00:14:24  \n",
       "921A142D5C8A9759 0 days 00:10:30  "
      ]
     },
     "execution_count": 71,
     "metadata": {},
     "output_type": "execute_result"
    }
   ],
   "source": [
    "df = pd.read_csv('capital_bikeshare/2021/202101-capitalbikeshare-tripdata.csv',\n",
    "                  index_col='ride_id',\n",
    "                  parse_dates=['started_at', 'ended_at'])\n",
    "df['duration'] = df['ended_at'] - df['started_at']\n",
    "df.head()"
   ]
  },
  {
   "cell_type": "markdown",
   "id": "c6ea87d4",
   "metadata": {},
   "source": [
    "### Distance calculations"
   ]
  },
  {
   "cell_type": "code",
   "execution_count": 72,
   "id": "6fd50303",
   "metadata": {},
   "outputs": [
    {
     "data": {
      "text/html": [
       "<div>\n",
       "<style scoped>\n",
       "    .dataframe tbody tr th:only-of-type {\n",
       "        vertical-align: middle;\n",
       "    }\n",
       "\n",
       "    .dataframe tbody tr th {\n",
       "        vertical-align: top;\n",
       "    }\n",
       "\n",
       "    .dataframe thead th {\n",
       "        text-align: right;\n",
       "    }\n",
       "</style>\n",
       "<table border=\"1\" class=\"dataframe\">\n",
       "  <thead>\n",
       "    <tr style=\"text-align: right;\">\n",
       "      <th></th>\n",
       "      <th>rideable_type</th>\n",
       "      <th>started_at</th>\n",
       "      <th>ended_at</th>\n",
       "      <th>start_station_name</th>\n",
       "      <th>start_station_id</th>\n",
       "      <th>end_station_name</th>\n",
       "      <th>end_station_id</th>\n",
       "      <th>start_lat</th>\n",
       "      <th>start_lng</th>\n",
       "      <th>end_lat</th>\n",
       "      <th>end_lng</th>\n",
       "      <th>member_casual</th>\n",
       "      <th>duration</th>\n",
       "      <th>distance</th>\n",
       "    </tr>\n",
       "    <tr>\n",
       "      <th>ride_id</th>\n",
       "      <th></th>\n",
       "      <th></th>\n",
       "      <th></th>\n",
       "      <th></th>\n",
       "      <th></th>\n",
       "      <th></th>\n",
       "      <th></th>\n",
       "      <th></th>\n",
       "      <th></th>\n",
       "      <th></th>\n",
       "      <th></th>\n",
       "      <th></th>\n",
       "      <th></th>\n",
       "      <th></th>\n",
       "    </tr>\n",
       "  </thead>\n",
       "  <tbody>\n",
       "    <tr>\n",
       "      <th>13A48BD20CC3DD85</th>\n",
       "      <td>classic_bike</td>\n",
       "      <td>2021-01-08 17:58:48</td>\n",
       "      <td>2021-01-08 18:25:23</td>\n",
       "      <td>Connecticut Ave &amp; Yuma St NW</td>\n",
       "      <td>31318.0</td>\n",
       "      <td>Georgia Ave &amp; Emerson St NW</td>\n",
       "      <td>31405.0</td>\n",
       "      <td>38.947156</td>\n",
       "      <td>-77.065115</td>\n",
       "      <td>38.949662</td>\n",
       "      <td>-77.027333</td>\n",
       "      <td>casual</td>\n",
       "      <td>0 days 00:26:35</td>\n",
       "      <td>2.042502</td>\n",
       "    </tr>\n",
       "    <tr>\n",
       "      <th>CA68C580B32EEE66</th>\n",
       "      <td>electric_bike</td>\n",
       "      <td>2021-01-08 22:05:51</td>\n",
       "      <td>2021-01-08 22:23:52</td>\n",
       "      <td>8th &amp; D St NW</td>\n",
       "      <td>31270.0</td>\n",
       "      <td>14th &amp; D St SE</td>\n",
       "      <td>31663.0</td>\n",
       "      <td>38.894804</td>\n",
       "      <td>-77.023091</td>\n",
       "      <td>38.884053</td>\n",
       "      <td>-76.986043</td>\n",
       "      <td>member</td>\n",
       "      <td>0 days 00:18:01</td>\n",
       "      <td>2.130540</td>\n",
       "    </tr>\n",
       "    <tr>\n",
       "      <th>5A925307814D5C2B</th>\n",
       "      <td>classic_bike</td>\n",
       "      <td>2021-01-21 17:20:31</td>\n",
       "      <td>2021-01-21 17:23:24</td>\n",
       "      <td>Wilson Blvd. &amp; N. Vermont St.</td>\n",
       "      <td>31926.0</td>\n",
       "      <td>George Mason Dr &amp; Wilson Blvd</td>\n",
       "      <td>31036.0</td>\n",
       "      <td>38.879477</td>\n",
       "      <td>-77.114563</td>\n",
       "      <td>38.878870</td>\n",
       "      <td>-77.120700</td>\n",
       "      <td>member</td>\n",
       "      <td>0 days 00:02:53</td>\n",
       "      <td>0.333518</td>\n",
       "    </tr>\n",
       "    <tr>\n",
       "      <th>B6B2DB54A2B233EE</th>\n",
       "      <td>classic_bike</td>\n",
       "      <td>2021-01-28 10:06:30</td>\n",
       "      <td>2021-01-28 10:20:54</td>\n",
       "      <td>Franklin St &amp; S Washington St</td>\n",
       "      <td>31907.0</td>\n",
       "      <td>Braddock Rd Metro</td>\n",
       "      <td>31047.0</td>\n",
       "      <td>38.798133</td>\n",
       "      <td>-77.048700</td>\n",
       "      <td>38.814577</td>\n",
       "      <td>-77.052808</td>\n",
       "      <td>member</td>\n",
       "      <td>0 days 00:14:24</td>\n",
       "      <td>1.155767</td>\n",
       "    </tr>\n",
       "    <tr>\n",
       "      <th>921A142D5C8A9759</th>\n",
       "      <td>classic_bike</td>\n",
       "      <td>2021-01-11 12:09:45</td>\n",
       "      <td>2021-01-11 12:20:15</td>\n",
       "      <td>St. Asaph &amp; Montgomery St</td>\n",
       "      <td>31931.0</td>\n",
       "      <td>Braddock Rd Metro</td>\n",
       "      <td>31047.0</td>\n",
       "      <td>38.814185</td>\n",
       "      <td>-77.043809</td>\n",
       "      <td>38.814577</td>\n",
       "      <td>-77.052808</td>\n",
       "      <td>casual</td>\n",
       "      <td>0 days 00:10:30</td>\n",
       "      <td>0.486406</td>\n",
       "    </tr>\n",
       "  </tbody>\n",
       "</table>\n",
       "</div>"
      ],
      "text/plain": [
       "                  rideable_type          started_at            ended_at  \\\n",
       "ride_id                                                                   \n",
       "13A48BD20CC3DD85   classic_bike 2021-01-08 17:58:48 2021-01-08 18:25:23   \n",
       "CA68C580B32EEE66  electric_bike 2021-01-08 22:05:51 2021-01-08 22:23:52   \n",
       "5A925307814D5C2B   classic_bike 2021-01-21 17:20:31 2021-01-21 17:23:24   \n",
       "B6B2DB54A2B233EE   classic_bike 2021-01-28 10:06:30 2021-01-28 10:20:54   \n",
       "921A142D5C8A9759   classic_bike 2021-01-11 12:09:45 2021-01-11 12:20:15   \n",
       "\n",
       "                             start_station_name  start_station_id  \\\n",
       "ride_id                                                             \n",
       "13A48BD20CC3DD85   Connecticut Ave & Yuma St NW           31318.0   \n",
       "CA68C580B32EEE66                  8th & D St NW           31270.0   \n",
       "5A925307814D5C2B  Wilson Blvd. & N. Vermont St.           31926.0   \n",
       "B6B2DB54A2B233EE  Franklin St & S Washington St           31907.0   \n",
       "921A142D5C8A9759      St. Asaph & Montgomery St           31931.0   \n",
       "\n",
       "                               end_station_name  end_station_id  start_lat  \\\n",
       "ride_id                                                                      \n",
       "13A48BD20CC3DD85    Georgia Ave & Emerson St NW         31405.0  38.947156   \n",
       "CA68C580B32EEE66                 14th & D St SE         31663.0  38.894804   \n",
       "5A925307814D5C2B  George Mason Dr & Wilson Blvd         31036.0  38.879477   \n",
       "B6B2DB54A2B233EE              Braddock Rd Metro         31047.0  38.798133   \n",
       "921A142D5C8A9759              Braddock Rd Metro         31047.0  38.814185   \n",
       "\n",
       "                  start_lng    end_lat    end_lng member_casual  \\\n",
       "ride_id                                                           \n",
       "13A48BD20CC3DD85 -77.065115  38.949662 -77.027333        casual   \n",
       "CA68C580B32EEE66 -77.023091  38.884053 -76.986043        member   \n",
       "5A925307814D5C2B -77.114563  38.878870 -77.120700        member   \n",
       "B6B2DB54A2B233EE -77.048700  38.814577 -77.052808        member   \n",
       "921A142D5C8A9759 -77.043809  38.814577 -77.052808        casual   \n",
       "\n",
       "                        duration  distance  \n",
       "ride_id                                     \n",
       "13A48BD20CC3DD85 0 days 00:26:35  2.042502  \n",
       "CA68C580B32EEE66 0 days 00:18:01  2.130540  \n",
       "5A925307814D5C2B 0 days 00:02:53  0.333518  \n",
       "B6B2DB54A2B233EE 0 days 00:14:24  1.155767  \n",
       "921A142D5C8A9759 0 days 00:10:30  0.486406  "
      ]
     },
     "execution_count": 72,
     "metadata": {},
     "output_type": "execute_result"
    }
   ],
   "source": [
    "def compute_distance(row):\n",
    "    start_lat = row['start_lat']\n",
    "    start_lng = row['start_lng']\n",
    "    end_lat = row['end_lat']\n",
    "    end_lng = row['end_lng']\n",
    "    if (math.isnan(start_lat) or\n",
    "        math.isnan(start_lng) or\n",
    "        math.isnan(end_lat) or\n",
    "        math.isnan(end_lng)):\n",
    "        return 0\n",
    "    else:\n",
    "        start_coords = (row['start_lat'], row['start_lng'])\n",
    "        end_coords = (row['end_lat'], row['end_lng'])\n",
    "        linear_distance = distance.distance(start_coords, end_coords).miles\n",
    "        return linear_distance\n",
    "    \n",
    "df['distance'] = df.apply(compute_distance, axis=1)\n",
    "df.head()"
   ]
  },
  {
   "cell_type": "markdown",
   "id": "4ad76897",
   "metadata": {},
   "source": [
    "### Filtering to Jan 6th"
   ]
  },
  {
   "cell_type": "code",
   "execution_count": 73,
   "id": "f5d25fb1",
   "metadata": {
    "scrolled": false
   },
   "outputs": [
    {
     "name": "stdout",
     "output_type": "stream",
     "text": [
      "Number of rides:  3112\n"
     ]
    },
    {
     "data": {
      "text/html": [
       "<div>\n",
       "<style scoped>\n",
       "    .dataframe tbody tr th:only-of-type {\n",
       "        vertical-align: middle;\n",
       "    }\n",
       "\n",
       "    .dataframe tbody tr th {\n",
       "        vertical-align: top;\n",
       "    }\n",
       "\n",
       "    .dataframe thead th {\n",
       "        text-align: right;\n",
       "    }\n",
       "</style>\n",
       "<table border=\"1\" class=\"dataframe\">\n",
       "  <thead>\n",
       "    <tr style=\"text-align: right;\">\n",
       "      <th></th>\n",
       "      <th>rideable_type</th>\n",
       "      <th>started_at</th>\n",
       "      <th>ended_at</th>\n",
       "      <th>start_station_name</th>\n",
       "      <th>start_station_id</th>\n",
       "      <th>end_station_name</th>\n",
       "      <th>end_station_id</th>\n",
       "      <th>start_lat</th>\n",
       "      <th>start_lng</th>\n",
       "      <th>end_lat</th>\n",
       "      <th>end_lng</th>\n",
       "      <th>member_casual</th>\n",
       "      <th>duration</th>\n",
       "      <th>distance</th>\n",
       "    </tr>\n",
       "    <tr>\n",
       "      <th>ride_id</th>\n",
       "      <th></th>\n",
       "      <th></th>\n",
       "      <th></th>\n",
       "      <th></th>\n",
       "      <th></th>\n",
       "      <th></th>\n",
       "      <th></th>\n",
       "      <th></th>\n",
       "      <th></th>\n",
       "      <th></th>\n",
       "      <th></th>\n",
       "      <th></th>\n",
       "      <th></th>\n",
       "      <th></th>\n",
       "    </tr>\n",
       "  </thead>\n",
       "  <tbody>\n",
       "    <tr>\n",
       "      <th>AD05D8DF7A100DF8</th>\n",
       "      <td>electric_bike</td>\n",
       "      <td>2021-01-06 00:00:11</td>\n",
       "      <td>2021-01-06 00:00:19</td>\n",
       "      <td>NaN</td>\n",
       "      <td>NaN</td>\n",
       "      <td>NaN</td>\n",
       "      <td>NaN</td>\n",
       "      <td>38.890000</td>\n",
       "      <td>-77.020000</td>\n",
       "      <td>38.890000</td>\n",
       "      <td>-77.020000</td>\n",
       "      <td>casual</td>\n",
       "      <td>0 days 00:00:08</td>\n",
       "      <td>0.000000</td>\n",
       "    </tr>\n",
       "    <tr>\n",
       "      <th>BEEA4E88A5B3CF50</th>\n",
       "      <td>electric_bike</td>\n",
       "      <td>2021-01-06 00:01:11</td>\n",
       "      <td>2021-01-06 01:33:39</td>\n",
       "      <td>NaN</td>\n",
       "      <td>NaN</td>\n",
       "      <td>NaN</td>\n",
       "      <td>NaN</td>\n",
       "      <td>38.890000</td>\n",
       "      <td>-77.020000</td>\n",
       "      <td>38.720000</td>\n",
       "      <td>-77.130000</td>\n",
       "      <td>casual</td>\n",
       "      <td>0 days 01:32:28</td>\n",
       "      <td>13.143878</td>\n",
       "    </tr>\n",
       "    <tr>\n",
       "      <th>EE2160FF46930814</th>\n",
       "      <td>classic_bike</td>\n",
       "      <td>2021-01-06 00:02:47</td>\n",
       "      <td>2021-01-06 00:13:06</td>\n",
       "      <td>New York Ave &amp; 15th St NW</td>\n",
       "      <td>31222.0</td>\n",
       "      <td>Lincoln Memorial</td>\n",
       "      <td>31258.0</td>\n",
       "      <td>38.899032</td>\n",
       "      <td>-77.033354</td>\n",
       "      <td>38.888255</td>\n",
       "      <td>-77.049436</td>\n",
       "      <td>casual</td>\n",
       "      <td>0 days 00:10:19</td>\n",
       "      <td>1.142067</td>\n",
       "    </tr>\n",
       "    <tr>\n",
       "      <th>EDA37AF959558534</th>\n",
       "      <td>classic_bike</td>\n",
       "      <td>2021-01-06 00:02:53</td>\n",
       "      <td>2021-01-06 00:25:25</td>\n",
       "      <td>14th St &amp; New York Ave NW</td>\n",
       "      <td>31216.0</td>\n",
       "      <td>4th &amp; E St SW</td>\n",
       "      <td>31244.0</td>\n",
       "      <td>38.899632</td>\n",
       "      <td>-77.031686</td>\n",
       "      <td>38.884120</td>\n",
       "      <td>-77.017445</td>\n",
       "      <td>casual</td>\n",
       "      <td>0 days 00:22:32</td>\n",
       "      <td>1.316946</td>\n",
       "    </tr>\n",
       "    <tr>\n",
       "      <th>246BCE84FB4638FB</th>\n",
       "      <td>classic_bike</td>\n",
       "      <td>2021-01-06 00:03:47</td>\n",
       "      <td>2021-01-06 01:13:40</td>\n",
       "      <td>14th St &amp; New York Ave NW</td>\n",
       "      <td>31216.0</td>\n",
       "      <td>1st &amp; M St NE</td>\n",
       "      <td>31603.0</td>\n",
       "      <td>38.899632</td>\n",
       "      <td>-77.031686</td>\n",
       "      <td>38.905697</td>\n",
       "      <td>-77.005483</td>\n",
       "      <td>casual</td>\n",
       "      <td>0 days 01:09:53</td>\n",
       "      <td>1.473025</td>\n",
       "    </tr>\n",
       "  </tbody>\n",
       "</table>\n",
       "</div>"
      ],
      "text/plain": [
       "                  rideable_type          started_at            ended_at  \\\n",
       "ride_id                                                                   \n",
       "AD05D8DF7A100DF8  electric_bike 2021-01-06 00:00:11 2021-01-06 00:00:19   \n",
       "BEEA4E88A5B3CF50  electric_bike 2021-01-06 00:01:11 2021-01-06 01:33:39   \n",
       "EE2160FF46930814   classic_bike 2021-01-06 00:02:47 2021-01-06 00:13:06   \n",
       "EDA37AF959558534   classic_bike 2021-01-06 00:02:53 2021-01-06 00:25:25   \n",
       "246BCE84FB4638FB   classic_bike 2021-01-06 00:03:47 2021-01-06 01:13:40   \n",
       "\n",
       "                         start_station_name  start_station_id  \\\n",
       "ride_id                                                         \n",
       "AD05D8DF7A100DF8                        NaN               NaN   \n",
       "BEEA4E88A5B3CF50                        NaN               NaN   \n",
       "EE2160FF46930814  New York Ave & 15th St NW           31222.0   \n",
       "EDA37AF959558534  14th St & New York Ave NW           31216.0   \n",
       "246BCE84FB4638FB  14th St & New York Ave NW           31216.0   \n",
       "\n",
       "                  end_station_name  end_station_id  start_lat  start_lng  \\\n",
       "ride_id                                                                    \n",
       "AD05D8DF7A100DF8               NaN             NaN  38.890000 -77.020000   \n",
       "BEEA4E88A5B3CF50               NaN             NaN  38.890000 -77.020000   \n",
       "EE2160FF46930814  Lincoln Memorial         31258.0  38.899032 -77.033354   \n",
       "EDA37AF959558534     4th & E St SW         31244.0  38.899632 -77.031686   \n",
       "246BCE84FB4638FB     1st & M St NE         31603.0  38.899632 -77.031686   \n",
       "\n",
       "                    end_lat    end_lng member_casual        duration  \\\n",
       "ride_id                                                                \n",
       "AD05D8DF7A100DF8  38.890000 -77.020000        casual 0 days 00:00:08   \n",
       "BEEA4E88A5B3CF50  38.720000 -77.130000        casual 0 days 01:32:28   \n",
       "EE2160FF46930814  38.888255 -77.049436        casual 0 days 00:10:19   \n",
       "EDA37AF959558534  38.884120 -77.017445        casual 0 days 00:22:32   \n",
       "246BCE84FB4638FB  38.905697 -77.005483        casual 0 days 01:09:53   \n",
       "\n",
       "                   distance  \n",
       "ride_id                      \n",
       "AD05D8DF7A100DF8   0.000000  \n",
       "BEEA4E88A5B3CF50  13.143878  \n",
       "EE2160FF46930814   1.142067  \n",
       "EDA37AF959558534   1.316946  \n",
       "246BCE84FB4638FB   1.473025  "
      ]
     },
     "execution_count": 73,
     "metadata": {},
     "output_type": "execute_result"
    }
   ],
   "source": [
    "jan6_df = df.loc[(df['started_at'] > '2021-01-05 23:59:59') & (df['started_at'] < '2021-01-07 00:00:01')]\n",
    "jan6_df = jan6_df.sort_values(by='started_at')\n",
    "print(\"Number of rides: \", len(jan6_df))\n",
    "jan6_df.head()"
   ]
  },
  {
   "cell_type": "markdown",
   "id": "c02b05e0",
   "metadata": {},
   "source": [
    "### Rough Jan 6th Timeline (fill in more later)\n",
    "12 pm: Trump rally at the Ellipse\n",
    "12:30 pm: large crowds outside Capitol\n",
    "1 pm: outer Capitol barricades broken down\n",
    "1:10 pm: end of Trump speech\n",
    "2:12 pm: Capitol building breached"
   ]
  },
  {
   "cell_type": "markdown",
   "id": "76630c07",
   "metadata": {},
   "source": [
    "### Capital Bikeshare stations of interest\n",
    "#### Near Capitol:\n",
    "Constitution Ave & 2nd St NW/DOL\n",
    "Washington & Independence Ave SW/HHS\n",
    "1st & D St SE\n",
    "3rd St & Pennsylvania Ave SE\n",
    "3rd & D St SE\n",
    "4th & East Capitol St NE\n",
    "2nd St & Massachusetts Ave NE\n",
    "Columbus Circle / Union Station"
   ]
  },
  {
   "cell_type": "code",
   "execution_count": 109,
   "id": "f9b05a02",
   "metadata": {
    "scrolled": false
   },
   "outputs": [
    {
     "name": "stdout",
     "output_type": "stream",
     "text": [
      "Number of rides arriving near Capitol around breach:  80\n"
     ]
    },
    {
     "data": {
      "text/html": [
       "<div>\n",
       "<style scoped>\n",
       "    .dataframe tbody tr th:only-of-type {\n",
       "        vertical-align: middle;\n",
       "    }\n",
       "\n",
       "    .dataframe tbody tr th {\n",
       "        vertical-align: top;\n",
       "    }\n",
       "\n",
       "    .dataframe thead th {\n",
       "        text-align: right;\n",
       "    }\n",
       "</style>\n",
       "<table border=\"1\" class=\"dataframe\">\n",
       "  <thead>\n",
       "    <tr style=\"text-align: right;\">\n",
       "      <th></th>\n",
       "      <th>rideable_type</th>\n",
       "      <th>started_at</th>\n",
       "      <th>ended_at</th>\n",
       "      <th>start_station_name</th>\n",
       "      <th>start_station_id</th>\n",
       "      <th>end_station_name</th>\n",
       "      <th>end_station_id</th>\n",
       "      <th>start_lat</th>\n",
       "      <th>start_lng</th>\n",
       "      <th>end_lat</th>\n",
       "      <th>end_lng</th>\n",
       "      <th>member_casual</th>\n",
       "      <th>duration</th>\n",
       "      <th>distance</th>\n",
       "    </tr>\n",
       "    <tr>\n",
       "      <th>ride_id</th>\n",
       "      <th></th>\n",
       "      <th></th>\n",
       "      <th></th>\n",
       "      <th></th>\n",
       "      <th></th>\n",
       "      <th></th>\n",
       "      <th></th>\n",
       "      <th></th>\n",
       "      <th></th>\n",
       "      <th></th>\n",
       "      <th></th>\n",
       "      <th></th>\n",
       "      <th></th>\n",
       "      <th></th>\n",
       "    </tr>\n",
       "  </thead>\n",
       "  <tbody>\n",
       "    <tr>\n",
       "      <th>173E7E5F9EFDC7A6</th>\n",
       "      <td>classic_bike</td>\n",
       "      <td>2021-01-06 10:00:32</td>\n",
       "      <td>2021-01-06 10:18:13</td>\n",
       "      <td>17th &amp; K St NW / Farragut Square</td>\n",
       "      <td>31233.0</td>\n",
       "      <td>1st &amp; D St SE</td>\n",
       "      <td>31643.0</td>\n",
       "      <td>38.902061</td>\n",
       "      <td>-77.038322</td>\n",
       "      <td>38.884916</td>\n",
       "      <td>-77.005965</td>\n",
       "      <td>member</td>\n",
       "      <td>0 days 00:17:41</td>\n",
       "      <td>2.107432</td>\n",
       "    </tr>\n",
       "    <tr>\n",
       "      <th>ACBBC1601E36FAC6</th>\n",
       "      <td>docked_bike</td>\n",
       "      <td>2021-01-06 10:02:36</td>\n",
       "      <td>2021-01-06 10:11:05</td>\n",
       "      <td>4th &amp; East Capitol St NE</td>\n",
       "      <td>31618.0</td>\n",
       "      <td>Washington &amp; Independence Ave SW/HHS</td>\n",
       "      <td>31272.0</td>\n",
       "      <td>38.889955</td>\n",
       "      <td>-77.000349</td>\n",
       "      <td>38.886978</td>\n",
       "      <td>-77.013769</td>\n",
       "      <td>casual</td>\n",
       "      <td>0 days 00:08:29</td>\n",
       "      <td>0.752072</td>\n",
       "    </tr>\n",
       "    <tr>\n",
       "      <th>35C0FC9C81E0E045</th>\n",
       "      <td>classic_bike</td>\n",
       "      <td>2021-01-06 10:12:18</td>\n",
       "      <td>2021-01-06 11:22:04</td>\n",
       "      <td>7th &amp; F St NW / National Portrait Gallery</td>\n",
       "      <td>31232.0</td>\n",
       "      <td>Constitution Ave &amp; 2nd St NW/DOL</td>\n",
       "      <td>31271.0</td>\n",
       "      <td>38.897283</td>\n",
       "      <td>-77.022191</td>\n",
       "      <td>38.892275</td>\n",
       "      <td>-77.013917</td>\n",
       "      <td>casual</td>\n",
       "      <td>0 days 01:09:46</td>\n",
       "      <td>0.564149</td>\n",
       "    </tr>\n",
       "    <tr>\n",
       "      <th>4C414A4C607CAA03</th>\n",
       "      <td>classic_bike</td>\n",
       "      <td>2021-01-06 10:12:56</td>\n",
       "      <td>2021-01-06 10:15:40</td>\n",
       "      <td>Eastern Market Metro / Pennsylvania Ave &amp; 8th ...</td>\n",
       "      <td>31613.0</td>\n",
       "      <td>3rd St &amp; Pennsylvania Ave SE</td>\n",
       "      <td>31269.0</td>\n",
       "      <td>38.884260</td>\n",
       "      <td>-76.994736</td>\n",
       "      <td>38.887378</td>\n",
       "      <td>-77.001955</td>\n",
       "      <td>member</td>\n",
       "      <td>0 days 00:02:44</td>\n",
       "      <td>0.444693</td>\n",
       "    </tr>\n",
       "    <tr>\n",
       "      <th>79421F72B841B97C</th>\n",
       "      <td>classic_bike</td>\n",
       "      <td>2021-01-06 10:12:57</td>\n",
       "      <td>2021-01-06 12:58:14</td>\n",
       "      <td>3rd &amp; G St SE</td>\n",
       "      <td>31625.0</td>\n",
       "      <td>Washington &amp; Independence Ave SW/HHS</td>\n",
       "      <td>31272.0</td>\n",
       "      <td>38.881185</td>\n",
       "      <td>-77.001828</td>\n",
       "      <td>38.886978</td>\n",
       "      <td>-77.013769</td>\n",
       "      <td>casual</td>\n",
       "      <td>0 days 02:45:17</td>\n",
       "      <td>0.757732</td>\n",
       "    </tr>\n",
       "    <tr>\n",
       "      <th>...</th>\n",
       "      <td>...</td>\n",
       "      <td>...</td>\n",
       "      <td>...</td>\n",
       "      <td>...</td>\n",
       "      <td>...</td>\n",
       "      <td>...</td>\n",
       "      <td>...</td>\n",
       "      <td>...</td>\n",
       "      <td>...</td>\n",
       "      <td>...</td>\n",
       "      <td>...</td>\n",
       "      <td>...</td>\n",
       "      <td>...</td>\n",
       "      <td>...</td>\n",
       "    </tr>\n",
       "    <tr>\n",
       "      <th>1272A1E4384B7F49</th>\n",
       "      <td>classic_bike</td>\n",
       "      <td>2021-01-06 14:44:30</td>\n",
       "      <td>2021-01-06 15:06:08</td>\n",
       "      <td>North Capitol St &amp; F St NW</td>\n",
       "      <td>31624.0</td>\n",
       "      <td>3rd St &amp; Pennsylvania Ave SE</td>\n",
       "      <td>31269.0</td>\n",
       "      <td>38.897446</td>\n",
       "      <td>-77.009888</td>\n",
       "      <td>38.887378</td>\n",
       "      <td>-77.001955</td>\n",
       "      <td>casual</td>\n",
       "      <td>0 days 00:21:38</td>\n",
       "      <td>0.815607</td>\n",
       "    </tr>\n",
       "    <tr>\n",
       "      <th>298526AC59437AA1</th>\n",
       "      <td>classic_bike</td>\n",
       "      <td>2021-01-06 14:47:42</td>\n",
       "      <td>2021-01-06 14:59:15</td>\n",
       "      <td>New York Ave &amp; Hecht Ave NE</td>\n",
       "      <td>31518.0</td>\n",
       "      <td>Columbus Circle / Union Station</td>\n",
       "      <td>31623.0</td>\n",
       "      <td>38.915604</td>\n",
       "      <td>-76.983683</td>\n",
       "      <td>38.896960</td>\n",
       "      <td>-77.004930</td>\n",
       "      <td>member</td>\n",
       "      <td>0 days 00:11:33</td>\n",
       "      <td>1.722037</td>\n",
       "    </tr>\n",
       "    <tr>\n",
       "      <th>A61A3E412594CC82</th>\n",
       "      <td>classic_bike</td>\n",
       "      <td>2021-01-06 14:56:28</td>\n",
       "      <td>2021-01-06 15:19:14</td>\n",
       "      <td>Independence Ave &amp; L'Enfant Plaza SW/DOE</td>\n",
       "      <td>31633.0</td>\n",
       "      <td>Washington &amp; Independence Ave SW/HHS</td>\n",
       "      <td>31272.0</td>\n",
       "      <td>38.887312</td>\n",
       "      <td>-77.025762</td>\n",
       "      <td>38.886978</td>\n",
       "      <td>-77.013769</td>\n",
       "      <td>casual</td>\n",
       "      <td>0 days 00:22:46</td>\n",
       "      <td>0.646984</td>\n",
       "    </tr>\n",
       "    <tr>\n",
       "      <th>12EA08FC7531EFEA</th>\n",
       "      <td>classic_bike</td>\n",
       "      <td>2021-01-06 14:56:37</td>\n",
       "      <td>2021-01-06 15:13:13</td>\n",
       "      <td>4th &amp; D St NW / Judiciary Square</td>\n",
       "      <td>31621.0</td>\n",
       "      <td>4th &amp; East Capitol St NE</td>\n",
       "      <td>31618.0</td>\n",
       "      <td>38.895344</td>\n",
       "      <td>-77.016106</td>\n",
       "      <td>38.889955</td>\n",
       "      <td>-77.000349</td>\n",
       "      <td>member</td>\n",
       "      <td>0 days 00:16:36</td>\n",
       "      <td>0.927215</td>\n",
       "    </tr>\n",
       "    <tr>\n",
       "      <th>38E9F5CF1A15059D</th>\n",
       "      <td>classic_bike</td>\n",
       "      <td>2021-01-06 14:59:56</td>\n",
       "      <td>2021-01-06 15:12:30</td>\n",
       "      <td>Independence Ave &amp; L'Enfant Plaza SW/DOE</td>\n",
       "      <td>31633.0</td>\n",
       "      <td>Washington &amp; Independence Ave SW/HHS</td>\n",
       "      <td>31272.0</td>\n",
       "      <td>38.887312</td>\n",
       "      <td>-77.025762</td>\n",
       "      <td>38.886978</td>\n",
       "      <td>-77.013769</td>\n",
       "      <td>casual</td>\n",
       "      <td>0 days 00:12:34</td>\n",
       "      <td>0.646984</td>\n",
       "    </tr>\n",
       "  </tbody>\n",
       "</table>\n",
       "<p>80 rows × 14 columns</p>\n",
       "</div>"
      ],
      "text/plain": [
       "                 rideable_type          started_at            ended_at  \\\n",
       "ride_id                                                                  \n",
       "173E7E5F9EFDC7A6  classic_bike 2021-01-06 10:00:32 2021-01-06 10:18:13   \n",
       "ACBBC1601E36FAC6   docked_bike 2021-01-06 10:02:36 2021-01-06 10:11:05   \n",
       "35C0FC9C81E0E045  classic_bike 2021-01-06 10:12:18 2021-01-06 11:22:04   \n",
       "4C414A4C607CAA03  classic_bike 2021-01-06 10:12:56 2021-01-06 10:15:40   \n",
       "79421F72B841B97C  classic_bike 2021-01-06 10:12:57 2021-01-06 12:58:14   \n",
       "...                        ...                 ...                 ...   \n",
       "1272A1E4384B7F49  classic_bike 2021-01-06 14:44:30 2021-01-06 15:06:08   \n",
       "298526AC59437AA1  classic_bike 2021-01-06 14:47:42 2021-01-06 14:59:15   \n",
       "A61A3E412594CC82  classic_bike 2021-01-06 14:56:28 2021-01-06 15:19:14   \n",
       "12EA08FC7531EFEA  classic_bike 2021-01-06 14:56:37 2021-01-06 15:13:13   \n",
       "38E9F5CF1A15059D  classic_bike 2021-01-06 14:59:56 2021-01-06 15:12:30   \n",
       "\n",
       "                                                 start_station_name  \\\n",
       "ride_id                                                               \n",
       "173E7E5F9EFDC7A6                   17th & K St NW / Farragut Square   \n",
       "ACBBC1601E36FAC6                           4th & East Capitol St NE   \n",
       "35C0FC9C81E0E045          7th & F St NW / National Portrait Gallery   \n",
       "4C414A4C607CAA03  Eastern Market Metro / Pennsylvania Ave & 8th ...   \n",
       "79421F72B841B97C                                      3rd & G St SE   \n",
       "...                                                             ...   \n",
       "1272A1E4384B7F49                         North Capitol St & F St NW   \n",
       "298526AC59437AA1                        New York Ave & Hecht Ave NE   \n",
       "A61A3E412594CC82           Independence Ave & L'Enfant Plaza SW/DOE   \n",
       "12EA08FC7531EFEA                   4th & D St NW / Judiciary Square   \n",
       "38E9F5CF1A15059D           Independence Ave & L'Enfant Plaza SW/DOE   \n",
       "\n",
       "                  start_station_id                      end_station_name  \\\n",
       "ride_id                                                                    \n",
       "173E7E5F9EFDC7A6           31233.0                         1st & D St SE   \n",
       "ACBBC1601E36FAC6           31618.0  Washington & Independence Ave SW/HHS   \n",
       "35C0FC9C81E0E045           31232.0      Constitution Ave & 2nd St NW/DOL   \n",
       "4C414A4C607CAA03           31613.0          3rd St & Pennsylvania Ave SE   \n",
       "79421F72B841B97C           31625.0  Washington & Independence Ave SW/HHS   \n",
       "...                            ...                                   ...   \n",
       "1272A1E4384B7F49           31624.0          3rd St & Pennsylvania Ave SE   \n",
       "298526AC59437AA1           31518.0       Columbus Circle / Union Station   \n",
       "A61A3E412594CC82           31633.0  Washington & Independence Ave SW/HHS   \n",
       "12EA08FC7531EFEA           31621.0              4th & East Capitol St NE   \n",
       "38E9F5CF1A15059D           31633.0  Washington & Independence Ave SW/HHS   \n",
       "\n",
       "                  end_station_id  start_lat  start_lng    end_lat    end_lng  \\\n",
       "ride_id                                                                        \n",
       "173E7E5F9EFDC7A6         31643.0  38.902061 -77.038322  38.884916 -77.005965   \n",
       "ACBBC1601E36FAC6         31272.0  38.889955 -77.000349  38.886978 -77.013769   \n",
       "35C0FC9C81E0E045         31271.0  38.897283 -77.022191  38.892275 -77.013917   \n",
       "4C414A4C607CAA03         31269.0  38.884260 -76.994736  38.887378 -77.001955   \n",
       "79421F72B841B97C         31272.0  38.881185 -77.001828  38.886978 -77.013769   \n",
       "...                          ...        ...        ...        ...        ...   \n",
       "1272A1E4384B7F49         31269.0  38.897446 -77.009888  38.887378 -77.001955   \n",
       "298526AC59437AA1         31623.0  38.915604 -76.983683  38.896960 -77.004930   \n",
       "A61A3E412594CC82         31272.0  38.887312 -77.025762  38.886978 -77.013769   \n",
       "12EA08FC7531EFEA         31618.0  38.895344 -77.016106  38.889955 -77.000349   \n",
       "38E9F5CF1A15059D         31272.0  38.887312 -77.025762  38.886978 -77.013769   \n",
       "\n",
       "                 member_casual        duration  distance  \n",
       "ride_id                                                   \n",
       "173E7E5F9EFDC7A6        member 0 days 00:17:41  2.107432  \n",
       "ACBBC1601E36FAC6        casual 0 days 00:08:29  0.752072  \n",
       "35C0FC9C81E0E045        casual 0 days 01:09:46  0.564149  \n",
       "4C414A4C607CAA03        member 0 days 00:02:44  0.444693  \n",
       "79421F72B841B97C        casual 0 days 02:45:17  0.757732  \n",
       "...                        ...             ...       ...  \n",
       "1272A1E4384B7F49        casual 0 days 00:21:38  0.815607  \n",
       "298526AC59437AA1        member 0 days 00:11:33  1.722037  \n",
       "A61A3E412594CC82        casual 0 days 00:22:46  0.646984  \n",
       "12EA08FC7531EFEA        member 0 days 00:16:36  0.927215  \n",
       "38E9F5CF1A15059D        casual 0 days 00:12:34  0.646984  \n",
       "\n",
       "[80 rows x 14 columns]"
      ]
     },
     "execution_count": 109,
     "metadata": {},
     "output_type": "execute_result"
    }
   ],
   "source": [
    "stations_near_capitol = [\n",
    "    'Constitution Ave & 2nd St NW/DOL',\n",
    "    'Washington & Independence Ave SW/HHS',\n",
    "    '1st & D St SE',\n",
    "    '3rd St & Pennsylvania Ave SE',\n",
    "    '3rd & D St SE',\n",
    "    '4th & East Capitol St NE',\n",
    "    '2nd St & Massachusetts Ave NE',\n",
    "    'Columbus Circle / Union Station'\n",
    "]\n",
    "\n",
    "def filter_end_stations(input_df, station_list):\n",
    "    output_df = input_df[input_df['end_station_name'].isin(station_list)]\n",
    "    return output_df\n",
    "\n",
    "def filter_start_stations(input_df, station_list):\n",
    "    output_df = input_df[input_df['start_station_name'].isin(station_list)]\n",
    "    return output_df\n",
    "\n",
    "def filter_start_time(input_df, lower_bound, upper_bound):\n",
    "    output_df = input_df.loc[\n",
    "        (input_df['started_at'] > lower_bound) &\n",
    "        (capitol_arrivals_df['started_at'] < upper_bound)\n",
    "    ]\n",
    "    return output_df\n",
    "\n",
    "capitol_arrivals_df = filter_end_stations(jan6_df, stations_near_capitol)\n",
    "capitol_arrivals_df = filter_start_time(capitol_arrivals_df, '2021-01-06 10:00:00', '2021-01-06 15:00:00')\n",
    "\n",
    "print(\"Number of rides arriving near Capitol around breach: \", len(capitol_arrivals_df))\n",
    "capitol_arrivals_df"
   ]
  },
  {
   "cell_type": "markdown",
   "id": "ed624c9d",
   "metadata": {},
   "source": [
    "### Map filtered rides"
   ]
  },
  {
   "cell_type": "code",
   "execution_count": 106,
   "id": "38265306",
   "metadata": {},
   "outputs": [
    {
     "data": {
      "application/vnd.plotly.v1+json": {
       "config": {
        "plotlyServerURL": "https://plot.ly"
       },
       "data": [
        {
         "customdata": [
          [
           "2021-01-06T10:18:13",
           "P0DT0H17M41S"
          ],
          [
           "2021-01-06T10:11:05",
           "P0DT0H8M29S"
          ],
          [
           "2021-01-06T11:22:04",
           "P0DT1H9M46S"
          ],
          [
           "2021-01-06T10:15:40",
           "P0DT0H2M44S"
          ],
          [
           "2021-01-06T12:58:14",
           "P0DT2H45M17S"
          ],
          [
           "2021-01-06T12:57:46",
           "P0DT2H37M46S"
          ],
          [
           "2021-01-06T10:29:50",
           "P0DT0H6M52S"
          ],
          [
           "2021-01-06T10:52:41",
           "P0DT0H27M43S"
          ],
          [
           "2021-01-06T10:52:50",
           "P0DT0H27M38S"
          ],
          [
           "2021-01-06T10:58:26",
           "P0DT0H27M9S"
          ],
          [
           "2021-01-06T10:58:19",
           "P0DT0H25M49S"
          ],
          [
           "2021-01-06T12:59:01",
           "P0DT2H23M42S"
          ],
          [
           "2021-01-06T12:58:52",
           "P0DT2H23M3S"
          ],
          [
           "2021-01-06T10:45:16",
           "P0DT0H9M0S"
          ],
          [
           "2021-01-06T11:20:20",
           "P0DT0H40M11S"
          ],
          [
           "2021-01-06T13:43:47",
           "P0DT2H54M48S"
          ],
          [
           "2021-01-06T10:54:36",
           "P0DT0H3M59S"
          ],
          [
           "2021-01-06T18:33:57",
           "P0DT7H30M40S"
          ],
          [
           "2021-01-06T12:18:22",
           "P0DT1H10M54S"
          ],
          [
           "2021-01-06T11:12:58",
           "P0DT0H3M40S"
          ],
          [
           "2021-01-06T14:31:02",
           "P0DT3H19M37S"
          ],
          [
           "2021-01-06T14:31:06",
           "P0DT3H19M10S"
          ],
          [
           "2021-01-06T18:36:59",
           "P0DT7H23M48S"
          ],
          [
           "2021-01-06T11:43:30",
           "P0DT0H6M14S"
          ],
          [
           "2021-01-06T12:03:34",
           "P0DT0H25M4S"
          ],
          [
           "2021-01-06T12:03:34",
           "P0DT0H24M57S"
          ],
          [
           "2021-01-06T11:41:32",
           "P0DT0H2M23S"
          ],
          [
           "2021-01-06T11:57:02",
           "P0DT0H11M4S"
          ],
          [
           "2021-01-06T12:52:05",
           "P0DT1H4M47S"
          ],
          [
           "2021-01-06T12:49:56",
           "P0DT0H59M53S"
          ],
          [
           "2021-01-06T12:50:04",
           "P0DT0H52M20S"
          ],
          [
           "2021-01-06T12:38:57",
           "P0DT0H31M26S"
          ],
          [
           "2021-01-06T12:22:59",
           "P0DT0H14M15S"
          ],
          [
           "2021-01-06T12:23:03",
           "P0DT0H13M42S"
          ],
          [
           "2021-01-06T12:30:24",
           "P0DT0H19M44S"
          ],
          [
           "2021-01-06T15:17:22",
           "P0DT3H6M3S"
          ],
          [
           "2021-01-06T13:02:01",
           "P0DT0H49M37S"
          ],
          [
           "2021-01-06T12:30:21",
           "P0DT0H12M0S"
          ],
          [
           "2021-01-06T12:41:45",
           "P0DT0H14M33S"
          ],
          [
           "2021-01-06T12:59:02",
           "P0DT0H31M6S"
          ],
          [
           "2021-01-06T12:43:18",
           "P0DT0H9M7S"
          ],
          [
           "2021-01-06T12:42:30",
           "P0DT0H0M8S"
          ],
          [
           "2021-01-06T13:14:21",
           "P0DT0H19M3S"
          ],
          [
           "2021-01-06T13:07:14",
           "P0DT0H7M59S"
          ],
          [
           "2021-01-06T13:01:00",
           "P0DT0H0M6S"
          ],
          [
           "2021-01-06T14:12:37",
           "P0DT1H10M25S"
          ],
          [
           "2021-01-06T14:12:36",
           "P0DT1H10M1S"
          ],
          [
           "2021-01-06T14:12:46",
           "P0DT1H7M25S"
          ],
          [
           "2021-01-06T15:00:50",
           "P0DT1H48M18S"
          ],
          [
           "2021-01-06T16:10:22",
           "P0DT2H52M25S"
          ],
          [
           "2021-01-06T16:09:46",
           "P0DT2H51M49S"
          ],
          [
           "2021-01-06T15:02:13",
           "P0DT1H39M53S"
          ],
          [
           "2021-01-06T15:16:27",
           "P0DT1H45M47S"
          ],
          [
           "2021-01-06T13:58:10",
           "P0DT0H23M43S"
          ],
          [
           "2021-01-06T13:47:26",
           "P0DT0H6M42S"
          ],
          [
           "2021-01-06T13:47:38",
           "P0DT0H6M35S"
          ],
          [
           "2021-01-06T13:48:00",
           "P0DT0H0M14S"
          ],
          [
           "2021-01-06T13:57:13",
           "P0DT0H9M15S"
          ],
          [
           "2021-01-06T14:57:36",
           "P0DT1H5M41S"
          ],
          [
           "2021-01-06T14:47:09",
           "P0DT0H48M33S"
          ],
          [
           "2021-01-06T14:57:20",
           "P0DT0H56M11S"
          ],
          [
           "2021-01-06T14:16:32",
           "P0DT0H6M25S"
          ],
          [
           "2021-01-06T14:18:41",
           "P0DT0H6M48S"
          ],
          [
           "2021-01-06T14:56:06",
           "P0DT0H38M7S"
          ],
          [
           "2021-01-06T15:42:43",
           "P0DT1H22M18S"
          ],
          [
           "2021-01-06T14:43:13",
           "P0DT0H18M0S"
          ],
          [
           "2021-01-06T15:06:06",
           "P0DT0H39M34S"
          ],
          [
           "2021-01-06T14:36:50",
           "P0DT0H9M28S"
          ],
          [
           "2021-01-06T14:37:02",
           "P0DT0H9M17S"
          ],
          [
           "2021-01-06T14:39:47",
           "P0DT0H9M34S"
          ],
          [
           "2021-01-06T15:08:07",
           "P0DT0H29M35S"
          ],
          [
           "2021-01-06T15:08:05",
           "P0DT0H29M13S"
          ],
          [
           "2021-01-06T15:10:21",
           "P0DT0H30M45S"
          ],
          [
           "2021-01-06T15:12:21",
           "P0DT0H31M44S"
          ],
          [
           "2021-01-06T14:57:07",
           "P0DT0H15M54S"
          ],
          [
           "2021-01-06T15:06:08",
           "P0DT0H21M38S"
          ],
          [
           "2021-01-06T14:59:15",
           "P0DT0H11M33S"
          ],
          [
           "2021-01-06T15:19:14",
           "P0DT0H22M46S"
          ],
          [
           "2021-01-06T15:13:13",
           "P0DT0H16M36S"
          ],
          [
           "2021-01-06T15:12:30",
           "P0DT0H12M34S"
          ]
         ],
         "hovertemplate": "<b>%{hovertext}</b><br><br>end_lat=%{lat}<br>end_lng=%{lon}<br>ended_at=%{customdata[0]}<br>duration=%{customdata[1]}<extra></extra>",
         "hovertext": [
          "1st & D St SE",
          "Washington & Independence Ave SW/HHS",
          "Constitution Ave & 2nd St NW/DOL",
          "3rd St & Pennsylvania Ave SE",
          "Washington & Independence Ave SW/HHS",
          "Washington & Independence Ave SW/HHS",
          "1st & D St SE",
          "Constitution Ave & 2nd St NW/DOL",
          "Constitution Ave & 2nd St NW/DOL",
          "Constitution Ave & 2nd St NW/DOL",
          "Constitution Ave & 2nd St NW/DOL",
          "Constitution Ave & 2nd St NW/DOL",
          "Constitution Ave & 2nd St NW/DOL",
          "Washington & Independence Ave SW/HHS",
          "Constitution Ave & 2nd St NW/DOL",
          "Columbus Circle / Union Station",
          "3rd & D St SE",
          "Columbus Circle / Union Station",
          "1st & D St SE",
          "Washington & Independence Ave SW/HHS",
          "Constitution Ave & 2nd St NW/DOL",
          "Constitution Ave & 2nd St NW/DOL",
          "Columbus Circle / Union Station",
          "2nd St & Massachusetts Ave NE",
          "Constitution Ave & 2nd St NW/DOL",
          "Constitution Ave & 2nd St NW/DOL",
          "4th & East Capitol St NE",
          "Constitution Ave & 2nd St NW/DOL",
          "Columbus Circle / Union Station",
          "Constitution Ave & 2nd St NW/DOL",
          "Constitution Ave & 2nd St NW/DOL",
          "Constitution Ave & 2nd St NW/DOL",
          "Constitution Ave & 2nd St NW/DOL",
          "Constitution Ave & 2nd St NW/DOL",
          "Constitution Ave & 2nd St NW/DOL",
          "2nd St & Massachusetts Ave NE",
          "4th & East Capitol St NE",
          "Constitution Ave & 2nd St NW/DOL",
          "1st & D St SE",
          "Constitution Ave & 2nd St NW/DOL",
          "3rd St & Pennsylvania Ave SE",
          "1st & D St SE",
          "Constitution Ave & 2nd St NW/DOL",
          "4th & East Capitol St NE",
          "Washington & Independence Ave SW/HHS",
          "Constitution Ave & 2nd St NW/DOL",
          "Constitution Ave & 2nd St NW/DOL",
          "Constitution Ave & 2nd St NW/DOL",
          "Columbus Circle / Union Station",
          "4th & East Capitol St NE",
          "4th & East Capitol St NE",
          "4th & East Capitol St NE",
          "Washington & Independence Ave SW/HHS",
          "Constitution Ave & 2nd St NW/DOL",
          "3rd St & Pennsylvania Ave SE",
          "3rd & D St SE",
          "3rd St & Pennsylvania Ave SE",
          "Columbus Circle / Union Station",
          "Columbus Circle / Union Station",
          "Constitution Ave & 2nd St NW/DOL",
          "Columbus Circle / Union Station",
          "Constitution Ave & 2nd St NW/DOL",
          "Constitution Ave & 2nd St NW/DOL",
          "3rd St & Pennsylvania Ave SE",
          "Constitution Ave & 2nd St NW/DOL",
          "Constitution Ave & 2nd St NW/DOL",
          "Columbus Circle / Union Station",
          "Washington & Independence Ave SW/HHS",
          "Washington & Independence Ave SW/HHS",
          "Columbus Circle / Union Station",
          "4th & East Capitol St NE",
          "4th & East Capitol St NE",
          "Constitution Ave & 2nd St NW/DOL",
          "Constitution Ave & 2nd St NW/DOL",
          "Constitution Ave & 2nd St NW/DOL",
          "3rd St & Pennsylvania Ave SE",
          "Columbus Circle / Union Station",
          "Washington & Independence Ave SW/HHS",
          "4th & East Capitol St NE",
          "Washington & Independence Ave SW/HHS"
         ],
         "lat": [
          38.884916,
          38.886978,
          38.892275,
          38.887378,
          38.886978,
          38.886978,
          38.88467333333333,
          38.892275,
          38.892275,
          38.892275,
          38.892275,
          38.892275,
          38.892275,
          38.886978,
          38.892275,
          38.89696,
          38.8851,
          38.89696,
          38.884916,
          38.886978,
          38.892275,
          38.892275,
          38.89696,
          38.894972,
          38.892275,
          38.892275,
          38.889955,
          38.892275,
          38.89696,
          38.892275,
          38.892275,
          38.892275,
          38.892275,
          38.892275,
          38.892275,
          38.894972,
          38.8899305,
          38.892275,
          38.884916,
          38.892275,
          38.887378,
          38.884944833333336,
          38.892275,
          38.889955,
          38.886978,
          38.892275,
          38.892275,
          38.892275,
          38.89696,
          38.889955,
          38.889955,
          38.889955,
          38.886978,
          38.892275,
          38.887378,
          38.8851,
          38.887378,
          38.89696,
          38.89696,
          38.892275,
          38.89696,
          38.892275,
          38.892275,
          38.887378,
          38.892275,
          38.892275,
          38.89696,
          38.886978,
          38.886978,
          38.89699783333333,
          38.889955,
          38.889955,
          38.892275,
          38.892275,
          38.892275,
          38.887378,
          38.89696,
          38.886978,
          38.889955,
          38.886978
         ],
         "legendgroup": "",
         "lon": [
          -77.005965,
          -77.013769,
          -77.013917,
          -77.001955,
          -77.013769,
          -77.013769,
          -77.0059595,
          -77.013917,
          -77.013917,
          -77.013917,
          -77.013917,
          -77.013917,
          -77.013917,
          -77.013769,
          -77.013917,
          -77.00493,
          -77.0023,
          -77.00493,
          -77.005965,
          -77.013769,
          -77.013917,
          -77.013917,
          -77.00493,
          -77.003135,
          -77.013917,
          -77.013917,
          -77.000349,
          -77.013917,
          -77.00493,
          -77.013917,
          -77.013917,
          -77.013917,
          -77.013917,
          -77.013917,
          -77.013917,
          -77.003135,
          -77.000412,
          -77.013917,
          -77.005965,
          -77.013917,
          -77.001955,
          -77.005955,
          -77.013917,
          -77.000349,
          -77.013769,
          -77.013917,
          -77.013917,
          -77.013917,
          -77.00493,
          -77.000349,
          -77.000349,
          -77.000349,
          -77.013769,
          -77.013917,
          -77.001955,
          -77.0023,
          -77.001955,
          -77.00493,
          -77.00493,
          -77.013917,
          -77.00493,
          -77.013917,
          -77.013917,
          -77.001955,
          -77.013917,
          -77.013917,
          -77.00493,
          -77.013769,
          -77.013769,
          -77.0048565,
          -77.000349,
          -77.000349,
          -77.013917,
          -77.013917,
          -77.013917,
          -77.001955,
          -77.00493,
          -77.013769,
          -77.000349,
          -77.013769
         ],
         "marker": {
          "color": "#636efa"
         },
         "mode": "markers",
         "name": "",
         "showlegend": false,
         "subplot": "mapbox",
         "type": "scattermapbox"
        }
       ],
       "layout": {
        "legend": {
         "tracegroupgap": 0
        },
        "mapbox": {
         "accesstoken": "pk.eyJ1IjoiamFrZXBvbGF0dHkiLCJhIjoiY2xiNjFqajAxMDdvaTNycG12c21ocjE0aCJ9.u4v45cFbHgYTmwjVXnn7VQ\n",
         "center": {
          "lat": 38.890988181249995,
          "lon": -77.0091800875
         },
         "domain": {
          "x": [
           0,
           1
          ],
          "y": [
           0,
           1
          ]
         },
         "style": "open-street-map",
         "zoom": 8
        },
        "margin": {
         "b": 0,
         "l": 0,
         "r": 0,
         "t": 0
        },
        "template": {
         "data": {
          "bar": [
           {
            "error_x": {
             "color": "#2a3f5f"
            },
            "error_y": {
             "color": "#2a3f5f"
            },
            "marker": {
             "line": {
              "color": "#E5ECF6",
              "width": 0.5
             },
             "pattern": {
              "fillmode": "overlay",
              "size": 10,
              "solidity": 0.2
             }
            },
            "type": "bar"
           }
          ],
          "barpolar": [
           {
            "marker": {
             "line": {
              "color": "#E5ECF6",
              "width": 0.5
             },
             "pattern": {
              "fillmode": "overlay",
              "size": 10,
              "solidity": 0.2
             }
            },
            "type": "barpolar"
           }
          ],
          "carpet": [
           {
            "aaxis": {
             "endlinecolor": "#2a3f5f",
             "gridcolor": "white",
             "linecolor": "white",
             "minorgridcolor": "white",
             "startlinecolor": "#2a3f5f"
            },
            "baxis": {
             "endlinecolor": "#2a3f5f",
             "gridcolor": "white",
             "linecolor": "white",
             "minorgridcolor": "white",
             "startlinecolor": "#2a3f5f"
            },
            "type": "carpet"
           }
          ],
          "choropleth": [
           {
            "colorbar": {
             "outlinewidth": 0,
             "ticks": ""
            },
            "type": "choropleth"
           }
          ],
          "contour": [
           {
            "colorbar": {
             "outlinewidth": 0,
             "ticks": ""
            },
            "colorscale": [
             [
              0,
              "#0d0887"
             ],
             [
              0.1111111111111111,
              "#46039f"
             ],
             [
              0.2222222222222222,
              "#7201a8"
             ],
             [
              0.3333333333333333,
              "#9c179e"
             ],
             [
              0.4444444444444444,
              "#bd3786"
             ],
             [
              0.5555555555555556,
              "#d8576b"
             ],
             [
              0.6666666666666666,
              "#ed7953"
             ],
             [
              0.7777777777777778,
              "#fb9f3a"
             ],
             [
              0.8888888888888888,
              "#fdca26"
             ],
             [
              1,
              "#f0f921"
             ]
            ],
            "type": "contour"
           }
          ],
          "contourcarpet": [
           {
            "colorbar": {
             "outlinewidth": 0,
             "ticks": ""
            },
            "type": "contourcarpet"
           }
          ],
          "heatmap": [
           {
            "colorbar": {
             "outlinewidth": 0,
             "ticks": ""
            },
            "colorscale": [
             [
              0,
              "#0d0887"
             ],
             [
              0.1111111111111111,
              "#46039f"
             ],
             [
              0.2222222222222222,
              "#7201a8"
             ],
             [
              0.3333333333333333,
              "#9c179e"
             ],
             [
              0.4444444444444444,
              "#bd3786"
             ],
             [
              0.5555555555555556,
              "#d8576b"
             ],
             [
              0.6666666666666666,
              "#ed7953"
             ],
             [
              0.7777777777777778,
              "#fb9f3a"
             ],
             [
              0.8888888888888888,
              "#fdca26"
             ],
             [
              1,
              "#f0f921"
             ]
            ],
            "type": "heatmap"
           }
          ],
          "heatmapgl": [
           {
            "colorbar": {
             "outlinewidth": 0,
             "ticks": ""
            },
            "colorscale": [
             [
              0,
              "#0d0887"
             ],
             [
              0.1111111111111111,
              "#46039f"
             ],
             [
              0.2222222222222222,
              "#7201a8"
             ],
             [
              0.3333333333333333,
              "#9c179e"
             ],
             [
              0.4444444444444444,
              "#bd3786"
             ],
             [
              0.5555555555555556,
              "#d8576b"
             ],
             [
              0.6666666666666666,
              "#ed7953"
             ],
             [
              0.7777777777777778,
              "#fb9f3a"
             ],
             [
              0.8888888888888888,
              "#fdca26"
             ],
             [
              1,
              "#f0f921"
             ]
            ],
            "type": "heatmapgl"
           }
          ],
          "histogram": [
           {
            "marker": {
             "pattern": {
              "fillmode": "overlay",
              "size": 10,
              "solidity": 0.2
             }
            },
            "type": "histogram"
           }
          ],
          "histogram2d": [
           {
            "colorbar": {
             "outlinewidth": 0,
             "ticks": ""
            },
            "colorscale": [
             [
              0,
              "#0d0887"
             ],
             [
              0.1111111111111111,
              "#46039f"
             ],
             [
              0.2222222222222222,
              "#7201a8"
             ],
             [
              0.3333333333333333,
              "#9c179e"
             ],
             [
              0.4444444444444444,
              "#bd3786"
             ],
             [
              0.5555555555555556,
              "#d8576b"
             ],
             [
              0.6666666666666666,
              "#ed7953"
             ],
             [
              0.7777777777777778,
              "#fb9f3a"
             ],
             [
              0.8888888888888888,
              "#fdca26"
             ],
             [
              1,
              "#f0f921"
             ]
            ],
            "type": "histogram2d"
           }
          ],
          "histogram2dcontour": [
           {
            "colorbar": {
             "outlinewidth": 0,
             "ticks": ""
            },
            "colorscale": [
             [
              0,
              "#0d0887"
             ],
             [
              0.1111111111111111,
              "#46039f"
             ],
             [
              0.2222222222222222,
              "#7201a8"
             ],
             [
              0.3333333333333333,
              "#9c179e"
             ],
             [
              0.4444444444444444,
              "#bd3786"
             ],
             [
              0.5555555555555556,
              "#d8576b"
             ],
             [
              0.6666666666666666,
              "#ed7953"
             ],
             [
              0.7777777777777778,
              "#fb9f3a"
             ],
             [
              0.8888888888888888,
              "#fdca26"
             ],
             [
              1,
              "#f0f921"
             ]
            ],
            "type": "histogram2dcontour"
           }
          ],
          "mesh3d": [
           {
            "colorbar": {
             "outlinewidth": 0,
             "ticks": ""
            },
            "type": "mesh3d"
           }
          ],
          "parcoords": [
           {
            "line": {
             "colorbar": {
              "outlinewidth": 0,
              "ticks": ""
             }
            },
            "type": "parcoords"
           }
          ],
          "pie": [
           {
            "automargin": true,
            "type": "pie"
           }
          ],
          "scatter": [
           {
            "fillpattern": {
             "fillmode": "overlay",
             "size": 10,
             "solidity": 0.2
            },
            "type": "scatter"
           }
          ],
          "scatter3d": [
           {
            "line": {
             "colorbar": {
              "outlinewidth": 0,
              "ticks": ""
             }
            },
            "marker": {
             "colorbar": {
              "outlinewidth": 0,
              "ticks": ""
             }
            },
            "type": "scatter3d"
           }
          ],
          "scattercarpet": [
           {
            "marker": {
             "colorbar": {
              "outlinewidth": 0,
              "ticks": ""
             }
            },
            "type": "scattercarpet"
           }
          ],
          "scattergeo": [
           {
            "marker": {
             "colorbar": {
              "outlinewidth": 0,
              "ticks": ""
             }
            },
            "type": "scattergeo"
           }
          ],
          "scattergl": [
           {
            "marker": {
             "colorbar": {
              "outlinewidth": 0,
              "ticks": ""
             }
            },
            "type": "scattergl"
           }
          ],
          "scattermapbox": [
           {
            "marker": {
             "colorbar": {
              "outlinewidth": 0,
              "ticks": ""
             }
            },
            "type": "scattermapbox"
           }
          ],
          "scatterpolar": [
           {
            "marker": {
             "colorbar": {
              "outlinewidth": 0,
              "ticks": ""
             }
            },
            "type": "scatterpolar"
           }
          ],
          "scatterpolargl": [
           {
            "marker": {
             "colorbar": {
              "outlinewidth": 0,
              "ticks": ""
             }
            },
            "type": "scatterpolargl"
           }
          ],
          "scatterternary": [
           {
            "marker": {
             "colorbar": {
              "outlinewidth": 0,
              "ticks": ""
             }
            },
            "type": "scatterternary"
           }
          ],
          "surface": [
           {
            "colorbar": {
             "outlinewidth": 0,
             "ticks": ""
            },
            "colorscale": [
             [
              0,
              "#0d0887"
             ],
             [
              0.1111111111111111,
              "#46039f"
             ],
             [
              0.2222222222222222,
              "#7201a8"
             ],
             [
              0.3333333333333333,
              "#9c179e"
             ],
             [
              0.4444444444444444,
              "#bd3786"
             ],
             [
              0.5555555555555556,
              "#d8576b"
             ],
             [
              0.6666666666666666,
              "#ed7953"
             ],
             [
              0.7777777777777778,
              "#fb9f3a"
             ],
             [
              0.8888888888888888,
              "#fdca26"
             ],
             [
              1,
              "#f0f921"
             ]
            ],
            "type": "surface"
           }
          ],
          "table": [
           {
            "cells": {
             "fill": {
              "color": "#EBF0F8"
             },
             "line": {
              "color": "white"
             }
            },
            "header": {
             "fill": {
              "color": "#C8D4E3"
             },
             "line": {
              "color": "white"
             }
            },
            "type": "table"
           }
          ]
         },
         "layout": {
          "annotationdefaults": {
           "arrowcolor": "#2a3f5f",
           "arrowhead": 0,
           "arrowwidth": 1
          },
          "autotypenumbers": "strict",
          "coloraxis": {
           "colorbar": {
            "outlinewidth": 0,
            "ticks": ""
           }
          },
          "colorscale": {
           "diverging": [
            [
             0,
             "#8e0152"
            ],
            [
             0.1,
             "#c51b7d"
            ],
            [
             0.2,
             "#de77ae"
            ],
            [
             0.3,
             "#f1b6da"
            ],
            [
             0.4,
             "#fde0ef"
            ],
            [
             0.5,
             "#f7f7f7"
            ],
            [
             0.6,
             "#e6f5d0"
            ],
            [
             0.7,
             "#b8e186"
            ],
            [
             0.8,
             "#7fbc41"
            ],
            [
             0.9,
             "#4d9221"
            ],
            [
             1,
             "#276419"
            ]
           ],
           "sequential": [
            [
             0,
             "#0d0887"
            ],
            [
             0.1111111111111111,
             "#46039f"
            ],
            [
             0.2222222222222222,
             "#7201a8"
            ],
            [
             0.3333333333333333,
             "#9c179e"
            ],
            [
             0.4444444444444444,
             "#bd3786"
            ],
            [
             0.5555555555555556,
             "#d8576b"
            ],
            [
             0.6666666666666666,
             "#ed7953"
            ],
            [
             0.7777777777777778,
             "#fb9f3a"
            ],
            [
             0.8888888888888888,
             "#fdca26"
            ],
            [
             1,
             "#f0f921"
            ]
           ],
           "sequentialminus": [
            [
             0,
             "#0d0887"
            ],
            [
             0.1111111111111111,
             "#46039f"
            ],
            [
             0.2222222222222222,
             "#7201a8"
            ],
            [
             0.3333333333333333,
             "#9c179e"
            ],
            [
             0.4444444444444444,
             "#bd3786"
            ],
            [
             0.5555555555555556,
             "#d8576b"
            ],
            [
             0.6666666666666666,
             "#ed7953"
            ],
            [
             0.7777777777777778,
             "#fb9f3a"
            ],
            [
             0.8888888888888888,
             "#fdca26"
            ],
            [
             1,
             "#f0f921"
            ]
           ]
          },
          "colorway": [
           "#636efa",
           "#EF553B",
           "#00cc96",
           "#ab63fa",
           "#FFA15A",
           "#19d3f3",
           "#FF6692",
           "#B6E880",
           "#FF97FF",
           "#FECB52"
          ],
          "font": {
           "color": "#2a3f5f"
          },
          "geo": {
           "bgcolor": "white",
           "lakecolor": "white",
           "landcolor": "#E5ECF6",
           "showlakes": true,
           "showland": true,
           "subunitcolor": "white"
          },
          "hoverlabel": {
           "align": "left"
          },
          "hovermode": "closest",
          "mapbox": {
           "style": "light"
          },
          "paper_bgcolor": "white",
          "plot_bgcolor": "#E5ECF6",
          "polar": {
           "angularaxis": {
            "gridcolor": "white",
            "linecolor": "white",
            "ticks": ""
           },
           "bgcolor": "#E5ECF6",
           "radialaxis": {
            "gridcolor": "white",
            "linecolor": "white",
            "ticks": ""
           }
          },
          "scene": {
           "xaxis": {
            "backgroundcolor": "#E5ECF6",
            "gridcolor": "white",
            "gridwidth": 2,
            "linecolor": "white",
            "showbackground": true,
            "ticks": "",
            "zerolinecolor": "white"
           },
           "yaxis": {
            "backgroundcolor": "#E5ECF6",
            "gridcolor": "white",
            "gridwidth": 2,
            "linecolor": "white",
            "showbackground": true,
            "ticks": "",
            "zerolinecolor": "white"
           },
           "zaxis": {
            "backgroundcolor": "#E5ECF6",
            "gridcolor": "white",
            "gridwidth": 2,
            "linecolor": "white",
            "showbackground": true,
            "ticks": "",
            "zerolinecolor": "white"
           }
          },
          "shapedefaults": {
           "line": {
            "color": "#2a3f5f"
           }
          },
          "ternary": {
           "aaxis": {
            "gridcolor": "white",
            "linecolor": "white",
            "ticks": ""
           },
           "baxis": {
            "gridcolor": "white",
            "linecolor": "white",
            "ticks": ""
           },
           "bgcolor": "#E5ECF6",
           "caxis": {
            "gridcolor": "white",
            "linecolor": "white",
            "ticks": ""
           }
          },
          "title": {
           "x": 0.05
          },
          "xaxis": {
           "automargin": true,
           "gridcolor": "white",
           "linecolor": "white",
           "ticks": "",
           "title": {
            "standoff": 15
           },
           "zerolinecolor": "white",
           "zerolinewidth": 2
          },
          "yaxis": {
           "automargin": true,
           "gridcolor": "white",
           "linecolor": "white",
           "ticks": "",
           "title": {
            "standoff": 15
           },
           "zerolinecolor": "white",
           "zerolinewidth": 2
          }
         }
        }
       }
      },
      "text/html": [
       "<div>                            <div id=\"a49f2c53-5239-48d5-8f61-c51f1d1fa839\" class=\"plotly-graph-div\" style=\"height:525px; width:100%;\"></div>            <script type=\"text/javascript\">                require([\"plotly\"], function(Plotly) {                    window.PLOTLYENV=window.PLOTLYENV || {};                                    if (document.getElementById(\"a49f2c53-5239-48d5-8f61-c51f1d1fa839\")) {                    Plotly.newPlot(                        \"a49f2c53-5239-48d5-8f61-c51f1d1fa839\",                        [{\"customdata\":[[\"2021-01-06T10:18:13\",\"P0DT0H17M41S\"],[\"2021-01-06T10:11:05\",\"P0DT0H8M29S\"],[\"2021-01-06T11:22:04\",\"P0DT1H9M46S\"],[\"2021-01-06T10:15:40\",\"P0DT0H2M44S\"],[\"2021-01-06T12:58:14\",\"P0DT2H45M17S\"],[\"2021-01-06T12:57:46\",\"P0DT2H37M46S\"],[\"2021-01-06T10:29:50\",\"P0DT0H6M52S\"],[\"2021-01-06T10:52:41\",\"P0DT0H27M43S\"],[\"2021-01-06T10:52:50\",\"P0DT0H27M38S\"],[\"2021-01-06T10:58:26\",\"P0DT0H27M9S\"],[\"2021-01-06T10:58:19\",\"P0DT0H25M49S\"],[\"2021-01-06T12:59:01\",\"P0DT2H23M42S\"],[\"2021-01-06T12:58:52\",\"P0DT2H23M3S\"],[\"2021-01-06T10:45:16\",\"P0DT0H9M0S\"],[\"2021-01-06T11:20:20\",\"P0DT0H40M11S\"],[\"2021-01-06T13:43:47\",\"P0DT2H54M48S\"],[\"2021-01-06T10:54:36\",\"P0DT0H3M59S\"],[\"2021-01-06T18:33:57\",\"P0DT7H30M40S\"],[\"2021-01-06T12:18:22\",\"P0DT1H10M54S\"],[\"2021-01-06T11:12:58\",\"P0DT0H3M40S\"],[\"2021-01-06T14:31:02\",\"P0DT3H19M37S\"],[\"2021-01-06T14:31:06\",\"P0DT3H19M10S\"],[\"2021-01-06T18:36:59\",\"P0DT7H23M48S\"],[\"2021-01-06T11:43:30\",\"P0DT0H6M14S\"],[\"2021-01-06T12:03:34\",\"P0DT0H25M4S\"],[\"2021-01-06T12:03:34\",\"P0DT0H24M57S\"],[\"2021-01-06T11:41:32\",\"P0DT0H2M23S\"],[\"2021-01-06T11:57:02\",\"P0DT0H11M4S\"],[\"2021-01-06T12:52:05\",\"P0DT1H4M47S\"],[\"2021-01-06T12:49:56\",\"P0DT0H59M53S\"],[\"2021-01-06T12:50:04\",\"P0DT0H52M20S\"],[\"2021-01-06T12:38:57\",\"P0DT0H31M26S\"],[\"2021-01-06T12:22:59\",\"P0DT0H14M15S\"],[\"2021-01-06T12:23:03\",\"P0DT0H13M42S\"],[\"2021-01-06T12:30:24\",\"P0DT0H19M44S\"],[\"2021-01-06T15:17:22\",\"P0DT3H6M3S\"],[\"2021-01-06T13:02:01\",\"P0DT0H49M37S\"],[\"2021-01-06T12:30:21\",\"P0DT0H12M0S\"],[\"2021-01-06T12:41:45\",\"P0DT0H14M33S\"],[\"2021-01-06T12:59:02\",\"P0DT0H31M6S\"],[\"2021-01-06T12:43:18\",\"P0DT0H9M7S\"],[\"2021-01-06T12:42:30\",\"P0DT0H0M8S\"],[\"2021-01-06T13:14:21\",\"P0DT0H19M3S\"],[\"2021-01-06T13:07:14\",\"P0DT0H7M59S\"],[\"2021-01-06T13:01:00\",\"P0DT0H0M6S\"],[\"2021-01-06T14:12:37\",\"P0DT1H10M25S\"],[\"2021-01-06T14:12:36\",\"P0DT1H10M1S\"],[\"2021-01-06T14:12:46\",\"P0DT1H7M25S\"],[\"2021-01-06T15:00:50\",\"P0DT1H48M18S\"],[\"2021-01-06T16:10:22\",\"P0DT2H52M25S\"],[\"2021-01-06T16:09:46\",\"P0DT2H51M49S\"],[\"2021-01-06T15:02:13\",\"P0DT1H39M53S\"],[\"2021-01-06T15:16:27\",\"P0DT1H45M47S\"],[\"2021-01-06T13:58:10\",\"P0DT0H23M43S\"],[\"2021-01-06T13:47:26\",\"P0DT0H6M42S\"],[\"2021-01-06T13:47:38\",\"P0DT0H6M35S\"],[\"2021-01-06T13:48:00\",\"P0DT0H0M14S\"],[\"2021-01-06T13:57:13\",\"P0DT0H9M15S\"],[\"2021-01-06T14:57:36\",\"P0DT1H5M41S\"],[\"2021-01-06T14:47:09\",\"P0DT0H48M33S\"],[\"2021-01-06T14:57:20\",\"P0DT0H56M11S\"],[\"2021-01-06T14:16:32\",\"P0DT0H6M25S\"],[\"2021-01-06T14:18:41\",\"P0DT0H6M48S\"],[\"2021-01-06T14:56:06\",\"P0DT0H38M7S\"],[\"2021-01-06T15:42:43\",\"P0DT1H22M18S\"],[\"2021-01-06T14:43:13\",\"P0DT0H18M0S\"],[\"2021-01-06T15:06:06\",\"P0DT0H39M34S\"],[\"2021-01-06T14:36:50\",\"P0DT0H9M28S\"],[\"2021-01-06T14:37:02\",\"P0DT0H9M17S\"],[\"2021-01-06T14:39:47\",\"P0DT0H9M34S\"],[\"2021-01-06T15:08:07\",\"P0DT0H29M35S\"],[\"2021-01-06T15:08:05\",\"P0DT0H29M13S\"],[\"2021-01-06T15:10:21\",\"P0DT0H30M45S\"],[\"2021-01-06T15:12:21\",\"P0DT0H31M44S\"],[\"2021-01-06T14:57:07\",\"P0DT0H15M54S\"],[\"2021-01-06T15:06:08\",\"P0DT0H21M38S\"],[\"2021-01-06T14:59:15\",\"P0DT0H11M33S\"],[\"2021-01-06T15:19:14\",\"P0DT0H22M46S\"],[\"2021-01-06T15:13:13\",\"P0DT0H16M36S\"],[\"2021-01-06T15:12:30\",\"P0DT0H12M34S\"]],\"hovertemplate\":\"<b>%{hovertext}</b><br><br>end_lat=%{lat}<br>end_lng=%{lon}<br>ended_at=%{customdata[0]}<br>duration=%{customdata[1]}<extra></extra>\",\"hovertext\":[\"1st & D St SE\",\"Washington & Independence Ave SW/HHS\",\"Constitution Ave & 2nd St NW/DOL\",\"3rd St & Pennsylvania Ave SE\",\"Washington & Independence Ave SW/HHS\",\"Washington & Independence Ave SW/HHS\",\"1st & D St SE\",\"Constitution Ave & 2nd St NW/DOL\",\"Constitution Ave & 2nd St NW/DOL\",\"Constitution Ave & 2nd St NW/DOL\",\"Constitution Ave & 2nd St NW/DOL\",\"Constitution Ave & 2nd St NW/DOL\",\"Constitution Ave & 2nd St NW/DOL\",\"Washington & Independence Ave SW/HHS\",\"Constitution Ave & 2nd St NW/DOL\",\"Columbus Circle / Union Station\",\"3rd & D St SE\",\"Columbus Circle / Union Station\",\"1st & D St SE\",\"Washington & Independence Ave SW/HHS\",\"Constitution Ave & 2nd St NW/DOL\",\"Constitution Ave & 2nd St NW/DOL\",\"Columbus Circle / Union Station\",\"2nd St & Massachusetts Ave NE\",\"Constitution Ave & 2nd St NW/DOL\",\"Constitution Ave & 2nd St NW/DOL\",\"4th & East Capitol St NE\",\"Constitution Ave & 2nd St NW/DOL\",\"Columbus Circle / Union Station\",\"Constitution Ave & 2nd St NW/DOL\",\"Constitution Ave & 2nd St NW/DOL\",\"Constitution Ave & 2nd St NW/DOL\",\"Constitution Ave & 2nd St NW/DOL\",\"Constitution Ave & 2nd St NW/DOL\",\"Constitution Ave & 2nd St NW/DOL\",\"2nd St & Massachusetts Ave NE\",\"4th & East Capitol St NE\",\"Constitution Ave & 2nd St NW/DOL\",\"1st & D St SE\",\"Constitution Ave & 2nd St NW/DOL\",\"3rd St & Pennsylvania Ave SE\",\"1st & D St SE\",\"Constitution Ave & 2nd St NW/DOL\",\"4th & East Capitol St NE\",\"Washington & Independence Ave SW/HHS\",\"Constitution Ave & 2nd St NW/DOL\",\"Constitution Ave & 2nd St NW/DOL\",\"Constitution Ave & 2nd St NW/DOL\",\"Columbus Circle / Union Station\",\"4th & East Capitol St NE\",\"4th & East Capitol St NE\",\"4th & East Capitol St NE\",\"Washington & Independence Ave SW/HHS\",\"Constitution Ave & 2nd St NW/DOL\",\"3rd St & Pennsylvania Ave SE\",\"3rd & D St SE\",\"3rd St & Pennsylvania Ave SE\",\"Columbus Circle / Union Station\",\"Columbus Circle / Union Station\",\"Constitution Ave & 2nd St NW/DOL\",\"Columbus Circle / Union Station\",\"Constitution Ave & 2nd St NW/DOL\",\"Constitution Ave & 2nd St NW/DOL\",\"3rd St & Pennsylvania Ave SE\",\"Constitution Ave & 2nd St NW/DOL\",\"Constitution Ave & 2nd St NW/DOL\",\"Columbus Circle / Union Station\",\"Washington & Independence Ave SW/HHS\",\"Washington & Independence Ave SW/HHS\",\"Columbus Circle / Union Station\",\"4th & East Capitol St NE\",\"4th & East Capitol St NE\",\"Constitution Ave & 2nd St NW/DOL\",\"Constitution Ave & 2nd St NW/DOL\",\"Constitution Ave & 2nd St NW/DOL\",\"3rd St & Pennsylvania Ave SE\",\"Columbus Circle / Union Station\",\"Washington & Independence Ave SW/HHS\",\"4th & East Capitol St NE\",\"Washington & Independence Ave SW/HHS\"],\"lat\":[38.884916,38.886978,38.892275,38.887378,38.886978,38.886978,38.88467333333333,38.892275,38.892275,38.892275,38.892275,38.892275,38.892275,38.886978,38.892275,38.89696,38.8851,38.89696,38.884916,38.886978,38.892275,38.892275,38.89696,38.894972,38.892275,38.892275,38.889955,38.892275,38.89696,38.892275,38.892275,38.892275,38.892275,38.892275,38.892275,38.894972,38.8899305,38.892275,38.884916,38.892275,38.887378,38.884944833333336,38.892275,38.889955,38.886978,38.892275,38.892275,38.892275,38.89696,38.889955,38.889955,38.889955,38.886978,38.892275,38.887378,38.8851,38.887378,38.89696,38.89696,38.892275,38.89696,38.892275,38.892275,38.887378,38.892275,38.892275,38.89696,38.886978,38.886978,38.89699783333333,38.889955,38.889955,38.892275,38.892275,38.892275,38.887378,38.89696,38.886978,38.889955,38.886978],\"legendgroup\":\"\",\"lon\":[-77.005965,-77.013769,-77.013917,-77.001955,-77.013769,-77.013769,-77.0059595,-77.013917,-77.013917,-77.013917,-77.013917,-77.013917,-77.013917,-77.013769,-77.013917,-77.00493,-77.0023,-77.00493,-77.005965,-77.013769,-77.013917,-77.013917,-77.00493,-77.003135,-77.013917,-77.013917,-77.000349,-77.013917,-77.00493,-77.013917,-77.013917,-77.013917,-77.013917,-77.013917,-77.013917,-77.003135,-77.000412,-77.013917,-77.005965,-77.013917,-77.001955,-77.005955,-77.013917,-77.000349,-77.013769,-77.013917,-77.013917,-77.013917,-77.00493,-77.000349,-77.000349,-77.000349,-77.013769,-77.013917,-77.001955,-77.0023,-77.001955,-77.00493,-77.00493,-77.013917,-77.00493,-77.013917,-77.013917,-77.001955,-77.013917,-77.013917,-77.00493,-77.013769,-77.013769,-77.0048565,-77.000349,-77.000349,-77.013917,-77.013917,-77.013917,-77.001955,-77.00493,-77.013769,-77.000349,-77.013769],\"marker\":{\"color\":\"#636efa\"},\"mode\":\"markers\",\"name\":\"\",\"showlegend\":false,\"subplot\":\"mapbox\",\"type\":\"scattermapbox\"}],                        {\"template\":{\"data\":{\"histogram2dcontour\":[{\"type\":\"histogram2dcontour\",\"colorbar\":{\"outlinewidth\":0,\"ticks\":\"\"},\"colorscale\":[[0.0,\"#0d0887\"],[0.1111111111111111,\"#46039f\"],[0.2222222222222222,\"#7201a8\"],[0.3333333333333333,\"#9c179e\"],[0.4444444444444444,\"#bd3786\"],[0.5555555555555556,\"#d8576b\"],[0.6666666666666666,\"#ed7953\"],[0.7777777777777778,\"#fb9f3a\"],[0.8888888888888888,\"#fdca26\"],[1.0,\"#f0f921\"]]}],\"choropleth\":[{\"type\":\"choropleth\",\"colorbar\":{\"outlinewidth\":0,\"ticks\":\"\"}}],\"histogram2d\":[{\"type\":\"histogram2d\",\"colorbar\":{\"outlinewidth\":0,\"ticks\":\"\"},\"colorscale\":[[0.0,\"#0d0887\"],[0.1111111111111111,\"#46039f\"],[0.2222222222222222,\"#7201a8\"],[0.3333333333333333,\"#9c179e\"],[0.4444444444444444,\"#bd3786\"],[0.5555555555555556,\"#d8576b\"],[0.6666666666666666,\"#ed7953\"],[0.7777777777777778,\"#fb9f3a\"],[0.8888888888888888,\"#fdca26\"],[1.0,\"#f0f921\"]]}],\"heatmap\":[{\"type\":\"heatmap\",\"colorbar\":{\"outlinewidth\":0,\"ticks\":\"\"},\"colorscale\":[[0.0,\"#0d0887\"],[0.1111111111111111,\"#46039f\"],[0.2222222222222222,\"#7201a8\"],[0.3333333333333333,\"#9c179e\"],[0.4444444444444444,\"#bd3786\"],[0.5555555555555556,\"#d8576b\"],[0.6666666666666666,\"#ed7953\"],[0.7777777777777778,\"#fb9f3a\"],[0.8888888888888888,\"#fdca26\"],[1.0,\"#f0f921\"]]}],\"heatmapgl\":[{\"type\":\"heatmapgl\",\"colorbar\":{\"outlinewidth\":0,\"ticks\":\"\"},\"colorscale\":[[0.0,\"#0d0887\"],[0.1111111111111111,\"#46039f\"],[0.2222222222222222,\"#7201a8\"],[0.3333333333333333,\"#9c179e\"],[0.4444444444444444,\"#bd3786\"],[0.5555555555555556,\"#d8576b\"],[0.6666666666666666,\"#ed7953\"],[0.7777777777777778,\"#fb9f3a\"],[0.8888888888888888,\"#fdca26\"],[1.0,\"#f0f921\"]]}],\"contourcarpet\":[{\"type\":\"contourcarpet\",\"colorbar\":{\"outlinewidth\":0,\"ticks\":\"\"}}],\"contour\":[{\"type\":\"contour\",\"colorbar\":{\"outlinewidth\":0,\"ticks\":\"\"},\"colorscale\":[[0.0,\"#0d0887\"],[0.1111111111111111,\"#46039f\"],[0.2222222222222222,\"#7201a8\"],[0.3333333333333333,\"#9c179e\"],[0.4444444444444444,\"#bd3786\"],[0.5555555555555556,\"#d8576b\"],[0.6666666666666666,\"#ed7953\"],[0.7777777777777778,\"#fb9f3a\"],[0.8888888888888888,\"#fdca26\"],[1.0,\"#f0f921\"]]}],\"surface\":[{\"type\":\"surface\",\"colorbar\":{\"outlinewidth\":0,\"ticks\":\"\"},\"colorscale\":[[0.0,\"#0d0887\"],[0.1111111111111111,\"#46039f\"],[0.2222222222222222,\"#7201a8\"],[0.3333333333333333,\"#9c179e\"],[0.4444444444444444,\"#bd3786\"],[0.5555555555555556,\"#d8576b\"],[0.6666666666666666,\"#ed7953\"],[0.7777777777777778,\"#fb9f3a\"],[0.8888888888888888,\"#fdca26\"],[1.0,\"#f0f921\"]]}],\"mesh3d\":[{\"type\":\"mesh3d\",\"colorbar\":{\"outlinewidth\":0,\"ticks\":\"\"}}],\"scatter\":[{\"fillpattern\":{\"fillmode\":\"overlay\",\"size\":10,\"solidity\":0.2},\"type\":\"scatter\"}],\"parcoords\":[{\"type\":\"parcoords\",\"line\":{\"colorbar\":{\"outlinewidth\":0,\"ticks\":\"\"}}}],\"scatterpolargl\":[{\"type\":\"scatterpolargl\",\"marker\":{\"colorbar\":{\"outlinewidth\":0,\"ticks\":\"\"}}}],\"bar\":[{\"error_x\":{\"color\":\"#2a3f5f\"},\"error_y\":{\"color\":\"#2a3f5f\"},\"marker\":{\"line\":{\"color\":\"#E5ECF6\",\"width\":0.5},\"pattern\":{\"fillmode\":\"overlay\",\"size\":10,\"solidity\":0.2}},\"type\":\"bar\"}],\"scattergeo\":[{\"type\":\"scattergeo\",\"marker\":{\"colorbar\":{\"outlinewidth\":0,\"ticks\":\"\"}}}],\"scatterpolar\":[{\"type\":\"scatterpolar\",\"marker\":{\"colorbar\":{\"outlinewidth\":0,\"ticks\":\"\"}}}],\"histogram\":[{\"marker\":{\"pattern\":{\"fillmode\":\"overlay\",\"size\":10,\"solidity\":0.2}},\"type\":\"histogram\"}],\"scattergl\":[{\"type\":\"scattergl\",\"marker\":{\"colorbar\":{\"outlinewidth\":0,\"ticks\":\"\"}}}],\"scatter3d\":[{\"type\":\"scatter3d\",\"line\":{\"colorbar\":{\"outlinewidth\":0,\"ticks\":\"\"}},\"marker\":{\"colorbar\":{\"outlinewidth\":0,\"ticks\":\"\"}}}],\"scattermapbox\":[{\"type\":\"scattermapbox\",\"marker\":{\"colorbar\":{\"outlinewidth\":0,\"ticks\":\"\"}}}],\"scatterternary\":[{\"type\":\"scatterternary\",\"marker\":{\"colorbar\":{\"outlinewidth\":0,\"ticks\":\"\"}}}],\"scattercarpet\":[{\"type\":\"scattercarpet\",\"marker\":{\"colorbar\":{\"outlinewidth\":0,\"ticks\":\"\"}}}],\"carpet\":[{\"aaxis\":{\"endlinecolor\":\"#2a3f5f\",\"gridcolor\":\"white\",\"linecolor\":\"white\",\"minorgridcolor\":\"white\",\"startlinecolor\":\"#2a3f5f\"},\"baxis\":{\"endlinecolor\":\"#2a3f5f\",\"gridcolor\":\"white\",\"linecolor\":\"white\",\"minorgridcolor\":\"white\",\"startlinecolor\":\"#2a3f5f\"},\"type\":\"carpet\"}],\"table\":[{\"cells\":{\"fill\":{\"color\":\"#EBF0F8\"},\"line\":{\"color\":\"white\"}},\"header\":{\"fill\":{\"color\":\"#C8D4E3\"},\"line\":{\"color\":\"white\"}},\"type\":\"table\"}],\"barpolar\":[{\"marker\":{\"line\":{\"color\":\"#E5ECF6\",\"width\":0.5},\"pattern\":{\"fillmode\":\"overlay\",\"size\":10,\"solidity\":0.2}},\"type\":\"barpolar\"}],\"pie\":[{\"automargin\":true,\"type\":\"pie\"}]},\"layout\":{\"autotypenumbers\":\"strict\",\"colorway\":[\"#636efa\",\"#EF553B\",\"#00cc96\",\"#ab63fa\",\"#FFA15A\",\"#19d3f3\",\"#FF6692\",\"#B6E880\",\"#FF97FF\",\"#FECB52\"],\"font\":{\"color\":\"#2a3f5f\"},\"hovermode\":\"closest\",\"hoverlabel\":{\"align\":\"left\"},\"paper_bgcolor\":\"white\",\"plot_bgcolor\":\"#E5ECF6\",\"polar\":{\"bgcolor\":\"#E5ECF6\",\"angularaxis\":{\"gridcolor\":\"white\",\"linecolor\":\"white\",\"ticks\":\"\"},\"radialaxis\":{\"gridcolor\":\"white\",\"linecolor\":\"white\",\"ticks\":\"\"}},\"ternary\":{\"bgcolor\":\"#E5ECF6\",\"aaxis\":{\"gridcolor\":\"white\",\"linecolor\":\"white\",\"ticks\":\"\"},\"baxis\":{\"gridcolor\":\"white\",\"linecolor\":\"white\",\"ticks\":\"\"},\"caxis\":{\"gridcolor\":\"white\",\"linecolor\":\"white\",\"ticks\":\"\"}},\"coloraxis\":{\"colorbar\":{\"outlinewidth\":0,\"ticks\":\"\"}},\"colorscale\":{\"sequential\":[[0.0,\"#0d0887\"],[0.1111111111111111,\"#46039f\"],[0.2222222222222222,\"#7201a8\"],[0.3333333333333333,\"#9c179e\"],[0.4444444444444444,\"#bd3786\"],[0.5555555555555556,\"#d8576b\"],[0.6666666666666666,\"#ed7953\"],[0.7777777777777778,\"#fb9f3a\"],[0.8888888888888888,\"#fdca26\"],[1.0,\"#f0f921\"]],\"sequentialminus\":[[0.0,\"#0d0887\"],[0.1111111111111111,\"#46039f\"],[0.2222222222222222,\"#7201a8\"],[0.3333333333333333,\"#9c179e\"],[0.4444444444444444,\"#bd3786\"],[0.5555555555555556,\"#d8576b\"],[0.6666666666666666,\"#ed7953\"],[0.7777777777777778,\"#fb9f3a\"],[0.8888888888888888,\"#fdca26\"],[1.0,\"#f0f921\"]],\"diverging\":[[0,\"#8e0152\"],[0.1,\"#c51b7d\"],[0.2,\"#de77ae\"],[0.3,\"#f1b6da\"],[0.4,\"#fde0ef\"],[0.5,\"#f7f7f7\"],[0.6,\"#e6f5d0\"],[0.7,\"#b8e186\"],[0.8,\"#7fbc41\"],[0.9,\"#4d9221\"],[1,\"#276419\"]]},\"xaxis\":{\"gridcolor\":\"white\",\"linecolor\":\"white\",\"ticks\":\"\",\"title\":{\"standoff\":15},\"zerolinecolor\":\"white\",\"automargin\":true,\"zerolinewidth\":2},\"yaxis\":{\"gridcolor\":\"white\",\"linecolor\":\"white\",\"ticks\":\"\",\"title\":{\"standoff\":15},\"zerolinecolor\":\"white\",\"automargin\":true,\"zerolinewidth\":2},\"scene\":{\"xaxis\":{\"backgroundcolor\":\"#E5ECF6\",\"gridcolor\":\"white\",\"linecolor\":\"white\",\"showbackground\":true,\"ticks\":\"\",\"zerolinecolor\":\"white\",\"gridwidth\":2},\"yaxis\":{\"backgroundcolor\":\"#E5ECF6\",\"gridcolor\":\"white\",\"linecolor\":\"white\",\"showbackground\":true,\"ticks\":\"\",\"zerolinecolor\":\"white\",\"gridwidth\":2},\"zaxis\":{\"backgroundcolor\":\"#E5ECF6\",\"gridcolor\":\"white\",\"linecolor\":\"white\",\"showbackground\":true,\"ticks\":\"\",\"zerolinecolor\":\"white\",\"gridwidth\":2}},\"shapedefaults\":{\"line\":{\"color\":\"#2a3f5f\"}},\"annotationdefaults\":{\"arrowcolor\":\"#2a3f5f\",\"arrowhead\":0,\"arrowwidth\":1},\"geo\":{\"bgcolor\":\"white\",\"landcolor\":\"#E5ECF6\",\"subunitcolor\":\"white\",\"showland\":true,\"showlakes\":true,\"lakecolor\":\"white\"},\"title\":{\"x\":0.05},\"mapbox\":{\"style\":\"light\"}}},\"mapbox\":{\"domain\":{\"x\":[0.0,1.0],\"y\":[0.0,1.0]},\"center\":{\"lat\":38.890988181249995,\"lon\":-77.0091800875},\"accesstoken\":\"pk.eyJ1IjoiamFrZXBvbGF0dHkiLCJhIjoiY2xiNjFqajAxMDdvaTNycG12c21ocjE0aCJ9.u4v45cFbHgYTmwjVXnn7VQ\\n\",\"zoom\":8,\"style\":\"open-street-map\"},\"legend\":{\"tracegroupgap\":0},\"margin\":{\"t\":0,\"r\":0,\"l\":0,\"b\":0}},                        {\"responsive\": true}                    ).then(function(){\n",
       "                            \n",
       "var gd = document.getElementById('a49f2c53-5239-48d5-8f61-c51f1d1fa839');\n",
       "var x = new MutationObserver(function (mutations, observer) {{\n",
       "        var display = window.getComputedStyle(gd).display;\n",
       "        if (!display || display === 'none') {{\n",
       "            console.log([gd, 'removed!']);\n",
       "            Plotly.purge(gd);\n",
       "            observer.disconnect();\n",
       "        }}\n",
       "}});\n",
       "\n",
       "// Listen for the removal of the full notebook cells\n",
       "var notebookContainer = gd.closest('#notebook-container');\n",
       "if (notebookContainer) {{\n",
       "    x.observe(notebookContainer, {childList: true});\n",
       "}}\n",
       "\n",
       "// Listen for the clearing of the current output cell\n",
       "var outputEl = gd.closest('.output');\n",
       "if (outputEl) {{\n",
       "    x.observe(outputEl, {childList: true});\n",
       "}}\n",
       "\n",
       "                        })                };                });            </script>        </div>"
      ]
     },
     "metadata": {},
     "output_type": "display_data"
    }
   ],
   "source": [
    "mapbox_token = open(\".mapbox_token\").read()\n",
    "px.set_mapbox_access_token(mapbox_token)\n",
    "\n",
    "fig = px.scatter_mapbox(capitol_arrivals_df,\n",
    "                        lat='end_lat',\n",
    "                        lon='end_lng',\n",
    "                        hover_name='end_station_name',\n",
    "                        hover_data=['ended_at', 'duration'])\n",
    "fig.update_layout(mapbox_style=\"open-street-map\")\n",
    "fig.update_layout(margin={\"r\":0,\"t\":0,\"l\":0,\"b\":0})\n",
    "fig.show()"
   ]
  },
  {
   "cell_type": "code",
   "execution_count": 107,
   "id": "2527ab75",
   "metadata": {},
   "outputs": [
    {
     "data": {
      "application/vnd.plotly.v1+json": {
       "config": {
        "plotlyServerURL": "https://plot.ly"
       },
       "data": [
        {
         "marker": {
          "size": 10
         },
         "mode": "markers+lines",
         "type": "scattermapbox"
        },
        {
         "customdata": [
          [
           "17th & K St NW / Farragut Square",
           "2021-01-06T10:00:32"
          ],
          [
           "1st & D St SE",
           "2021-01-06T10:18:13"
          ]
         ],
         "hovertemplate": [
          "Start: (%{lat}, %{lon})<br>Leaving: %{customdata[0]}<br>At: %{customdata[1]}",
          "End: (%{lat}, %{lon})<br>Arriving: %{customdata[0]}<br>At: %{customdata[1]}"
         ],
         "lat": [
          38.902061,
          38.884916
         ],
         "lon": [
          -77.038322,
          -77.005965
         ],
         "marker": {
          "size": 8
         },
         "mode": "markers+lines",
         "type": "scattermapbox"
        },
        {
         "customdata": [
          [
           "4th & East Capitol St NE",
           "2021-01-06T10:02:36"
          ],
          [
           "Washington & Independence Ave SW/HHS",
           "2021-01-06T10:11:05"
          ]
         ],
         "hovertemplate": [
          "Start: (%{lat}, %{lon})<br>Leaving: %{customdata[0]}<br>At: %{customdata[1]}",
          "End: (%{lat}, %{lon})<br>Arriving: %{customdata[0]}<br>At: %{customdata[1]}"
         ],
         "lat": [
          38.889955,
          38.886978
         ],
         "lon": [
          -77.000349,
          -77.013769
         ],
         "marker": {
          "size": 8
         },
         "mode": "markers+lines",
         "type": "scattermapbox"
        },
        {
         "customdata": [
          [
           "7th & F St NW / National Portrait Gallery",
           "2021-01-06T10:12:18"
          ],
          [
           "Constitution Ave & 2nd St NW/DOL",
           "2021-01-06T11:22:04"
          ]
         ],
         "hovertemplate": [
          "Start: (%{lat}, %{lon})<br>Leaving: %{customdata[0]}<br>At: %{customdata[1]}",
          "End: (%{lat}, %{lon})<br>Arriving: %{customdata[0]}<br>At: %{customdata[1]}"
         ],
         "lat": [
          38.89728304853854,
          38.892275
         ],
         "lon": [
          -77.02219069004059,
          -77.013917
         ],
         "marker": {
          "size": 8
         },
         "mode": "markers+lines",
         "type": "scattermapbox"
        },
        {
         "customdata": [
          [
           "Eastern Market Metro / Pennsylvania Ave & 8th St SE",
           "2021-01-06T10:12:56"
          ],
          [
           "3rd St & Pennsylvania Ave SE",
           "2021-01-06T10:15:40"
          ]
         ],
         "hovertemplate": [
          "Start: (%{lat}, %{lon})<br>Leaving: %{customdata[0]}<br>At: %{customdata[1]}",
          "End: (%{lat}, %{lon})<br>Arriving: %{customdata[0]}<br>At: %{customdata[1]}"
         ],
         "lat": [
          38.884260087971725,
          38.887378
         ],
         "lon": [
          -76.99473559856415,
          -77.001955
         ],
         "marker": {
          "size": 8
         },
         "mode": "markers+lines",
         "type": "scattermapbox"
        },
        {
         "customdata": [
          [
           "3rd & G St SE",
           "2021-01-06T10:12:57"
          ],
          [
           "Washington & Independence Ave SW/HHS",
           "2021-01-06T12:58:14"
          ]
         ],
         "hovertemplate": [
          "Start: (%{lat}, %{lon})<br>Leaving: %{customdata[0]}<br>At: %{customdata[1]}",
          "End: (%{lat}, %{lon})<br>Arriving: %{customdata[0]}<br>At: %{customdata[1]}"
         ],
         "lat": [
          38.881185,
          38.886978
         ],
         "lon": [
          -77.001828,
          -77.013769
         ],
         "marker": {
          "size": 8
         },
         "mode": "markers+lines",
         "type": "scattermapbox"
        },
        {
         "customdata": [
          [
           "3rd & G St SE",
           "2021-01-06T10:20:00"
          ],
          [
           "Washington & Independence Ave SW/HHS",
           "2021-01-06T12:57:46"
          ]
         ],
         "hovertemplate": [
          "Start: (%{lat}, %{lon})<br>Leaving: %{customdata[0]}<br>At: %{customdata[1]}",
          "End: (%{lat}, %{lon})<br>Arriving: %{customdata[0]}<br>At: %{customdata[1]}"
         ],
         "lat": [
          38.881185,
          38.886978
         ],
         "lon": [
          -77.001828,
          -77.013769
         ],
         "marker": {
          "size": 8
         },
         "mode": "markers+lines",
         "type": "scattermapbox"
        },
        {
         "customdata": [
          [
           null,
           "2021-01-06T10:22:58"
          ],
          [
           "1st & D St SE",
           "2021-01-06T10:29:50"
          ]
         ],
         "hovertemplate": [
          "Start: (%{lat}, %{lon})<br>Leaving: %{customdata[0]}<br>At: %{customdata[1]}",
          "End: (%{lat}, %{lon})<br>Arriving: %{customdata[0]}<br>At: %{customdata[1]}"
         ],
         "lat": [
          38.88,
          38.88467333333333
         ],
         "lon": [
          -77.02,
          -77.0059595
         ],
         "marker": {
          "size": 8
         },
         "mode": "markers+lines",
         "type": "scattermapbox"
        },
        {
         "customdata": [
          [
           "4th & M St SE",
           "2021-01-06T10:24:58"
          ],
          [
           "Constitution Ave & 2nd St NW/DOL",
           "2021-01-06T10:52:41"
          ]
         ],
         "hovertemplate": [
          "Start: (%{lat}, %{lon})<br>Leaving: %{customdata[0]}<br>At: %{customdata[1]}",
          "End: (%{lat}, %{lon})<br>Arriving: %{customdata[0]}<br>At: %{customdata[1]}"
         ],
         "lat": [
          38.876751,
          38.892275
         ],
         "lon": [
          -77.000736,
          -77.013917
         ],
         "marker": {
          "size": 8
         },
         "mode": "markers+lines",
         "type": "scattermapbox"
        },
        {
         "customdata": [
          [
           "4th & M St SE",
           "2021-01-06T10:25:12"
          ],
          [
           "Constitution Ave & 2nd St NW/DOL",
           "2021-01-06T10:52:50"
          ]
         ],
         "hovertemplate": [
          "Start: (%{lat}, %{lon})<br>Leaving: %{customdata[0]}<br>At: %{customdata[1]}",
          "End: (%{lat}, %{lon})<br>Arriving: %{customdata[0]}<br>At: %{customdata[1]}"
         ],
         "lat": [
          38.876751,
          38.892275
         ],
         "lon": [
          -77.000736,
          -77.013917
         ],
         "marker": {
          "size": 8
         },
         "mode": "markers+lines",
         "type": "scattermapbox"
        },
        {
         "customdata": [
          [
           "6th & H St NE",
           "2021-01-06T10:31:17"
          ],
          [
           "Constitution Ave & 2nd St NW/DOL",
           "2021-01-06T10:58:26"
          ]
         ],
         "hovertemplate": [
          "Start: (%{lat}, %{lon})<br>Leaving: %{customdata[0]}<br>At: %{customdata[1]}",
          "End: (%{lat}, %{lon})<br>Arriving: %{customdata[0]}<br>At: %{customdata[1]}"
         ],
         "lat": [
          38.899972,
          38.892275
         ],
         "lon": [
          -76.998347,
          -77.013917
         ],
         "marker": {
          "size": 8
         },
         "mode": "markers+lines",
         "type": "scattermapbox"
        },
        {
         "customdata": [
          [
           "6th & H St NE",
           "2021-01-06T10:32:30"
          ],
          [
           "Constitution Ave & 2nd St NW/DOL",
           "2021-01-06T10:58:19"
          ]
         ],
         "hovertemplate": [
          "Start: (%{lat}, %{lon})<br>Leaving: %{customdata[0]}<br>At: %{customdata[1]}",
          "End: (%{lat}, %{lon})<br>Arriving: %{customdata[0]}<br>At: %{customdata[1]}"
         ],
         "lat": [
          38.899972,
          38.892275
         ],
         "lon": [
          -76.998347,
          -77.013917
         ],
         "marker": {
          "size": 8
         },
         "mode": "markers+lines",
         "type": "scattermapbox"
        },
        {
         "customdata": [
          [
           "10th St & Constitution Ave NW",
           "2021-01-06T10:35:19"
          ],
          [
           "Constitution Ave & 2nd St NW/DOL",
           "2021-01-06T12:59:01"
          ]
         ],
         "hovertemplate": [
          "Start: (%{lat}, %{lon})<br>Leaving: %{customdata[0]}<br>At: %{customdata[1]}",
          "End: (%{lat}, %{lon})<br>Arriving: %{customdata[0]}<br>At: %{customdata[1]}"
         ],
         "lat": [
          38.893028,
          38.892275
         ],
         "lon": [
          -77.026013,
          -77.013917
         ],
         "marker": {
          "size": 8
         },
         "mode": "markers+lines",
         "type": "scattermapbox"
        },
        {
         "customdata": [
          [
           "10th St & Constitution Ave NW",
           "2021-01-06T10:35:49"
          ],
          [
           "Constitution Ave & 2nd St NW/DOL",
           "2021-01-06T12:58:52"
          ]
         ],
         "hovertemplate": [
          "Start: (%{lat}, %{lon})<br>Leaving: %{customdata[0]}<br>At: %{customdata[1]}",
          "End: (%{lat}, %{lon})<br>Arriving: %{customdata[0]}<br>At: %{customdata[1]}"
         ],
         "lat": [
          38.893028,
          38.892275
         ],
         "lon": [
          -77.026013,
          -77.013917
         ],
         "marker": {
          "size": 8
         },
         "mode": "markers+lines",
         "type": "scattermapbox"
        },
        {
         "customdata": [
          [
           "Eastern Market / 7th & North Carolina Ave SE",
           "2021-01-06T10:36:16"
          ],
          [
           "Washington & Independence Ave SW/HHS",
           "2021-01-06T10:45:16"
          ]
         ],
         "hovertemplate": [
          "Start: (%{lat}, %{lon})<br>Leaving: %{customdata[0]}<br>At: %{customdata[1]}",
          "End: (%{lat}, %{lon})<br>Arriving: %{customdata[0]}<br>At: %{customdata[1]}"
         ],
         "lat": [
          38.886952,
          38.886978
         ],
         "lon": [
          -76.996806,
          -77.013769
         ],
         "marker": {
          "size": 8
         },
         "mode": "markers+lines",
         "type": "scattermapbox"
        },
        {
         "customdata": [
          [
           "10th St & Constitution Ave NW",
           "2021-01-06T10:40:09"
          ],
          [
           "Constitution Ave & 2nd St NW/DOL",
           "2021-01-06T11:20:20"
          ]
         ],
         "hovertemplate": [
          "Start: (%{lat}, %{lon})<br>Leaving: %{customdata[0]}<br>At: %{customdata[1]}",
          "End: (%{lat}, %{lon})<br>Arriving: %{customdata[0]}<br>At: %{customdata[1]}"
         ],
         "lat": [
          38.893028,
          38.892275
         ],
         "lon": [
          -77.026013,
          -77.013917
         ],
         "marker": {
          "size": 8
         },
         "mode": "markers+lines",
         "type": "scattermapbox"
        },
        {
         "customdata": [
          [
           "19th St & Constitution Ave NW",
           "2021-01-06T10:48:59"
          ],
          [
           "Columbus Circle / Union Station",
           "2021-01-06T13:43:47"
          ]
         ],
         "hovertemplate": [
          "Start: (%{lat}, %{lon})<br>Leaving: %{customdata[0]}<br>At: %{customdata[1]}",
          "End: (%{lat}, %{lon})<br>Arriving: %{customdata[0]}<br>At: %{customdata[1]}"
         ],
         "lat": [
          38.8923,
          38.89696
         ],
         "lon": [
          -77.0436,
          -77.00493
         ],
         "marker": {
          "size": 8
         },
         "mode": "markers+lines",
         "type": "scattermapbox"
        },
        {
         "customdata": [
          [
           "11th & C St SE",
           "2021-01-06T10:50:37"
          ],
          [
           "3rd & D St SE",
           "2021-01-06T10:54:36"
          ]
         ],
         "hovertemplate": [
          "Start: (%{lat}, %{lon})<br>Leaving: %{customdata[0]}<br>At: %{customdata[1]}",
          "End: (%{lat}, %{lon})<br>Arriving: %{customdata[0]}<br>At: %{customdata[1]}"
         ],
         "lat": [
          38.885908,
          38.8851
         ],
         "lon": [
          -76.991476,
          -77.0023
         ],
         "marker": {
          "size": 8
         },
         "mode": "markers+lines",
         "type": "scattermapbox"
        },
        {
         "customdata": [
          [
           "Columbus Circle / Union Station",
           "2021-01-06T11:03:17"
          ],
          [
           "Columbus Circle / Union Station",
           "2021-01-06T18:33:57"
          ]
         ],
         "hovertemplate": [
          "Start: (%{lat}, %{lon})<br>Leaving: %{customdata[0]}<br>At: %{customdata[1]}",
          "End: (%{lat}, %{lon})<br>Arriving: %{customdata[0]}<br>At: %{customdata[1]}"
         ],
         "lat": [
          38.89696,
          38.89696
         ],
         "lon": [
          -77.00493,
          -77.00493
         ],
         "marker": {
          "size": 8
         },
         "mode": "markers+lines",
         "type": "scattermapbox"
        },
        {
         "customdata": [
          [
           "1st & D St SE",
           "2021-01-06T11:07:28"
          ],
          [
           "1st & D St SE",
           "2021-01-06T12:18:22"
          ]
         ],
         "hovertemplate": [
          "Start: (%{lat}, %{lon})<br>Leaving: %{customdata[0]}<br>At: %{customdata[1]}",
          "End: (%{lat}, %{lon})<br>Arriving: %{customdata[0]}<br>At: %{customdata[1]}"
         ],
         "lat": [
          38.884916,
          38.884916
         ],
         "lon": [
          -77.005965,
          -77.005965
         ],
         "marker": {
          "size": 8
         },
         "mode": "markers+lines",
         "type": "scattermapbox"
        },
        {
         "customdata": [
          [
           "Washington & Independence Ave SW/HHS",
           "2021-01-06T11:09:18"
          ],
          [
           "Washington & Independence Ave SW/HHS",
           "2021-01-06T11:12:58"
          ]
         ],
         "hovertemplate": [
          "Start: (%{lat}, %{lon})<br>Leaving: %{customdata[0]}<br>At: %{customdata[1]}",
          "End: (%{lat}, %{lon})<br>Arriving: %{customdata[0]}<br>At: %{customdata[1]}"
         ],
         "lat": [
          38.886978,
          38.886978
         ],
         "lon": [
          -77.013769,
          -77.013769
         ],
         "marker": {
          "size": 8
         },
         "mode": "markers+lines",
         "type": "scattermapbox"
        },
        {
         "customdata": [
          [
           "Adams Mill & Columbia Rd NW",
           "2021-01-06T11:11:25"
          ],
          [
           "Constitution Ave & 2nd St NW/DOL",
           "2021-01-06T14:31:02"
          ]
         ],
         "hovertemplate": [
          "Start: (%{lat}, %{lon})<br>Leaving: %{customdata[0]}<br>At: %{customdata[1]}",
          "End: (%{lat}, %{lon})<br>Arriving: %{customdata[0]}<br>At: %{customdata[1]}"
         ],
         "lat": [
          38.922925,
          38.892275
         ],
         "lon": [
          -77.042581,
          -77.013917
         ],
         "marker": {
          "size": 8
         },
         "mode": "markers+lines",
         "type": "scattermapbox"
        },
        {
         "customdata": [
          [
           "Adams Mill & Columbia Rd NW",
           "2021-01-06T11:11:56"
          ],
          [
           "Constitution Ave & 2nd St NW/DOL",
           "2021-01-06T14:31:06"
          ]
         ],
         "hovertemplate": [
          "Start: (%{lat}, %{lon})<br>Leaving: %{customdata[0]}<br>At: %{customdata[1]}",
          "End: (%{lat}, %{lon})<br>Arriving: %{customdata[0]}<br>At: %{customdata[1]}"
         ],
         "lat": [
          38.922925,
          38.892275
         ],
         "lon": [
          -77.042581,
          -77.013917
         ],
         "marker": {
          "size": 8
         },
         "mode": "markers+lines",
         "type": "scattermapbox"
        },
        {
         "customdata": [
          [
           "Columbus Circle / Union Station",
           "2021-01-06T11:13:11"
          ],
          [
           "Columbus Circle / Union Station",
           "2021-01-06T18:36:59"
          ]
         ],
         "hovertemplate": [
          "Start: (%{lat}, %{lon})<br>Leaving: %{customdata[0]}<br>At: %{customdata[1]}",
          "End: (%{lat}, %{lon})<br>Arriving: %{customdata[0]}<br>At: %{customdata[1]}"
         ],
         "lat": [
          38.89696,
          38.89696
         ],
         "lon": [
          -77.00493,
          -77.00493
         ],
         "marker": {
          "size": 8
         },
         "mode": "markers+lines",
         "type": "scattermapbox"
        },
        {
         "customdata": [
          [
           "4th & D St NW / Judiciary Square",
           "2021-01-06T11:37:16"
          ],
          [
           "2nd St & Massachusetts Ave NE",
           "2021-01-06T11:43:30"
          ]
         ],
         "hovertemplate": [
          "Start: (%{lat}, %{lon})<br>Leaving: %{customdata[0]}<br>At: %{customdata[1]}",
          "End: (%{lat}, %{lon})<br>Arriving: %{customdata[0]}<br>At: %{customdata[1]}"
         ],
         "lat": [
          38.895344,
          38.894972
         ],
         "lon": [
          -77.016106,
          -77.003135
         ],
         "marker": {
          "size": 8
         },
         "mode": "markers+lines",
         "type": "scattermapbox"
        },
        {
         "customdata": [
          [
           "18th & New Hampshire Ave NW",
           "2021-01-06T11:38:30"
          ],
          [
           "Constitution Ave & 2nd St NW/DOL",
           "2021-01-06T12:03:34"
          ]
         ],
         "hovertemplate": [
          "Start: (%{lat}, %{lon})<br>Leaving: %{customdata[0]}<br>At: %{customdata[1]}",
          "End: (%{lat}, %{lon})<br>Arriving: %{customdata[0]}<br>At: %{customdata[1]}"
         ],
         "lat": [
          38.911268,
          38.892275
         ],
         "lon": [
          -77.041829,
          -77.013917
         ],
         "marker": {
          "size": 8
         },
         "mode": "markers+lines",
         "type": "scattermapbox"
        },
        {
         "customdata": [
          [
           "18th & New Hampshire Ave NW",
           "2021-01-06T11:38:37"
          ],
          [
           "Constitution Ave & 2nd St NW/DOL",
           "2021-01-06T12:03:34"
          ]
         ],
         "hovertemplate": [
          "Start: (%{lat}, %{lon})<br>Leaving: %{customdata[0]}<br>At: %{customdata[1]}",
          "End: (%{lat}, %{lon})<br>Arriving: %{customdata[0]}<br>At: %{customdata[1]}"
         ],
         "lat": [
          38.911268,
          38.892275
         ],
         "lon": [
          -77.041829,
          -77.013917
         ],
         "marker": {
          "size": 8
         },
         "mode": "markers+lines",
         "type": "scattermapbox"
        },
        {
         "customdata": [
          [
           "8th & East Capitol St NE",
           "2021-01-06T11:39:09"
          ],
          [
           "4th & East Capitol St NE",
           "2021-01-06T11:41:32"
          ]
         ],
         "hovertemplate": [
          "Start: (%{lat}, %{lon})<br>Leaving: %{customdata[0]}<br>At: %{customdata[1]}",
          "End: (%{lat}, %{lon})<br>Arriving: %{customdata[0]}<br>At: %{customdata[1]}"
         ],
         "lat": [
          38.889988,
          38.889955
         ],
         "lon": [
          -76.995193,
          -77.000349
         ],
         "marker": {
          "size": 8
         },
         "mode": "markers+lines",
         "type": "scattermapbox"
        },
        {
         "customdata": [
          [
           "8th & East Capitol St NE",
           "2021-01-06T11:45:58"
          ],
          [
           "Constitution Ave & 2nd St NW/DOL",
           "2021-01-06T11:57:02"
          ]
         ],
         "hovertemplate": [
          "Start: (%{lat}, %{lon})<br>Leaving: %{customdata[0]}<br>At: %{customdata[1]}",
          "End: (%{lat}, %{lon})<br>Arriving: %{customdata[0]}<br>At: %{customdata[1]}"
         ],
         "lat": [
          38.889988,
          38.892275
         ],
         "lon": [
          -76.995193,
          -77.013917
         ],
         "marker": {
          "size": 8
         },
         "mode": "markers+lines",
         "type": "scattermapbox"
        },
        {
         "customdata": [
          [
           "Henry Bacon Dr & Lincoln Memorial Circle NW",
           "2021-01-06T11:47:18"
          ],
          [
           "Columbus Circle / Union Station",
           "2021-01-06T12:52:05"
          ]
         ],
         "hovertemplate": [
          "Start: (%{lat}, %{lon})<br>Leaving: %{customdata[0]}<br>At: %{customdata[1]}",
          "End: (%{lat}, %{lon})<br>Arriving: %{customdata[0]}<br>At: %{customdata[1]}"
         ],
         "lat": [
          38.890539,
          38.89696
         ],
         "lon": [
          -77.049383,
          -77.00493
         ],
         "marker": {
          "size": 8
         },
         "mode": "markers+lines",
         "type": "scattermapbox"
        },
        {
         "customdata": [
          [
           "Metro Center / 12th & G St NW",
           "2021-01-06T11:50:03"
          ],
          [
           "Constitution Ave & 2nd St NW/DOL",
           "2021-01-06T12:49:56"
          ]
         ],
         "hovertemplate": [
          "Start: (%{lat}, %{lon})<br>Leaving: %{customdata[0]}<br>At: %{customdata[1]}",
          "End: (%{lat}, %{lon})<br>Arriving: %{customdata[0]}<br>At: %{customdata[1]}"
         ],
         "lat": [
          38.898364,
          38.892275
         ],
         "lon": [
          -77.027869,
          -77.013917
         ],
         "marker": {
          "size": 8
         },
         "mode": "markers+lines",
         "type": "scattermapbox"
        },
        {
         "customdata": [
          [
           "Metro Center / 12th & G St NW",
           "2021-01-06T11:57:44"
          ],
          [
           "Constitution Ave & 2nd St NW/DOL",
           "2021-01-06T12:50:04"
          ]
         ],
         "hovertemplate": [
          "Start: (%{lat}, %{lon})<br>Leaving: %{customdata[0]}<br>At: %{customdata[1]}",
          "End: (%{lat}, %{lon})<br>Arriving: %{customdata[0]}<br>At: %{customdata[1]}"
         ],
         "lat": [
          38.898364,
          38.892275
         ],
         "lon": [
          -77.027869,
          -77.013917
         ],
         "marker": {
          "size": 8
         },
         "mode": "markers+lines",
         "type": "scattermapbox"
        },
        {
         "customdata": [
          [
           "1st & N St  SE",
           "2021-01-06T12:07:31"
          ],
          [
           "Constitution Ave & 2nd St NW/DOL",
           "2021-01-06T12:38:57"
          ]
         ],
         "hovertemplate": [
          "Start: (%{lat}, %{lon})<br>Leaving: %{customdata[0]}<br>At: %{customdata[1]}",
          "End: (%{lat}, %{lon})<br>Arriving: %{customdata[0]}<br>At: %{customdata[1]}"
         ],
         "lat": [
          38.8743,
          38.892275
         ],
         "lon": [
          -77.0057,
          -77.013917
         ],
         "marker": {
          "size": 8
         },
         "mode": "markers+lines",
         "type": "scattermapbox"
        },
        {
         "customdata": [
          [
           "7th & K St NW",
           "2021-01-06T12:08:44"
          ],
          [
           "Constitution Ave & 2nd St NW/DOL",
           "2021-01-06T12:22:59"
          ]
         ],
         "hovertemplate": [
          "Start: (%{lat}, %{lon})<br>Leaving: %{customdata[0]}<br>At: %{customdata[1]}",
          "End: (%{lat}, %{lon})<br>Arriving: %{customdata[0]}<br>At: %{customdata[1]}"
         ],
         "lat": [
          38.902674,
          38.892275
         ],
         "lon": [
          -77.021392,
          -77.013917
         ],
         "marker": {
          "size": 8
         },
         "mode": "markers+lines",
         "type": "scattermapbox"
        },
        {
         "customdata": [
          [
           "7th & K St NW",
           "2021-01-06T12:09:21"
          ],
          [
           "Constitution Ave & 2nd St NW/DOL",
           "2021-01-06T12:23:03"
          ]
         ],
         "hovertemplate": [
          "Start: (%{lat}, %{lon})<br>Leaving: %{customdata[0]}<br>At: %{customdata[1]}",
          "End: (%{lat}, %{lon})<br>Arriving: %{customdata[0]}<br>At: %{customdata[1]}"
         ],
         "lat": [
          38.902674,
          38.892275
         ],
         "lon": [
          -77.021392,
          -77.013917
         ],
         "marker": {
          "size": 8
         },
         "mode": "markers+lines",
         "type": "scattermapbox"
        },
        {
         "customdata": [
          [
           "3rd St & Pennsylvania Ave SE",
           "2021-01-06T12:10:40"
          ],
          [
           "Constitution Ave & 2nd St NW/DOL",
           "2021-01-06T12:30:24"
          ]
         ],
         "hovertemplate": [
          "Start: (%{lat}, %{lon})<br>Leaving: %{customdata[0]}<br>At: %{customdata[1]}",
          "End: (%{lat}, %{lon})<br>Arriving: %{customdata[0]}<br>At: %{customdata[1]}"
         ],
         "lat": [
          38.887378,
          38.892275
         ],
         "lon": [
          -77.001955,
          -77.013917
         ],
         "marker": {
          "size": 8
         },
         "mode": "markers+lines",
         "type": "scattermapbox"
        },
        {
         "customdata": [
          [
           "Constitution Ave & 2nd St NW/DOL",
           "2021-01-06T12:11:19"
          ],
          [
           "2nd St & Massachusetts Ave NE",
           "2021-01-06T15:17:22"
          ]
         ],
         "hovertemplate": [
          "Start: (%{lat}, %{lon})<br>Leaving: %{customdata[0]}<br>At: %{customdata[1]}",
          "End: (%{lat}, %{lon})<br>Arriving: %{customdata[0]}<br>At: %{customdata[1]}"
         ],
         "lat": [
          38.892275,
          38.894972
         ],
         "lon": [
          -77.013917,
          -77.003135
         ],
         "marker": {
          "size": 8
         },
         "mode": "markers+lines",
         "type": "scattermapbox"
        },
        {
         "customdata": [
          [
           "15th St & Pennsylvania Ave NW",
           "2021-01-06T12:12:24"
          ],
          [
           "4th & East Capitol St NE",
           "2021-01-06T13:02:01"
          ]
         ],
         "hovertemplate": [
          "Start: (%{lat}, %{lon})<br>Leaving: %{customdata[0]}<br>At: %{customdata[1]}",
          "End: (%{lat}, %{lon})<br>Arriving: %{customdata[0]}<br>At: %{customdata[1]}"
         ],
         "lat": [
          38.8965345,
          38.8899305
         ],
         "lon": [
          -77.03326866666667,
          -77.000412
         ],
         "marker": {
          "size": 8
         },
         "mode": "markers+lines",
         "type": "scattermapbox"
        },
        {
         "customdata": [
          [
           "3rd St & Pennsylvania Ave SE",
           "2021-01-06T12:18:21"
          ],
          [
           "Constitution Ave & 2nd St NW/DOL",
           "2021-01-06T12:30:21"
          ]
         ],
         "hovertemplate": [
          "Start: (%{lat}, %{lon})<br>Leaving: %{customdata[0]}<br>At: %{customdata[1]}",
          "End: (%{lat}, %{lon})<br>Arriving: %{customdata[0]}<br>At: %{customdata[1]}"
         ],
         "lat": [
          38.887378,
          38.892275
         ],
         "lon": [
          -77.001955,
          -77.013917
         ],
         "marker": {
          "size": 8
         },
         "mode": "markers+lines",
         "type": "scattermapbox"
        },
        {
         "customdata": [
          [
           "4th & M St SE",
           "2021-01-06T12:27:12"
          ],
          [
           "1st & D St SE",
           "2021-01-06T12:41:45"
          ]
         ],
         "hovertemplate": [
          "Start: (%{lat}, %{lon})<br>Leaving: %{customdata[0]}<br>At: %{customdata[1]}",
          "End: (%{lat}, %{lon})<br>Arriving: %{customdata[0]}<br>At: %{customdata[1]}"
         ],
         "lat": [
          38.876751,
          38.884916
         ],
         "lon": [
          -77.000736,
          -77.005965
         ],
         "marker": {
          "size": 8
         },
         "mode": "markers+lines",
         "type": "scattermapbox"
        },
        {
         "customdata": [
          [
           "Henry Bacon Dr & Lincoln Memorial Circle NW",
           "2021-01-06T12:27:56"
          ],
          [
           "Constitution Ave & 2nd St NW/DOL",
           "2021-01-06T12:59:02"
          ]
         ],
         "hovertemplate": [
          "Start: (%{lat}, %{lon})<br>Leaving: %{customdata[0]}<br>At: %{customdata[1]}",
          "End: (%{lat}, %{lon})<br>Arriving: %{customdata[0]}<br>At: %{customdata[1]}"
         ],
         "lat": [
          38.890539,
          38.892275
         ],
         "lon": [
          -77.049383,
          -77.013917
         ],
         "marker": {
          "size": 8
         },
         "mode": "markers+lines",
         "type": "scattermapbox"
        },
        {
         "customdata": [
          [
           "15th St & Massachusetts Ave SE",
           "2021-01-06T12:34:11"
          ],
          [
           "3rd St & Pennsylvania Ave SE",
           "2021-01-06T12:43:18"
          ]
         ],
         "hovertemplate": [
          "Start: (%{lat}, %{lon})<br>Leaving: %{customdata[0]}<br>At: %{customdata[1]}",
          "End: (%{lat}, %{lon})<br>Arriving: %{customdata[0]}<br>At: %{customdata[1]}"
         ],
         "lat": [
          38.88732,
          38.887378
         ],
         "lon": [
          -76.983569,
          -77.001955
         ],
         "marker": {
          "size": 8
         },
         "mode": "markers+lines",
         "type": "scattermapbox"
        },
        {
         "customdata": [
          [
           "1st & D St SE",
           "2021-01-06T12:42:22"
          ],
          [
           "1st & D St SE",
           "2021-01-06T12:42:30"
          ]
         ],
         "hovertemplate": [
          "Start: (%{lat}, %{lon})<br>Leaving: %{customdata[0]}<br>At: %{customdata[1]}",
          "End: (%{lat}, %{lon})<br>Arriving: %{customdata[0]}<br>At: %{customdata[1]}"
         ],
         "lat": [
          38.88494566666667,
          38.884944833333336
         ],
         "lon": [
          -77.00594733333334,
          -77.005955
         ],
         "marker": {
          "size": 8
         },
         "mode": "markers+lines",
         "type": "scattermapbox"
        },
        {
         "customdata": [
          [
           "14th St & New York Ave NW",
           "2021-01-06T12:55:18"
          ],
          [
           "Constitution Ave & 2nd St NW/DOL",
           "2021-01-06T13:14:21"
          ]
         ],
         "hovertemplate": [
          "Start: (%{lat}, %{lon})<br>Leaving: %{customdata[0]}<br>At: %{customdata[1]}",
          "End: (%{lat}, %{lon})<br>Arriving: %{customdata[0]}<br>At: %{customdata[1]}"
         ],
         "lat": [
          38.899632,
          38.892275
         ],
         "lon": [
          -77.031686,
          -77.013917
         ],
         "marker": {
          "size": 8
         },
         "mode": "markers+lines",
         "type": "scattermapbox"
        },
        {
         "customdata": [
          [
           "15th & East Capitol St NE",
           "2021-01-06T12:59:15"
          ],
          [
           "4th & East Capitol St NE",
           "2021-01-06T13:07:14"
          ]
         ],
         "hovertemplate": [
          "Start: (%{lat}, %{lon})<br>Leaving: %{customdata[0]}<br>At: %{customdata[1]}",
          "End: (%{lat}, %{lon})<br>Arriving: %{customdata[0]}<br>At: %{customdata[1]}"
         ],
         "lat": [
          38.889908,
          38.889955
         ],
         "lon": [
          -76.983326,
          -77.000349
         ],
         "marker": {
          "size": 8
         },
         "mode": "markers+lines",
         "type": "scattermapbox"
        },
        {
         "customdata": [
          [
           "Washington & Independence Ave SW/HHS",
           "2021-01-06T13:00:54"
          ],
          [
           "Washington & Independence Ave SW/HHS",
           "2021-01-06T13:01:00"
          ]
         ],
         "hovertemplate": [
          "Start: (%{lat}, %{lon})<br>Leaving: %{customdata[0]}<br>At: %{customdata[1]}",
          "End: (%{lat}, %{lon})<br>Arriving: %{customdata[0]}<br>At: %{customdata[1]}"
         ],
         "lat": [
          38.886978,
          38.886978
         ],
         "lon": [
          -77.013769,
          -77.013769
         ],
         "marker": {
          "size": 8
         },
         "mode": "markers+lines",
         "type": "scattermapbox"
        },
        {
         "customdata": [
          [
           "10th St & Constitution Ave NW",
           "2021-01-06T13:02:12"
          ],
          [
           "Constitution Ave & 2nd St NW/DOL",
           "2021-01-06T14:12:37"
          ]
         ],
         "hovertemplate": [
          "Start: (%{lat}, %{lon})<br>Leaving: %{customdata[0]}<br>At: %{customdata[1]}",
          "End: (%{lat}, %{lon})<br>Arriving: %{customdata[0]}<br>At: %{customdata[1]}"
         ],
         "lat": [
          38.893028,
          38.892275
         ],
         "lon": [
          -77.026013,
          -77.013917
         ],
         "marker": {
          "size": 8
         },
         "mode": "markers+lines",
         "type": "scattermapbox"
        },
        {
         "customdata": [
          [
           "10th St & Constitution Ave NW",
           "2021-01-06T13:02:35"
          ],
          [
           "Constitution Ave & 2nd St NW/DOL",
           "2021-01-06T14:12:36"
          ]
         ],
         "hovertemplate": [
          "Start: (%{lat}, %{lon})<br>Leaving: %{customdata[0]}<br>At: %{customdata[1]}",
          "End: (%{lat}, %{lon})<br>Arriving: %{customdata[0]}<br>At: %{customdata[1]}"
         ],
         "lat": [
          38.893028,
          38.892275
         ],
         "lon": [
          -77.026013,
          -77.013917
         ],
         "marker": {
          "size": 8
         },
         "mode": "markers+lines",
         "type": "scattermapbox"
        },
        {
         "customdata": [
          [
           "10th St & Constitution Ave NW",
           "2021-01-06T13:05:21"
          ],
          [
           "Constitution Ave & 2nd St NW/DOL",
           "2021-01-06T14:12:46"
          ]
         ],
         "hovertemplate": [
          "Start: (%{lat}, %{lon})<br>Leaving: %{customdata[0]}<br>At: %{customdata[1]}",
          "End: (%{lat}, %{lon})<br>Arriving: %{customdata[0]}<br>At: %{customdata[1]}"
         ],
         "lat": [
          38.893028,
          38.892275
         ],
         "lon": [
          -77.026013,
          -77.013917
         ],
         "marker": {
          "size": 8
         },
         "mode": "markers+lines",
         "type": "scattermapbox"
        },
        {
         "customdata": [
          [
           "Smithsonian-National Mall / Jefferson Dr & 12th St SW",
           "2021-01-06T13:12:32"
          ],
          [
           "Columbus Circle / Union Station",
           "2021-01-06T15:00:50"
          ]
         ],
         "hovertemplate": [
          "Start: (%{lat}, %{lon})<br>Leaving: %{customdata[0]}<br>At: %{customdata[1]}",
          "End: (%{lat}, %{lon})<br>Arriving: %{customdata[0]}<br>At: %{customdata[1]}"
         ],
         "lat": [
          38.888774,
          38.89696
         ],
         "lon": [
          -77.028694,
          -77.00493
         ],
         "marker": {
          "size": 8
         },
         "mode": "markers+lines",
         "type": "scattermapbox"
        },
        {
         "customdata": [
          [
           "Lincoln Rd & Seaton Pl NE/Harry Thomas Rec Center",
           "2021-01-06T13:17:57"
          ],
          [
           "4th & East Capitol St NE",
           "2021-01-06T16:10:22"
          ]
         ],
         "hovertemplate": [
          "Start: (%{lat}, %{lon})<br>Leaving: %{customdata[0]}<br>At: %{customdata[1]}",
          "End: (%{lat}, %{lon})<br>Arriving: %{customdata[0]}<br>At: %{customdata[1]}"
         ],
         "lat": [
          38.915,
          38.889955
         ],
         "lon": [
          -77.0078,
          -77.000349
         ],
         "marker": {
          "size": 8
         },
         "mode": "markers+lines",
         "type": "scattermapbox"
        },
        {
         "customdata": [
          [
           "Lincoln Rd & Seaton Pl NE/Harry Thomas Rec Center",
           "2021-01-06T13:17:57"
          ],
          [
           "4th & East Capitol St NE",
           "2021-01-06T16:09:46"
          ]
         ],
         "hovertemplate": [
          "Start: (%{lat}, %{lon})<br>Leaving: %{customdata[0]}<br>At: %{customdata[1]}",
          "End: (%{lat}, %{lon})<br>Arriving: %{customdata[0]}<br>At: %{customdata[1]}"
         ],
         "lat": [
          38.915,
          38.889955
         ],
         "lon": [
          -77.0078,
          -77.000349
         ],
         "marker": {
          "size": 8
         },
         "mode": "markers+lines",
         "type": "scattermapbox"
        },
        {
         "customdata": [
          [
           "USDA / 12th & C St SW",
           "2021-01-06T13:22:20"
          ],
          [
           "4th & East Capitol St NE",
           "2021-01-06T15:02:13"
          ]
         ],
         "hovertemplate": [
          "Start: (%{lat}, %{lon})<br>Leaving: %{customdata[0]}<br>At: %{customdata[1]}",
          "End: (%{lat}, %{lon})<br>Arriving: %{customdata[0]}<br>At: %{customdata[1]}"
         ],
         "lat": [
          38.88627694506511,
          38.889955
         ],
         "lon": [
          -77.02824175357819,
          -77.000349
         ],
         "marker": {
          "size": 8
         },
         "mode": "markers+lines",
         "type": "scattermapbox"
        },
        {
         "customdata": [
          [
           "Smithsonian-National Mall / Jefferson Dr & 12th St SW",
           "2021-01-06T13:30:40"
          ],
          [
           "Washington & Independence Ave SW/HHS",
           "2021-01-06T15:16:27"
          ]
         ],
         "hovertemplate": [
          "Start: (%{lat}, %{lon})<br>Leaving: %{customdata[0]}<br>At: %{customdata[1]}",
          "End: (%{lat}, %{lon})<br>Arriving: %{customdata[0]}<br>At: %{customdata[1]}"
         ],
         "lat": [
          38.888774,
          38.886978
         ],
         "lon": [
          -77.028694,
          -77.013769
         ],
         "marker": {
          "size": 8
         },
         "mode": "markers+lines",
         "type": "scattermapbox"
        },
        {
         "customdata": [
          [
           "8th & K St NE",
           "2021-01-06T13:34:27"
          ],
          [
           "Constitution Ave & 2nd St NW/DOL",
           "2021-01-06T13:58:10"
          ]
         ],
         "hovertemplate": [
          "Start: (%{lat}, %{lon})<br>Leaving: %{customdata[0]}<br>At: %{customdata[1]}",
          "End: (%{lat}, %{lon})<br>Arriving: %{customdata[0]}<br>At: %{customdata[1]}"
         ],
         "lat": [
          38.90273216425078,
          38.892275
         ],
         "lon": [
          -76.99514991079923,
          -77.013917
         ],
         "marker": {
          "size": 8
         },
         "mode": "markers+lines",
         "type": "scattermapbox"
        },
        {
         "customdata": [
          [
           "6th & H St NE",
           "2021-01-06T13:40:44"
          ],
          [
           "3rd St & Pennsylvania Ave SE",
           "2021-01-06T13:47:26"
          ]
         ],
         "hovertemplate": [
          "Start: (%{lat}, %{lon})<br>Leaving: %{customdata[0]}<br>At: %{customdata[1]}",
          "End: (%{lat}, %{lon})<br>Arriving: %{customdata[0]}<br>At: %{customdata[1]}"
         ],
         "lat": [
          38.899972,
          38.887378
         ],
         "lon": [
          -76.998347,
          -77.001955
         ],
         "marker": {
          "size": 8
         },
         "mode": "markers+lines",
         "type": "scattermapbox"
        },
        {
         "customdata": [
          [
           "Maryland Ave & E St NE",
           "2021-01-06T13:41:03"
          ],
          [
           "3rd & D St SE",
           "2021-01-06T13:47:38"
          ]
         ],
         "hovertemplate": [
          "Start: (%{lat}, %{lon})<br>Leaving: %{customdata[0]}<br>At: %{customdata[1]}",
          "End: (%{lat}, %{lon})<br>Arriving: %{customdata[0]}<br>At: %{customdata[1]}"
         ],
         "lat": [
          38.896134,
          38.8851
         ],
         "lon": [
          -76.9929,
          -77.0023
         ],
         "marker": {
          "size": 8
         },
         "mode": "markers+lines",
         "type": "scattermapbox"
        },
        {
         "customdata": [
          [
           "3rd St & Pennsylvania Ave SE",
           "2021-01-06T13:47:46"
          ],
          [
           "3rd St & Pennsylvania Ave SE",
           "2021-01-06T13:48:00"
          ]
         ],
         "hovertemplate": [
          "Start: (%{lat}, %{lon})<br>Leaving: %{customdata[0]}<br>At: %{customdata[1]}",
          "End: (%{lat}, %{lon})<br>Arriving: %{customdata[0]}<br>At: %{customdata[1]}"
         ],
         "lat": [
          38.887378,
          38.887378
         ],
         "lon": [
          -77.001955,
          -77.001955
         ],
         "marker": {
          "size": 8
         },
         "mode": "markers+lines",
         "type": "scattermapbox"
        },
        {
         "customdata": [
          [
           "Maryland Ave & 17th St NE",
           "2021-01-06T13:47:58"
          ],
          [
           "Columbus Circle / Union Station",
           "2021-01-06T13:57:13"
          ]
         ],
         "hovertemplate": [
          "Start: (%{lat}, %{lon})<br>Leaving: %{customdata[0]}<br>At: %{customdata[1]}",
          "End: (%{lat}, %{lon})<br>Arriving: %{customdata[0]}<br>At: %{customdata[1]}"
         ],
         "lat": [
          38.901935,
          38.89696
         ],
         "lon": [
          -76.978627,
          -77.00493
         ],
         "marker": {
          "size": 8
         },
         "mode": "markers+lines",
         "type": "scattermapbox"
        },
        {
         "customdata": [
          [
           "Lincoln Memorial",
           "2021-01-06T13:51:55"
          ],
          [
           "Columbus Circle / Union Station",
           "2021-01-06T14:57:36"
          ]
         ],
         "hovertemplate": [
          "Start: (%{lat}, %{lon})<br>Leaving: %{customdata[0]}<br>At: %{customdata[1]}",
          "End: (%{lat}, %{lon})<br>Arriving: %{customdata[0]}<br>At: %{customdata[1]}"
         ],
         "lat": [
          38.888255,
          38.89696
         ],
         "lon": [
          -77.049437,
          -77.00493
         ],
         "marker": {
          "size": 8
         },
         "mode": "markers+lines",
         "type": "scattermapbox"
        },
        {
         "customdata": [
          [
           "Constitution Ave & 2nd St NW/DOL",
           "2021-01-06T13:58:36"
          ],
          [
           "Constitution Ave & 2nd St NW/DOL",
           "2021-01-06T14:47:09"
          ]
         ],
         "hovertemplate": [
          "Start: (%{lat}, %{lon})<br>Leaving: %{customdata[0]}<br>At: %{customdata[1]}",
          "End: (%{lat}, %{lon})<br>Arriving: %{customdata[0]}<br>At: %{customdata[1]}"
         ],
         "lat": [
          38.892275,
          38.892275
         ],
         "lon": [
          -77.013917,
          -77.013917
         ],
         "marker": {
          "size": 8
         },
         "mode": "markers+lines",
         "type": "scattermapbox"
        },
        {
         "customdata": [
          [
           "Henry Bacon Dr & Lincoln Memorial Circle NW",
           "2021-01-06T14:01:09"
          ],
          [
           "Columbus Circle / Union Station",
           "2021-01-06T14:57:20"
          ]
         ],
         "hovertemplate": [
          "Start: (%{lat}, %{lon})<br>Leaving: %{customdata[0]}<br>At: %{customdata[1]}",
          "End: (%{lat}, %{lon})<br>Arriving: %{customdata[0]}<br>At: %{customdata[1]}"
         ],
         "lat": [
          38.890539,
          38.89696
         ],
         "lon": [
          -77.049383,
          -77.00493
         ],
         "marker": {
          "size": 8
         },
         "mode": "markers+lines",
         "type": "scattermapbox"
        },
        {
         "customdata": [
          [
           "New Jersey Ave & F St NW",
           "2021-01-06T14:10:07"
          ],
          [
           "Constitution Ave & 2nd St NW/DOL",
           "2021-01-06T14:16:32"
          ]
         ],
         "hovertemplate": [
          "Start: (%{lat}, %{lon})<br>Leaving: %{customdata[0]}<br>At: %{customdata[1]}",
          "End: (%{lat}, %{lon})<br>Arriving: %{customdata[0]}<br>At: %{customdata[1]}"
         ],
         "lat": [
          38.897108,
          38.892275
         ],
         "lon": [
          -77.011616,
          -77.013917
         ],
         "marker": {
          "size": 8
         },
         "mode": "markers+lines",
         "type": "scattermapbox"
        },
        {
         "customdata": [
          [
           "10th St & Constitution Ave NW",
           "2021-01-06T14:11:53"
          ],
          [
           "Constitution Ave & 2nd St NW/DOL",
           "2021-01-06T14:18:41"
          ]
         ],
         "hovertemplate": [
          "Start: (%{lat}, %{lon})<br>Leaving: %{customdata[0]}<br>At: %{customdata[1]}",
          "End: (%{lat}, %{lon})<br>Arriving: %{customdata[0]}<br>At: %{customdata[1]}"
         ],
         "lat": [
          38.893028,
          38.892275
         ],
         "lon": [
          -77.026013,
          -77.013917
         ],
         "marker": {
          "size": 8
         },
         "mode": "markers+lines",
         "type": "scattermapbox"
        },
        {
         "customdata": [
          [
           "1st & K St SE",
           "2021-01-06T14:17:59"
          ],
          [
           "3rd St & Pennsylvania Ave SE",
           "2021-01-06T14:56:06"
          ]
         ],
         "hovertemplate": [
          "Start: (%{lat}, %{lon})<br>Leaving: %{customdata[0]}<br>At: %{customdata[1]}",
          "End: (%{lat}, %{lon})<br>Arriving: %{customdata[0]}<br>At: %{customdata[1]}"
         ],
         "lat": [
          38.878854378063295,
          38.887378
         ],
         "lon": [
          -77.00572729110718,
          -77.001955
         ],
         "marker": {
          "size": 8
         },
         "mode": "markers+lines",
         "type": "scattermapbox"
        },
        {
         "customdata": [
          [
           "Arlington Blvd & N Queen St",
           "2021-01-06T14:20:25"
          ],
          [
           "Constitution Ave & 2nd St NW/DOL",
           "2021-01-06T15:42:43"
          ]
         ],
         "hovertemplate": [
          "Start: (%{lat}, %{lon})<br>Leaving: %{customdata[0]}<br>At: %{customdata[1]}",
          "End: (%{lat}, %{lon})<br>Arriving: %{customdata[0]}<br>At: %{customdata[1]}"
         ],
         "lat": [
          38.889365,
          38.892275
         ],
         "lon": [
          -77.077294,
          -77.013917
         ],
         "marker": {
          "size": 8
         },
         "mode": "markers+lines",
         "type": "scattermapbox"
        },
        {
         "customdata": [
          [
           "15th & K St NW",
           "2021-01-06T14:25:13"
          ],
          [
           "Constitution Ave & 2nd St NW/DOL",
           "2021-01-06T14:43:13"
          ]
         ],
         "hovertemplate": [
          "Start: (%{lat}, %{lon})<br>Leaving: %{customdata[0]}<br>At: %{customdata[1]}",
          "End: (%{lat}, %{lon})<br>Arriving: %{customdata[0]}<br>At: %{customdata[1]}"
         ],
         "lat": [
          38.902,
          38.892275
         ],
         "lon": [
          -77.03353,
          -77.013917
         ],
         "marker": {
          "size": 8
         },
         "mode": "markers+lines",
         "type": "scattermapbox"
        },
        {
         "customdata": [
          [
           "Lincoln Park / 13th & East Capitol St NE ",
           "2021-01-06T14:26:32"
          ],
          [
           "Columbus Circle / Union Station",
           "2021-01-06T15:06:06"
          ]
         ],
         "hovertemplate": [
          "Start: (%{lat}, %{lon})<br>Leaving: %{customdata[0]}<br>At: %{customdata[1]}",
          "End: (%{lat}, %{lon})<br>Arriving: %{customdata[0]}<br>At: %{customdata[1]}"
         ],
         "lat": [
          38.890461,
          38.89696
         ],
         "lon": [
          -76.988355,
          -77.00493
         ],
         "marker": {
          "size": 8
         },
         "mode": "markers+lines",
         "type": "scattermapbox"
        },
        {
         "customdata": [
          [
           "4th St & G St SW",
           "2021-01-06T14:27:22"
          ],
          [
           "Washington & Independence Ave SW/HHS",
           "2021-01-06T14:36:50"
          ]
         ],
         "hovertemplate": [
          "Start: (%{lat}, %{lon})<br>Leaving: %{customdata[0]}<br>At: %{customdata[1]}",
          "End: (%{lat}, %{lon})<br>Arriving: %{customdata[0]}<br>At: %{customdata[1]}"
         ],
         "lat": [
          38.881123,
          38.886978
         ],
         "lon": [
          -77.017658,
          -77.013769
         ],
         "marker": {
          "size": 8
         },
         "mode": "markers+lines",
         "type": "scattermapbox"
        },
        {
         "customdata": [
          [
           "4th St & G St SW",
           "2021-01-06T14:27:45"
          ],
          [
           "Washington & Independence Ave SW/HHS",
           "2021-01-06T14:37:02"
          ]
         ],
         "hovertemplate": [
          "Start: (%{lat}, %{lon})<br>Leaving: %{customdata[0]}<br>At: %{customdata[1]}",
          "End: (%{lat}, %{lon})<br>Arriving: %{customdata[0]}<br>At: %{customdata[1]}"
         ],
         "lat": [
          38.881123,
          38.886978
         ],
         "lon": [
          -77.017658,
          -77.013769
         ],
         "marker": {
          "size": 8
         },
         "mode": "markers+lines",
         "type": "scattermapbox"
        },
        {
         "customdata": [
          [
           "1st & K St SE",
           "2021-01-06T14:30:13"
          ],
          [
           "Columbus Circle / Union Station",
           "2021-01-06T14:39:47"
          ]
         ],
         "hovertemplate": [
          "Start: (%{lat}, %{lon})<br>Leaving: %{customdata[0]}<br>At: %{customdata[1]}",
          "End: (%{lat}, %{lon})<br>Arriving: %{customdata[0]}<br>At: %{customdata[1]}"
         ],
         "lat": [
          38.878851833333336,
          38.89699783333333
         ],
         "lon": [
          -77.00608366666667,
          -77.0048565
         ],
         "marker": {
          "size": 8
         },
         "mode": "markers+lines",
         "type": "scattermapbox"
        },
        {
         "customdata": [
          [
           "10th & G St NW",
           "2021-01-06T14:38:32"
          ],
          [
           "4th & East Capitol St NE",
           "2021-01-06T15:08:07"
          ]
         ],
         "hovertemplate": [
          "Start: (%{lat}, %{lon})<br>Leaving: %{customdata[0]}<br>At: %{customdata[1]}",
          "End: (%{lat}, %{lon})<br>Arriving: %{customdata[0]}<br>At: %{customdata[1]}"
         ],
         "lat": [
          38.89824328774852,
          38.889955
         ],
         "lon": [
          -77.02623546123505,
          -77.000349
         ],
         "marker": {
          "size": 8
         },
         "mode": "markers+lines",
         "type": "scattermapbox"
        },
        {
         "customdata": [
          [
           "10th & G St NW",
           "2021-01-06T14:38:52"
          ],
          [
           "4th & East Capitol St NE",
           "2021-01-06T15:08:05"
          ]
         ],
         "hovertemplate": [
          "Start: (%{lat}, %{lon})<br>Leaving: %{customdata[0]}<br>At: %{customdata[1]}",
          "End: (%{lat}, %{lon})<br>Arriving: %{customdata[0]}<br>At: %{customdata[1]}"
         ],
         "lat": [
          38.89824328774852,
          38.889955
         ],
         "lon": [
          -77.02623546123505,
          -77.000349
         ],
         "marker": {
          "size": 8
         },
         "mode": "markers+lines",
         "type": "scattermapbox"
        },
        {
         "customdata": [
          [
           "1st & M St NE",
           "2021-01-06T14:39:36"
          ],
          [
           "Constitution Ave & 2nd St NW/DOL",
           "2021-01-06T15:10:21"
          ]
         ],
         "hovertemplate": [
          "Start: (%{lat}, %{lon})<br>Leaving: %{customdata[0]}<br>At: %{customdata[1]}",
          "End: (%{lat}, %{lon})<br>Arriving: %{customdata[0]}<br>At: %{customdata[1]}"
         ],
         "lat": [
          38.905697,
          38.892275
         ],
         "lon": [
          -77.005483,
          -77.013917
         ],
         "marker": {
          "size": 8
         },
         "mode": "markers+lines",
         "type": "scattermapbox"
        },
        {
         "customdata": [
          [
           "1st & M St NE",
           "2021-01-06T14:40:37"
          ],
          [
           "Constitution Ave & 2nd St NW/DOL",
           "2021-01-06T15:12:21"
          ]
         ],
         "hovertemplate": [
          "Start: (%{lat}, %{lon})<br>Leaving: %{customdata[0]}<br>At: %{customdata[1]}",
          "End: (%{lat}, %{lon})<br>Arriving: %{customdata[0]}<br>At: %{customdata[1]}"
         ],
         "lat": [
          38.905697,
          38.892275
         ],
         "lon": [
          -77.005483,
          -77.013917
         ],
         "marker": {
          "size": 8
         },
         "mode": "markers+lines",
         "type": "scattermapbox"
        },
        {
         "customdata": [
          [
           "New York Ave & 15th St NW",
           "2021-01-06T14:41:13"
          ],
          [
           "Constitution Ave & 2nd St NW/DOL",
           "2021-01-06T14:57:07"
          ]
         ],
         "hovertemplate": [
          "Start: (%{lat}, %{lon})<br>Leaving: %{customdata[0]}<br>At: %{customdata[1]}",
          "End: (%{lat}, %{lon})<br>Arriving: %{customdata[0]}<br>At: %{customdata[1]}"
         ],
         "lat": [
          38.89903234416315,
          38.892275
         ],
         "lon": [
          -77.03335404396057,
          -77.013917
         ],
         "marker": {
          "size": 8
         },
         "mode": "markers+lines",
         "type": "scattermapbox"
        },
        {
         "customdata": [
          [
           "North Capitol St & F St NW",
           "2021-01-06T14:44:30"
          ],
          [
           "3rd St & Pennsylvania Ave SE",
           "2021-01-06T15:06:08"
          ]
         ],
         "hovertemplate": [
          "Start: (%{lat}, %{lon})<br>Leaving: %{customdata[0]}<br>At: %{customdata[1]}",
          "End: (%{lat}, %{lon})<br>Arriving: %{customdata[0]}<br>At: %{customdata[1]}"
         ],
         "lat": [
          38.897446,
          38.887378
         ],
         "lon": [
          -77.009888,
          -77.001955
         ],
         "marker": {
          "size": 8
         },
         "mode": "markers+lines",
         "type": "scattermapbox"
        },
        {
         "customdata": [
          [
           "New York Ave & Hecht Ave NE",
           "2021-01-06T14:47:42"
          ],
          [
           "Columbus Circle / Union Station",
           "2021-01-06T14:59:15"
          ]
         ],
         "hovertemplate": [
          "Start: (%{lat}, %{lon})<br>Leaving: %{customdata[0]}<br>At: %{customdata[1]}",
          "End: (%{lat}, %{lon})<br>Arriving: %{customdata[0]}<br>At: %{customdata[1]}"
         ],
         "lat": [
          38.915604,
          38.89696
         ],
         "lon": [
          -76.983683,
          -77.00493
         ],
         "marker": {
          "size": 8
         },
         "mode": "markers+lines",
         "type": "scattermapbox"
        },
        {
         "customdata": [
          [
           "Independence Ave & L'Enfant Plaza SW/DOE",
           "2021-01-06T14:56:28"
          ],
          [
           "Washington & Independence Ave SW/HHS",
           "2021-01-06T15:19:14"
          ]
         ],
         "hovertemplate": [
          "Start: (%{lat}, %{lon})<br>Leaving: %{customdata[0]}<br>At: %{customdata[1]}",
          "End: (%{lat}, %{lon})<br>Arriving: %{customdata[0]}<br>At: %{customdata[1]}"
         ],
         "lat": [
          38.887312,
          38.886978
         ],
         "lon": [
          -77.025762,
          -77.013769
         ],
         "marker": {
          "size": 8
         },
         "mode": "markers+lines",
         "type": "scattermapbox"
        },
        {
         "customdata": [
          [
           "4th & D St NW / Judiciary Square",
           "2021-01-06T14:56:37"
          ],
          [
           "4th & East Capitol St NE",
           "2021-01-06T15:13:13"
          ]
         ],
         "hovertemplate": [
          "Start: (%{lat}, %{lon})<br>Leaving: %{customdata[0]}<br>At: %{customdata[1]}",
          "End: (%{lat}, %{lon})<br>Arriving: %{customdata[0]}<br>At: %{customdata[1]}"
         ],
         "lat": [
          38.895344,
          38.889955
         ],
         "lon": [
          -77.016106,
          -77.000349
         ],
         "marker": {
          "size": 8
         },
         "mode": "markers+lines",
         "type": "scattermapbox"
        },
        {
         "customdata": [
          [
           "Independence Ave & L'Enfant Plaza SW/DOE",
           "2021-01-06T14:59:56"
          ],
          [
           "Washington & Independence Ave SW/HHS",
           "2021-01-06T15:12:30"
          ]
         ],
         "hovertemplate": [
          "Start: (%{lat}, %{lon})<br>Leaving: %{customdata[0]}<br>At: %{customdata[1]}",
          "End: (%{lat}, %{lon})<br>Arriving: %{customdata[0]}<br>At: %{customdata[1]}"
         ],
         "lat": [
          38.887312,
          38.886978
         ],
         "lon": [
          -77.025762,
          -77.013769
         ],
         "marker": {
          "size": 8
         },
         "mode": "markers+lines",
         "type": "scattermapbox"
        }
       ],
       "layout": {
        "mapbox": {
         "accesstoken": "pk.eyJ1IjoiamFrZXBvbGF0dHkiLCJhIjoiY2xiNjFqajAxMDdvaTNycG12c21ocjE0aCJ9.u4v45cFbHgYTmwjVXnn7VQ\n",
         "center": {
          "lat": 38.9,
          "lon": -77
         },
         "zoom": 11
        },
        "margin": {
         "b": 0,
         "l": 0,
         "r": 0,
         "t": 0
        },
        "template": {
         "data": {
          "bar": [
           {
            "error_x": {
             "color": "#2a3f5f"
            },
            "error_y": {
             "color": "#2a3f5f"
            },
            "marker": {
             "line": {
              "color": "#E5ECF6",
              "width": 0.5
             },
             "pattern": {
              "fillmode": "overlay",
              "size": 10,
              "solidity": 0.2
             }
            },
            "type": "bar"
           }
          ],
          "barpolar": [
           {
            "marker": {
             "line": {
              "color": "#E5ECF6",
              "width": 0.5
             },
             "pattern": {
              "fillmode": "overlay",
              "size": 10,
              "solidity": 0.2
             }
            },
            "type": "barpolar"
           }
          ],
          "carpet": [
           {
            "aaxis": {
             "endlinecolor": "#2a3f5f",
             "gridcolor": "white",
             "linecolor": "white",
             "minorgridcolor": "white",
             "startlinecolor": "#2a3f5f"
            },
            "baxis": {
             "endlinecolor": "#2a3f5f",
             "gridcolor": "white",
             "linecolor": "white",
             "minorgridcolor": "white",
             "startlinecolor": "#2a3f5f"
            },
            "type": "carpet"
           }
          ],
          "choropleth": [
           {
            "colorbar": {
             "outlinewidth": 0,
             "ticks": ""
            },
            "type": "choropleth"
           }
          ],
          "contour": [
           {
            "colorbar": {
             "outlinewidth": 0,
             "ticks": ""
            },
            "colorscale": [
             [
              0,
              "#0d0887"
             ],
             [
              0.1111111111111111,
              "#46039f"
             ],
             [
              0.2222222222222222,
              "#7201a8"
             ],
             [
              0.3333333333333333,
              "#9c179e"
             ],
             [
              0.4444444444444444,
              "#bd3786"
             ],
             [
              0.5555555555555556,
              "#d8576b"
             ],
             [
              0.6666666666666666,
              "#ed7953"
             ],
             [
              0.7777777777777778,
              "#fb9f3a"
             ],
             [
              0.8888888888888888,
              "#fdca26"
             ],
             [
              1,
              "#f0f921"
             ]
            ],
            "type": "contour"
           }
          ],
          "contourcarpet": [
           {
            "colorbar": {
             "outlinewidth": 0,
             "ticks": ""
            },
            "type": "contourcarpet"
           }
          ],
          "heatmap": [
           {
            "colorbar": {
             "outlinewidth": 0,
             "ticks": ""
            },
            "colorscale": [
             [
              0,
              "#0d0887"
             ],
             [
              0.1111111111111111,
              "#46039f"
             ],
             [
              0.2222222222222222,
              "#7201a8"
             ],
             [
              0.3333333333333333,
              "#9c179e"
             ],
             [
              0.4444444444444444,
              "#bd3786"
             ],
             [
              0.5555555555555556,
              "#d8576b"
             ],
             [
              0.6666666666666666,
              "#ed7953"
             ],
             [
              0.7777777777777778,
              "#fb9f3a"
             ],
             [
              0.8888888888888888,
              "#fdca26"
             ],
             [
              1,
              "#f0f921"
             ]
            ],
            "type": "heatmap"
           }
          ],
          "heatmapgl": [
           {
            "colorbar": {
             "outlinewidth": 0,
             "ticks": ""
            },
            "colorscale": [
             [
              0,
              "#0d0887"
             ],
             [
              0.1111111111111111,
              "#46039f"
             ],
             [
              0.2222222222222222,
              "#7201a8"
             ],
             [
              0.3333333333333333,
              "#9c179e"
             ],
             [
              0.4444444444444444,
              "#bd3786"
             ],
             [
              0.5555555555555556,
              "#d8576b"
             ],
             [
              0.6666666666666666,
              "#ed7953"
             ],
             [
              0.7777777777777778,
              "#fb9f3a"
             ],
             [
              0.8888888888888888,
              "#fdca26"
             ],
             [
              1,
              "#f0f921"
             ]
            ],
            "type": "heatmapgl"
           }
          ],
          "histogram": [
           {
            "marker": {
             "pattern": {
              "fillmode": "overlay",
              "size": 10,
              "solidity": 0.2
             }
            },
            "type": "histogram"
           }
          ],
          "histogram2d": [
           {
            "colorbar": {
             "outlinewidth": 0,
             "ticks": ""
            },
            "colorscale": [
             [
              0,
              "#0d0887"
             ],
             [
              0.1111111111111111,
              "#46039f"
             ],
             [
              0.2222222222222222,
              "#7201a8"
             ],
             [
              0.3333333333333333,
              "#9c179e"
             ],
             [
              0.4444444444444444,
              "#bd3786"
             ],
             [
              0.5555555555555556,
              "#d8576b"
             ],
             [
              0.6666666666666666,
              "#ed7953"
             ],
             [
              0.7777777777777778,
              "#fb9f3a"
             ],
             [
              0.8888888888888888,
              "#fdca26"
             ],
             [
              1,
              "#f0f921"
             ]
            ],
            "type": "histogram2d"
           }
          ],
          "histogram2dcontour": [
           {
            "colorbar": {
             "outlinewidth": 0,
             "ticks": ""
            },
            "colorscale": [
             [
              0,
              "#0d0887"
             ],
             [
              0.1111111111111111,
              "#46039f"
             ],
             [
              0.2222222222222222,
              "#7201a8"
             ],
             [
              0.3333333333333333,
              "#9c179e"
             ],
             [
              0.4444444444444444,
              "#bd3786"
             ],
             [
              0.5555555555555556,
              "#d8576b"
             ],
             [
              0.6666666666666666,
              "#ed7953"
             ],
             [
              0.7777777777777778,
              "#fb9f3a"
             ],
             [
              0.8888888888888888,
              "#fdca26"
             ],
             [
              1,
              "#f0f921"
             ]
            ],
            "type": "histogram2dcontour"
           }
          ],
          "mesh3d": [
           {
            "colorbar": {
             "outlinewidth": 0,
             "ticks": ""
            },
            "type": "mesh3d"
           }
          ],
          "parcoords": [
           {
            "line": {
             "colorbar": {
              "outlinewidth": 0,
              "ticks": ""
             }
            },
            "type": "parcoords"
           }
          ],
          "pie": [
           {
            "automargin": true,
            "type": "pie"
           }
          ],
          "scatter": [
           {
            "fillpattern": {
             "fillmode": "overlay",
             "size": 10,
             "solidity": 0.2
            },
            "type": "scatter"
           }
          ],
          "scatter3d": [
           {
            "line": {
             "colorbar": {
              "outlinewidth": 0,
              "ticks": ""
             }
            },
            "marker": {
             "colorbar": {
              "outlinewidth": 0,
              "ticks": ""
             }
            },
            "type": "scatter3d"
           }
          ],
          "scattercarpet": [
           {
            "marker": {
             "colorbar": {
              "outlinewidth": 0,
              "ticks": ""
             }
            },
            "type": "scattercarpet"
           }
          ],
          "scattergeo": [
           {
            "marker": {
             "colorbar": {
              "outlinewidth": 0,
              "ticks": ""
             }
            },
            "type": "scattergeo"
           }
          ],
          "scattergl": [
           {
            "marker": {
             "colorbar": {
              "outlinewidth": 0,
              "ticks": ""
             }
            },
            "type": "scattergl"
           }
          ],
          "scattermapbox": [
           {
            "marker": {
             "colorbar": {
              "outlinewidth": 0,
              "ticks": ""
             }
            },
            "type": "scattermapbox"
           }
          ],
          "scatterpolar": [
           {
            "marker": {
             "colorbar": {
              "outlinewidth": 0,
              "ticks": ""
             }
            },
            "type": "scatterpolar"
           }
          ],
          "scatterpolargl": [
           {
            "marker": {
             "colorbar": {
              "outlinewidth": 0,
              "ticks": ""
             }
            },
            "type": "scatterpolargl"
           }
          ],
          "scatterternary": [
           {
            "marker": {
             "colorbar": {
              "outlinewidth": 0,
              "ticks": ""
             }
            },
            "type": "scatterternary"
           }
          ],
          "surface": [
           {
            "colorbar": {
             "outlinewidth": 0,
             "ticks": ""
            },
            "colorscale": [
             [
              0,
              "#0d0887"
             ],
             [
              0.1111111111111111,
              "#46039f"
             ],
             [
              0.2222222222222222,
              "#7201a8"
             ],
             [
              0.3333333333333333,
              "#9c179e"
             ],
             [
              0.4444444444444444,
              "#bd3786"
             ],
             [
              0.5555555555555556,
              "#d8576b"
             ],
             [
              0.6666666666666666,
              "#ed7953"
             ],
             [
              0.7777777777777778,
              "#fb9f3a"
             ],
             [
              0.8888888888888888,
              "#fdca26"
             ],
             [
              1,
              "#f0f921"
             ]
            ],
            "type": "surface"
           }
          ],
          "table": [
           {
            "cells": {
             "fill": {
              "color": "#EBF0F8"
             },
             "line": {
              "color": "white"
             }
            },
            "header": {
             "fill": {
              "color": "#C8D4E3"
             },
             "line": {
              "color": "white"
             }
            },
            "type": "table"
           }
          ]
         },
         "layout": {
          "annotationdefaults": {
           "arrowcolor": "#2a3f5f",
           "arrowhead": 0,
           "arrowwidth": 1
          },
          "autotypenumbers": "strict",
          "coloraxis": {
           "colorbar": {
            "outlinewidth": 0,
            "ticks": ""
           }
          },
          "colorscale": {
           "diverging": [
            [
             0,
             "#8e0152"
            ],
            [
             0.1,
             "#c51b7d"
            ],
            [
             0.2,
             "#de77ae"
            ],
            [
             0.3,
             "#f1b6da"
            ],
            [
             0.4,
             "#fde0ef"
            ],
            [
             0.5,
             "#f7f7f7"
            ],
            [
             0.6,
             "#e6f5d0"
            ],
            [
             0.7,
             "#b8e186"
            ],
            [
             0.8,
             "#7fbc41"
            ],
            [
             0.9,
             "#4d9221"
            ],
            [
             1,
             "#276419"
            ]
           ],
           "sequential": [
            [
             0,
             "#0d0887"
            ],
            [
             0.1111111111111111,
             "#46039f"
            ],
            [
             0.2222222222222222,
             "#7201a8"
            ],
            [
             0.3333333333333333,
             "#9c179e"
            ],
            [
             0.4444444444444444,
             "#bd3786"
            ],
            [
             0.5555555555555556,
             "#d8576b"
            ],
            [
             0.6666666666666666,
             "#ed7953"
            ],
            [
             0.7777777777777778,
             "#fb9f3a"
            ],
            [
             0.8888888888888888,
             "#fdca26"
            ],
            [
             1,
             "#f0f921"
            ]
           ],
           "sequentialminus": [
            [
             0,
             "#0d0887"
            ],
            [
             0.1111111111111111,
             "#46039f"
            ],
            [
             0.2222222222222222,
             "#7201a8"
            ],
            [
             0.3333333333333333,
             "#9c179e"
            ],
            [
             0.4444444444444444,
             "#bd3786"
            ],
            [
             0.5555555555555556,
             "#d8576b"
            ],
            [
             0.6666666666666666,
             "#ed7953"
            ],
            [
             0.7777777777777778,
             "#fb9f3a"
            ],
            [
             0.8888888888888888,
             "#fdca26"
            ],
            [
             1,
             "#f0f921"
            ]
           ]
          },
          "colorway": [
           "#636efa",
           "#EF553B",
           "#00cc96",
           "#ab63fa",
           "#FFA15A",
           "#19d3f3",
           "#FF6692",
           "#B6E880",
           "#FF97FF",
           "#FECB52"
          ],
          "font": {
           "color": "#2a3f5f"
          },
          "geo": {
           "bgcolor": "white",
           "lakecolor": "white",
           "landcolor": "#E5ECF6",
           "showlakes": true,
           "showland": true,
           "subunitcolor": "white"
          },
          "hoverlabel": {
           "align": "left"
          },
          "hovermode": "closest",
          "mapbox": {
           "style": "light"
          },
          "paper_bgcolor": "white",
          "plot_bgcolor": "#E5ECF6",
          "polar": {
           "angularaxis": {
            "gridcolor": "white",
            "linecolor": "white",
            "ticks": ""
           },
           "bgcolor": "#E5ECF6",
           "radialaxis": {
            "gridcolor": "white",
            "linecolor": "white",
            "ticks": ""
           }
          },
          "scene": {
           "xaxis": {
            "backgroundcolor": "#E5ECF6",
            "gridcolor": "white",
            "gridwidth": 2,
            "linecolor": "white",
            "showbackground": true,
            "ticks": "",
            "zerolinecolor": "white"
           },
           "yaxis": {
            "backgroundcolor": "#E5ECF6",
            "gridcolor": "white",
            "gridwidth": 2,
            "linecolor": "white",
            "showbackground": true,
            "ticks": "",
            "zerolinecolor": "white"
           },
           "zaxis": {
            "backgroundcolor": "#E5ECF6",
            "gridcolor": "white",
            "gridwidth": 2,
            "linecolor": "white",
            "showbackground": true,
            "ticks": "",
            "zerolinecolor": "white"
           }
          },
          "shapedefaults": {
           "line": {
            "color": "#2a3f5f"
           }
          },
          "ternary": {
           "aaxis": {
            "gridcolor": "white",
            "linecolor": "white",
            "ticks": ""
           },
           "baxis": {
            "gridcolor": "white",
            "linecolor": "white",
            "ticks": ""
           },
           "bgcolor": "#E5ECF6",
           "caxis": {
            "gridcolor": "white",
            "linecolor": "white",
            "ticks": ""
           }
          },
          "title": {
           "x": 0.05
          },
          "xaxis": {
           "automargin": true,
           "gridcolor": "white",
           "linecolor": "white",
           "ticks": "",
           "title": {
            "standoff": 15
           },
           "zerolinecolor": "white",
           "zerolinewidth": 2
          },
          "yaxis": {
           "automargin": true,
           "gridcolor": "white",
           "linecolor": "white",
           "ticks": "",
           "title": {
            "standoff": 15
           },
           "zerolinecolor": "white",
           "zerolinewidth": 2
          }
         }
        }
       }
      },
      "text/html": [
       "<div>                            <div id=\"7a3ded78-a1c2-459b-8ee9-0e9f5dd57214\" class=\"plotly-graph-div\" style=\"height:525px; width:100%;\"></div>            <script type=\"text/javascript\">                require([\"plotly\"], function(Plotly) {                    window.PLOTLYENV=window.PLOTLYENV || {};                                    if (document.getElementById(\"7a3ded78-a1c2-459b-8ee9-0e9f5dd57214\")) {                    Plotly.newPlot(                        \"7a3ded78-a1c2-459b-8ee9-0e9f5dd57214\",                        [{\"marker\":{\"size\":10},\"mode\":\"markers+lines\",\"type\":\"scattermapbox\"},{\"customdata\":[[\"17th & K St NW / Farragut Square\",\"2021-01-06T10:00:32\"],[\"1st & D St SE\",\"2021-01-06T10:18:13\"]],\"hovertemplate\":[\"Start: (%{lat}, %{lon})<br>Leaving: %{customdata[0]}<br>At: %{customdata[1]}\",\"End: (%{lat}, %{lon})<br>Arriving: %{customdata[0]}<br>At: %{customdata[1]}\"],\"lat\":[38.902061,38.884916],\"lon\":[-77.038322,-77.005965],\"marker\":{\"size\":8},\"mode\":\"markers+lines\",\"type\":\"scattermapbox\"},{\"customdata\":[[\"4th & East Capitol St NE\",\"2021-01-06T10:02:36\"],[\"Washington & Independence Ave SW/HHS\",\"2021-01-06T10:11:05\"]],\"hovertemplate\":[\"Start: (%{lat}, %{lon})<br>Leaving: %{customdata[0]}<br>At: %{customdata[1]}\",\"End: (%{lat}, %{lon})<br>Arriving: %{customdata[0]}<br>At: %{customdata[1]}\"],\"lat\":[38.889955,38.886978],\"lon\":[-77.000349,-77.013769],\"marker\":{\"size\":8},\"mode\":\"markers+lines\",\"type\":\"scattermapbox\"},{\"customdata\":[[\"7th & F St NW / National Portrait Gallery\",\"2021-01-06T10:12:18\"],[\"Constitution Ave & 2nd St NW/DOL\",\"2021-01-06T11:22:04\"]],\"hovertemplate\":[\"Start: (%{lat}, %{lon})<br>Leaving: %{customdata[0]}<br>At: %{customdata[1]}\",\"End: (%{lat}, %{lon})<br>Arriving: %{customdata[0]}<br>At: %{customdata[1]}\"],\"lat\":[38.89728304853854,38.892275],\"lon\":[-77.02219069004059,-77.013917],\"marker\":{\"size\":8},\"mode\":\"markers+lines\",\"type\":\"scattermapbox\"},{\"customdata\":[[\"Eastern Market Metro / Pennsylvania Ave & 8th St SE\",\"2021-01-06T10:12:56\"],[\"3rd St & Pennsylvania Ave SE\",\"2021-01-06T10:15:40\"]],\"hovertemplate\":[\"Start: (%{lat}, %{lon})<br>Leaving: %{customdata[0]}<br>At: %{customdata[1]}\",\"End: (%{lat}, %{lon})<br>Arriving: %{customdata[0]}<br>At: %{customdata[1]}\"],\"lat\":[38.884260087971725,38.887378],\"lon\":[-76.99473559856415,-77.001955],\"marker\":{\"size\":8},\"mode\":\"markers+lines\",\"type\":\"scattermapbox\"},{\"customdata\":[[\"3rd & G St SE\",\"2021-01-06T10:12:57\"],[\"Washington & Independence Ave SW/HHS\",\"2021-01-06T12:58:14\"]],\"hovertemplate\":[\"Start: (%{lat}, %{lon})<br>Leaving: %{customdata[0]}<br>At: %{customdata[1]}\",\"End: (%{lat}, %{lon})<br>Arriving: %{customdata[0]}<br>At: %{customdata[1]}\"],\"lat\":[38.881185,38.886978],\"lon\":[-77.001828,-77.013769],\"marker\":{\"size\":8},\"mode\":\"markers+lines\",\"type\":\"scattermapbox\"},{\"customdata\":[[\"3rd & G St SE\",\"2021-01-06T10:20:00\"],[\"Washington & Independence Ave SW/HHS\",\"2021-01-06T12:57:46\"]],\"hovertemplate\":[\"Start: (%{lat}, %{lon})<br>Leaving: %{customdata[0]}<br>At: %{customdata[1]}\",\"End: (%{lat}, %{lon})<br>Arriving: %{customdata[0]}<br>At: %{customdata[1]}\"],\"lat\":[38.881185,38.886978],\"lon\":[-77.001828,-77.013769],\"marker\":{\"size\":8},\"mode\":\"markers+lines\",\"type\":\"scattermapbox\"},{\"customdata\":[[null,\"2021-01-06T10:22:58\"],[\"1st & D St SE\",\"2021-01-06T10:29:50\"]],\"hovertemplate\":[\"Start: (%{lat}, %{lon})<br>Leaving: %{customdata[0]}<br>At: %{customdata[1]}\",\"End: (%{lat}, %{lon})<br>Arriving: %{customdata[0]}<br>At: %{customdata[1]}\"],\"lat\":[38.88,38.88467333333333],\"lon\":[-77.02,-77.0059595],\"marker\":{\"size\":8},\"mode\":\"markers+lines\",\"type\":\"scattermapbox\"},{\"customdata\":[[\"4th & M St SE\",\"2021-01-06T10:24:58\"],[\"Constitution Ave & 2nd St NW/DOL\",\"2021-01-06T10:52:41\"]],\"hovertemplate\":[\"Start: (%{lat}, %{lon})<br>Leaving: %{customdata[0]}<br>At: %{customdata[1]}\",\"End: (%{lat}, %{lon})<br>Arriving: %{customdata[0]}<br>At: %{customdata[1]}\"],\"lat\":[38.876751,38.892275],\"lon\":[-77.000736,-77.013917],\"marker\":{\"size\":8},\"mode\":\"markers+lines\",\"type\":\"scattermapbox\"},{\"customdata\":[[\"4th & M St SE\",\"2021-01-06T10:25:12\"],[\"Constitution Ave & 2nd St NW/DOL\",\"2021-01-06T10:52:50\"]],\"hovertemplate\":[\"Start: (%{lat}, %{lon})<br>Leaving: %{customdata[0]}<br>At: %{customdata[1]}\",\"End: (%{lat}, %{lon})<br>Arriving: %{customdata[0]}<br>At: %{customdata[1]}\"],\"lat\":[38.876751,38.892275],\"lon\":[-77.000736,-77.013917],\"marker\":{\"size\":8},\"mode\":\"markers+lines\",\"type\":\"scattermapbox\"},{\"customdata\":[[\"6th & H St NE\",\"2021-01-06T10:31:17\"],[\"Constitution Ave & 2nd St NW/DOL\",\"2021-01-06T10:58:26\"]],\"hovertemplate\":[\"Start: (%{lat}, %{lon})<br>Leaving: %{customdata[0]}<br>At: %{customdata[1]}\",\"End: (%{lat}, %{lon})<br>Arriving: %{customdata[0]}<br>At: %{customdata[1]}\"],\"lat\":[38.899972,38.892275],\"lon\":[-76.998347,-77.013917],\"marker\":{\"size\":8},\"mode\":\"markers+lines\",\"type\":\"scattermapbox\"},{\"customdata\":[[\"6th & H St NE\",\"2021-01-06T10:32:30\"],[\"Constitution Ave & 2nd St NW/DOL\",\"2021-01-06T10:58:19\"]],\"hovertemplate\":[\"Start: (%{lat}, %{lon})<br>Leaving: %{customdata[0]}<br>At: %{customdata[1]}\",\"End: (%{lat}, %{lon})<br>Arriving: %{customdata[0]}<br>At: %{customdata[1]}\"],\"lat\":[38.899972,38.892275],\"lon\":[-76.998347,-77.013917],\"marker\":{\"size\":8},\"mode\":\"markers+lines\",\"type\":\"scattermapbox\"},{\"customdata\":[[\"10th St & Constitution Ave NW\",\"2021-01-06T10:35:19\"],[\"Constitution Ave & 2nd St NW/DOL\",\"2021-01-06T12:59:01\"]],\"hovertemplate\":[\"Start: (%{lat}, %{lon})<br>Leaving: %{customdata[0]}<br>At: %{customdata[1]}\",\"End: (%{lat}, %{lon})<br>Arriving: %{customdata[0]}<br>At: %{customdata[1]}\"],\"lat\":[38.893028,38.892275],\"lon\":[-77.026013,-77.013917],\"marker\":{\"size\":8},\"mode\":\"markers+lines\",\"type\":\"scattermapbox\"},{\"customdata\":[[\"10th St & Constitution Ave NW\",\"2021-01-06T10:35:49\"],[\"Constitution Ave & 2nd St NW/DOL\",\"2021-01-06T12:58:52\"]],\"hovertemplate\":[\"Start: (%{lat}, %{lon})<br>Leaving: %{customdata[0]}<br>At: %{customdata[1]}\",\"End: (%{lat}, %{lon})<br>Arriving: %{customdata[0]}<br>At: %{customdata[1]}\"],\"lat\":[38.893028,38.892275],\"lon\":[-77.026013,-77.013917],\"marker\":{\"size\":8},\"mode\":\"markers+lines\",\"type\":\"scattermapbox\"},{\"customdata\":[[\"Eastern Market / 7th & North Carolina Ave SE\",\"2021-01-06T10:36:16\"],[\"Washington & Independence Ave SW/HHS\",\"2021-01-06T10:45:16\"]],\"hovertemplate\":[\"Start: (%{lat}, %{lon})<br>Leaving: %{customdata[0]}<br>At: %{customdata[1]}\",\"End: (%{lat}, %{lon})<br>Arriving: %{customdata[0]}<br>At: %{customdata[1]}\"],\"lat\":[38.886952,38.886978],\"lon\":[-76.996806,-77.013769],\"marker\":{\"size\":8},\"mode\":\"markers+lines\",\"type\":\"scattermapbox\"},{\"customdata\":[[\"10th St & Constitution Ave NW\",\"2021-01-06T10:40:09\"],[\"Constitution Ave & 2nd St NW/DOL\",\"2021-01-06T11:20:20\"]],\"hovertemplate\":[\"Start: (%{lat}, %{lon})<br>Leaving: %{customdata[0]}<br>At: %{customdata[1]}\",\"End: (%{lat}, %{lon})<br>Arriving: %{customdata[0]}<br>At: %{customdata[1]}\"],\"lat\":[38.893028,38.892275],\"lon\":[-77.026013,-77.013917],\"marker\":{\"size\":8},\"mode\":\"markers+lines\",\"type\":\"scattermapbox\"},{\"customdata\":[[\"19th St & Constitution Ave NW\",\"2021-01-06T10:48:59\"],[\"Columbus Circle / Union Station\",\"2021-01-06T13:43:47\"]],\"hovertemplate\":[\"Start: (%{lat}, %{lon})<br>Leaving: %{customdata[0]}<br>At: %{customdata[1]}\",\"End: (%{lat}, %{lon})<br>Arriving: %{customdata[0]}<br>At: %{customdata[1]}\"],\"lat\":[38.8923,38.89696],\"lon\":[-77.0436,-77.00493],\"marker\":{\"size\":8},\"mode\":\"markers+lines\",\"type\":\"scattermapbox\"},{\"customdata\":[[\"11th & C St SE\",\"2021-01-06T10:50:37\"],[\"3rd & D St SE\",\"2021-01-06T10:54:36\"]],\"hovertemplate\":[\"Start: (%{lat}, %{lon})<br>Leaving: %{customdata[0]}<br>At: %{customdata[1]}\",\"End: (%{lat}, %{lon})<br>Arriving: %{customdata[0]}<br>At: %{customdata[1]}\"],\"lat\":[38.885908,38.8851],\"lon\":[-76.991476,-77.0023],\"marker\":{\"size\":8},\"mode\":\"markers+lines\",\"type\":\"scattermapbox\"},{\"customdata\":[[\"Columbus Circle / Union Station\",\"2021-01-06T11:03:17\"],[\"Columbus Circle / Union Station\",\"2021-01-06T18:33:57\"]],\"hovertemplate\":[\"Start: (%{lat}, %{lon})<br>Leaving: %{customdata[0]}<br>At: %{customdata[1]}\",\"End: (%{lat}, %{lon})<br>Arriving: %{customdata[0]}<br>At: %{customdata[1]}\"],\"lat\":[38.89696,38.89696],\"lon\":[-77.00493,-77.00493],\"marker\":{\"size\":8},\"mode\":\"markers+lines\",\"type\":\"scattermapbox\"},{\"customdata\":[[\"1st & D St SE\",\"2021-01-06T11:07:28\"],[\"1st & D St SE\",\"2021-01-06T12:18:22\"]],\"hovertemplate\":[\"Start: (%{lat}, %{lon})<br>Leaving: %{customdata[0]}<br>At: %{customdata[1]}\",\"End: (%{lat}, %{lon})<br>Arriving: %{customdata[0]}<br>At: %{customdata[1]}\"],\"lat\":[38.884916,38.884916],\"lon\":[-77.005965,-77.005965],\"marker\":{\"size\":8},\"mode\":\"markers+lines\",\"type\":\"scattermapbox\"},{\"customdata\":[[\"Washington & Independence Ave SW/HHS\",\"2021-01-06T11:09:18\"],[\"Washington & Independence Ave SW/HHS\",\"2021-01-06T11:12:58\"]],\"hovertemplate\":[\"Start: (%{lat}, %{lon})<br>Leaving: %{customdata[0]}<br>At: %{customdata[1]}\",\"End: (%{lat}, %{lon})<br>Arriving: %{customdata[0]}<br>At: %{customdata[1]}\"],\"lat\":[38.886978,38.886978],\"lon\":[-77.013769,-77.013769],\"marker\":{\"size\":8},\"mode\":\"markers+lines\",\"type\":\"scattermapbox\"},{\"customdata\":[[\"Adams Mill & Columbia Rd NW\",\"2021-01-06T11:11:25\"],[\"Constitution Ave & 2nd St NW/DOL\",\"2021-01-06T14:31:02\"]],\"hovertemplate\":[\"Start: (%{lat}, %{lon})<br>Leaving: %{customdata[0]}<br>At: %{customdata[1]}\",\"End: (%{lat}, %{lon})<br>Arriving: %{customdata[0]}<br>At: %{customdata[1]}\"],\"lat\":[38.922925,38.892275],\"lon\":[-77.042581,-77.013917],\"marker\":{\"size\":8},\"mode\":\"markers+lines\",\"type\":\"scattermapbox\"},{\"customdata\":[[\"Adams Mill & Columbia Rd NW\",\"2021-01-06T11:11:56\"],[\"Constitution Ave & 2nd St NW/DOL\",\"2021-01-06T14:31:06\"]],\"hovertemplate\":[\"Start: (%{lat}, %{lon})<br>Leaving: %{customdata[0]}<br>At: %{customdata[1]}\",\"End: (%{lat}, %{lon})<br>Arriving: %{customdata[0]}<br>At: %{customdata[1]}\"],\"lat\":[38.922925,38.892275],\"lon\":[-77.042581,-77.013917],\"marker\":{\"size\":8},\"mode\":\"markers+lines\",\"type\":\"scattermapbox\"},{\"customdata\":[[\"Columbus Circle / Union Station\",\"2021-01-06T11:13:11\"],[\"Columbus Circle / Union Station\",\"2021-01-06T18:36:59\"]],\"hovertemplate\":[\"Start: (%{lat}, %{lon})<br>Leaving: %{customdata[0]}<br>At: %{customdata[1]}\",\"End: (%{lat}, %{lon})<br>Arriving: %{customdata[0]}<br>At: %{customdata[1]}\"],\"lat\":[38.89696,38.89696],\"lon\":[-77.00493,-77.00493],\"marker\":{\"size\":8},\"mode\":\"markers+lines\",\"type\":\"scattermapbox\"},{\"customdata\":[[\"4th & D St NW / Judiciary Square\",\"2021-01-06T11:37:16\"],[\"2nd St & Massachusetts Ave NE\",\"2021-01-06T11:43:30\"]],\"hovertemplate\":[\"Start: (%{lat}, %{lon})<br>Leaving: %{customdata[0]}<br>At: %{customdata[1]}\",\"End: (%{lat}, %{lon})<br>Arriving: %{customdata[0]}<br>At: %{customdata[1]}\"],\"lat\":[38.895344,38.894972],\"lon\":[-77.016106,-77.003135],\"marker\":{\"size\":8},\"mode\":\"markers+lines\",\"type\":\"scattermapbox\"},{\"customdata\":[[\"18th & New Hampshire Ave NW\",\"2021-01-06T11:38:30\"],[\"Constitution Ave & 2nd St NW/DOL\",\"2021-01-06T12:03:34\"]],\"hovertemplate\":[\"Start: (%{lat}, %{lon})<br>Leaving: %{customdata[0]}<br>At: %{customdata[1]}\",\"End: (%{lat}, %{lon})<br>Arriving: %{customdata[0]}<br>At: %{customdata[1]}\"],\"lat\":[38.911268,38.892275],\"lon\":[-77.041829,-77.013917],\"marker\":{\"size\":8},\"mode\":\"markers+lines\",\"type\":\"scattermapbox\"},{\"customdata\":[[\"18th & New Hampshire Ave NW\",\"2021-01-06T11:38:37\"],[\"Constitution Ave & 2nd St NW/DOL\",\"2021-01-06T12:03:34\"]],\"hovertemplate\":[\"Start: (%{lat}, %{lon})<br>Leaving: %{customdata[0]}<br>At: %{customdata[1]}\",\"End: (%{lat}, %{lon})<br>Arriving: %{customdata[0]}<br>At: %{customdata[1]}\"],\"lat\":[38.911268,38.892275],\"lon\":[-77.041829,-77.013917],\"marker\":{\"size\":8},\"mode\":\"markers+lines\",\"type\":\"scattermapbox\"},{\"customdata\":[[\"8th & East Capitol St NE\",\"2021-01-06T11:39:09\"],[\"4th & East Capitol St NE\",\"2021-01-06T11:41:32\"]],\"hovertemplate\":[\"Start: (%{lat}, %{lon})<br>Leaving: %{customdata[0]}<br>At: %{customdata[1]}\",\"End: (%{lat}, %{lon})<br>Arriving: %{customdata[0]}<br>At: %{customdata[1]}\"],\"lat\":[38.889988,38.889955],\"lon\":[-76.995193,-77.000349],\"marker\":{\"size\":8},\"mode\":\"markers+lines\",\"type\":\"scattermapbox\"},{\"customdata\":[[\"8th & East Capitol St NE\",\"2021-01-06T11:45:58\"],[\"Constitution Ave & 2nd St NW/DOL\",\"2021-01-06T11:57:02\"]],\"hovertemplate\":[\"Start: (%{lat}, %{lon})<br>Leaving: %{customdata[0]}<br>At: %{customdata[1]}\",\"End: (%{lat}, %{lon})<br>Arriving: %{customdata[0]}<br>At: %{customdata[1]}\"],\"lat\":[38.889988,38.892275],\"lon\":[-76.995193,-77.013917],\"marker\":{\"size\":8},\"mode\":\"markers+lines\",\"type\":\"scattermapbox\"},{\"customdata\":[[\"Henry Bacon Dr & Lincoln Memorial Circle NW\",\"2021-01-06T11:47:18\"],[\"Columbus Circle / Union Station\",\"2021-01-06T12:52:05\"]],\"hovertemplate\":[\"Start: (%{lat}, %{lon})<br>Leaving: %{customdata[0]}<br>At: %{customdata[1]}\",\"End: (%{lat}, %{lon})<br>Arriving: %{customdata[0]}<br>At: %{customdata[1]}\"],\"lat\":[38.890539,38.89696],\"lon\":[-77.049383,-77.00493],\"marker\":{\"size\":8},\"mode\":\"markers+lines\",\"type\":\"scattermapbox\"},{\"customdata\":[[\"Metro Center / 12th & G St NW\",\"2021-01-06T11:50:03\"],[\"Constitution Ave & 2nd St NW/DOL\",\"2021-01-06T12:49:56\"]],\"hovertemplate\":[\"Start: (%{lat}, %{lon})<br>Leaving: %{customdata[0]}<br>At: %{customdata[1]}\",\"End: (%{lat}, %{lon})<br>Arriving: %{customdata[0]}<br>At: %{customdata[1]}\"],\"lat\":[38.898364,38.892275],\"lon\":[-77.027869,-77.013917],\"marker\":{\"size\":8},\"mode\":\"markers+lines\",\"type\":\"scattermapbox\"},{\"customdata\":[[\"Metro Center / 12th & G St NW\",\"2021-01-06T11:57:44\"],[\"Constitution Ave & 2nd St NW/DOL\",\"2021-01-06T12:50:04\"]],\"hovertemplate\":[\"Start: (%{lat}, %{lon})<br>Leaving: %{customdata[0]}<br>At: %{customdata[1]}\",\"End: (%{lat}, %{lon})<br>Arriving: %{customdata[0]}<br>At: %{customdata[1]}\"],\"lat\":[38.898364,38.892275],\"lon\":[-77.027869,-77.013917],\"marker\":{\"size\":8},\"mode\":\"markers+lines\",\"type\":\"scattermapbox\"},{\"customdata\":[[\"1st & N St  SE\",\"2021-01-06T12:07:31\"],[\"Constitution Ave & 2nd St NW/DOL\",\"2021-01-06T12:38:57\"]],\"hovertemplate\":[\"Start: (%{lat}, %{lon})<br>Leaving: %{customdata[0]}<br>At: %{customdata[1]}\",\"End: (%{lat}, %{lon})<br>Arriving: %{customdata[0]}<br>At: %{customdata[1]}\"],\"lat\":[38.8743,38.892275],\"lon\":[-77.0057,-77.013917],\"marker\":{\"size\":8},\"mode\":\"markers+lines\",\"type\":\"scattermapbox\"},{\"customdata\":[[\"7th & K St NW\",\"2021-01-06T12:08:44\"],[\"Constitution Ave & 2nd St NW/DOL\",\"2021-01-06T12:22:59\"]],\"hovertemplate\":[\"Start: (%{lat}, %{lon})<br>Leaving: %{customdata[0]}<br>At: %{customdata[1]}\",\"End: (%{lat}, %{lon})<br>Arriving: %{customdata[0]}<br>At: %{customdata[1]}\"],\"lat\":[38.902674,38.892275],\"lon\":[-77.021392,-77.013917],\"marker\":{\"size\":8},\"mode\":\"markers+lines\",\"type\":\"scattermapbox\"},{\"customdata\":[[\"7th & K St NW\",\"2021-01-06T12:09:21\"],[\"Constitution Ave & 2nd St NW/DOL\",\"2021-01-06T12:23:03\"]],\"hovertemplate\":[\"Start: (%{lat}, %{lon})<br>Leaving: %{customdata[0]}<br>At: %{customdata[1]}\",\"End: (%{lat}, %{lon})<br>Arriving: %{customdata[0]}<br>At: %{customdata[1]}\"],\"lat\":[38.902674,38.892275],\"lon\":[-77.021392,-77.013917],\"marker\":{\"size\":8},\"mode\":\"markers+lines\",\"type\":\"scattermapbox\"},{\"customdata\":[[\"3rd St & Pennsylvania Ave SE\",\"2021-01-06T12:10:40\"],[\"Constitution Ave & 2nd St NW/DOL\",\"2021-01-06T12:30:24\"]],\"hovertemplate\":[\"Start: (%{lat}, %{lon})<br>Leaving: %{customdata[0]}<br>At: %{customdata[1]}\",\"End: (%{lat}, %{lon})<br>Arriving: %{customdata[0]}<br>At: %{customdata[1]}\"],\"lat\":[38.887378,38.892275],\"lon\":[-77.001955,-77.013917],\"marker\":{\"size\":8},\"mode\":\"markers+lines\",\"type\":\"scattermapbox\"},{\"customdata\":[[\"Constitution Ave & 2nd St NW/DOL\",\"2021-01-06T12:11:19\"],[\"2nd St & Massachusetts Ave NE\",\"2021-01-06T15:17:22\"]],\"hovertemplate\":[\"Start: (%{lat}, %{lon})<br>Leaving: %{customdata[0]}<br>At: %{customdata[1]}\",\"End: (%{lat}, %{lon})<br>Arriving: %{customdata[0]}<br>At: %{customdata[1]}\"],\"lat\":[38.892275,38.894972],\"lon\":[-77.013917,-77.003135],\"marker\":{\"size\":8},\"mode\":\"markers+lines\",\"type\":\"scattermapbox\"},{\"customdata\":[[\"15th St & Pennsylvania Ave NW\",\"2021-01-06T12:12:24\"],[\"4th & East Capitol St NE\",\"2021-01-06T13:02:01\"]],\"hovertemplate\":[\"Start: (%{lat}, %{lon})<br>Leaving: %{customdata[0]}<br>At: %{customdata[1]}\",\"End: (%{lat}, %{lon})<br>Arriving: %{customdata[0]}<br>At: %{customdata[1]}\"],\"lat\":[38.8965345,38.8899305],\"lon\":[-77.03326866666667,-77.000412],\"marker\":{\"size\":8},\"mode\":\"markers+lines\",\"type\":\"scattermapbox\"},{\"customdata\":[[\"3rd St & Pennsylvania Ave SE\",\"2021-01-06T12:18:21\"],[\"Constitution Ave & 2nd St NW/DOL\",\"2021-01-06T12:30:21\"]],\"hovertemplate\":[\"Start: (%{lat}, %{lon})<br>Leaving: %{customdata[0]}<br>At: %{customdata[1]}\",\"End: (%{lat}, %{lon})<br>Arriving: %{customdata[0]}<br>At: %{customdata[1]}\"],\"lat\":[38.887378,38.892275],\"lon\":[-77.001955,-77.013917],\"marker\":{\"size\":8},\"mode\":\"markers+lines\",\"type\":\"scattermapbox\"},{\"customdata\":[[\"4th & M St SE\",\"2021-01-06T12:27:12\"],[\"1st & D St SE\",\"2021-01-06T12:41:45\"]],\"hovertemplate\":[\"Start: (%{lat}, %{lon})<br>Leaving: %{customdata[0]}<br>At: %{customdata[1]}\",\"End: (%{lat}, %{lon})<br>Arriving: %{customdata[0]}<br>At: %{customdata[1]}\"],\"lat\":[38.876751,38.884916],\"lon\":[-77.000736,-77.005965],\"marker\":{\"size\":8},\"mode\":\"markers+lines\",\"type\":\"scattermapbox\"},{\"customdata\":[[\"Henry Bacon Dr & Lincoln Memorial Circle NW\",\"2021-01-06T12:27:56\"],[\"Constitution Ave & 2nd St NW/DOL\",\"2021-01-06T12:59:02\"]],\"hovertemplate\":[\"Start: (%{lat}, %{lon})<br>Leaving: %{customdata[0]}<br>At: %{customdata[1]}\",\"End: (%{lat}, %{lon})<br>Arriving: %{customdata[0]}<br>At: %{customdata[1]}\"],\"lat\":[38.890539,38.892275],\"lon\":[-77.049383,-77.013917],\"marker\":{\"size\":8},\"mode\":\"markers+lines\",\"type\":\"scattermapbox\"},{\"customdata\":[[\"15th St & Massachusetts Ave SE\",\"2021-01-06T12:34:11\"],[\"3rd St & Pennsylvania Ave SE\",\"2021-01-06T12:43:18\"]],\"hovertemplate\":[\"Start: (%{lat}, %{lon})<br>Leaving: %{customdata[0]}<br>At: %{customdata[1]}\",\"End: (%{lat}, %{lon})<br>Arriving: %{customdata[0]}<br>At: %{customdata[1]}\"],\"lat\":[38.88732,38.887378],\"lon\":[-76.983569,-77.001955],\"marker\":{\"size\":8},\"mode\":\"markers+lines\",\"type\":\"scattermapbox\"},{\"customdata\":[[\"1st & D St SE\",\"2021-01-06T12:42:22\"],[\"1st & D St SE\",\"2021-01-06T12:42:30\"]],\"hovertemplate\":[\"Start: (%{lat}, %{lon})<br>Leaving: %{customdata[0]}<br>At: %{customdata[1]}\",\"End: (%{lat}, %{lon})<br>Arriving: %{customdata[0]}<br>At: %{customdata[1]}\"],\"lat\":[38.88494566666667,38.884944833333336],\"lon\":[-77.00594733333334,-77.005955],\"marker\":{\"size\":8},\"mode\":\"markers+lines\",\"type\":\"scattermapbox\"},{\"customdata\":[[\"14th St & New York Ave NW\",\"2021-01-06T12:55:18\"],[\"Constitution Ave & 2nd St NW/DOL\",\"2021-01-06T13:14:21\"]],\"hovertemplate\":[\"Start: (%{lat}, %{lon})<br>Leaving: %{customdata[0]}<br>At: %{customdata[1]}\",\"End: (%{lat}, %{lon})<br>Arriving: %{customdata[0]}<br>At: %{customdata[1]}\"],\"lat\":[38.899632,38.892275],\"lon\":[-77.031686,-77.013917],\"marker\":{\"size\":8},\"mode\":\"markers+lines\",\"type\":\"scattermapbox\"},{\"customdata\":[[\"15th & East Capitol St NE\",\"2021-01-06T12:59:15\"],[\"4th & East Capitol St NE\",\"2021-01-06T13:07:14\"]],\"hovertemplate\":[\"Start: (%{lat}, %{lon})<br>Leaving: %{customdata[0]}<br>At: %{customdata[1]}\",\"End: (%{lat}, %{lon})<br>Arriving: %{customdata[0]}<br>At: %{customdata[1]}\"],\"lat\":[38.889908,38.889955],\"lon\":[-76.983326,-77.000349],\"marker\":{\"size\":8},\"mode\":\"markers+lines\",\"type\":\"scattermapbox\"},{\"customdata\":[[\"Washington & Independence Ave SW/HHS\",\"2021-01-06T13:00:54\"],[\"Washington & Independence Ave SW/HHS\",\"2021-01-06T13:01:00\"]],\"hovertemplate\":[\"Start: (%{lat}, %{lon})<br>Leaving: %{customdata[0]}<br>At: %{customdata[1]}\",\"End: (%{lat}, %{lon})<br>Arriving: %{customdata[0]}<br>At: %{customdata[1]}\"],\"lat\":[38.886978,38.886978],\"lon\":[-77.013769,-77.013769],\"marker\":{\"size\":8},\"mode\":\"markers+lines\",\"type\":\"scattermapbox\"},{\"customdata\":[[\"10th St & Constitution Ave NW\",\"2021-01-06T13:02:12\"],[\"Constitution Ave & 2nd St NW/DOL\",\"2021-01-06T14:12:37\"]],\"hovertemplate\":[\"Start: (%{lat}, %{lon})<br>Leaving: %{customdata[0]}<br>At: %{customdata[1]}\",\"End: (%{lat}, %{lon})<br>Arriving: %{customdata[0]}<br>At: %{customdata[1]}\"],\"lat\":[38.893028,38.892275],\"lon\":[-77.026013,-77.013917],\"marker\":{\"size\":8},\"mode\":\"markers+lines\",\"type\":\"scattermapbox\"},{\"customdata\":[[\"10th St & Constitution Ave NW\",\"2021-01-06T13:02:35\"],[\"Constitution Ave & 2nd St NW/DOL\",\"2021-01-06T14:12:36\"]],\"hovertemplate\":[\"Start: (%{lat}, %{lon})<br>Leaving: %{customdata[0]}<br>At: %{customdata[1]}\",\"End: (%{lat}, %{lon})<br>Arriving: %{customdata[0]}<br>At: %{customdata[1]}\"],\"lat\":[38.893028,38.892275],\"lon\":[-77.026013,-77.013917],\"marker\":{\"size\":8},\"mode\":\"markers+lines\",\"type\":\"scattermapbox\"},{\"customdata\":[[\"10th St & Constitution Ave NW\",\"2021-01-06T13:05:21\"],[\"Constitution Ave & 2nd St NW/DOL\",\"2021-01-06T14:12:46\"]],\"hovertemplate\":[\"Start: (%{lat}, %{lon})<br>Leaving: %{customdata[0]}<br>At: %{customdata[1]}\",\"End: (%{lat}, %{lon})<br>Arriving: %{customdata[0]}<br>At: %{customdata[1]}\"],\"lat\":[38.893028,38.892275],\"lon\":[-77.026013,-77.013917],\"marker\":{\"size\":8},\"mode\":\"markers+lines\",\"type\":\"scattermapbox\"},{\"customdata\":[[\"Smithsonian-National Mall / Jefferson Dr & 12th St SW\",\"2021-01-06T13:12:32\"],[\"Columbus Circle / Union Station\",\"2021-01-06T15:00:50\"]],\"hovertemplate\":[\"Start: (%{lat}, %{lon})<br>Leaving: %{customdata[0]}<br>At: %{customdata[1]}\",\"End: (%{lat}, %{lon})<br>Arriving: %{customdata[0]}<br>At: %{customdata[1]}\"],\"lat\":[38.888774,38.89696],\"lon\":[-77.028694,-77.00493],\"marker\":{\"size\":8},\"mode\":\"markers+lines\",\"type\":\"scattermapbox\"},{\"customdata\":[[\"Lincoln Rd & Seaton Pl NE/Harry Thomas Rec Center\",\"2021-01-06T13:17:57\"],[\"4th & East Capitol St NE\",\"2021-01-06T16:10:22\"]],\"hovertemplate\":[\"Start: (%{lat}, %{lon})<br>Leaving: %{customdata[0]}<br>At: %{customdata[1]}\",\"End: (%{lat}, %{lon})<br>Arriving: %{customdata[0]}<br>At: %{customdata[1]}\"],\"lat\":[38.915,38.889955],\"lon\":[-77.0078,-77.000349],\"marker\":{\"size\":8},\"mode\":\"markers+lines\",\"type\":\"scattermapbox\"},{\"customdata\":[[\"Lincoln Rd & Seaton Pl NE/Harry Thomas Rec Center\",\"2021-01-06T13:17:57\"],[\"4th & East Capitol St NE\",\"2021-01-06T16:09:46\"]],\"hovertemplate\":[\"Start: (%{lat}, %{lon})<br>Leaving: %{customdata[0]}<br>At: %{customdata[1]}\",\"End: (%{lat}, %{lon})<br>Arriving: %{customdata[0]}<br>At: %{customdata[1]}\"],\"lat\":[38.915,38.889955],\"lon\":[-77.0078,-77.000349],\"marker\":{\"size\":8},\"mode\":\"markers+lines\",\"type\":\"scattermapbox\"},{\"customdata\":[[\"USDA / 12th & C St SW\",\"2021-01-06T13:22:20\"],[\"4th & East Capitol St NE\",\"2021-01-06T15:02:13\"]],\"hovertemplate\":[\"Start: (%{lat}, %{lon})<br>Leaving: %{customdata[0]}<br>At: %{customdata[1]}\",\"End: (%{lat}, %{lon})<br>Arriving: %{customdata[0]}<br>At: %{customdata[1]}\"],\"lat\":[38.88627694506511,38.889955],\"lon\":[-77.02824175357819,-77.000349],\"marker\":{\"size\":8},\"mode\":\"markers+lines\",\"type\":\"scattermapbox\"},{\"customdata\":[[\"Smithsonian-National Mall / Jefferson Dr & 12th St SW\",\"2021-01-06T13:30:40\"],[\"Washington & Independence Ave SW/HHS\",\"2021-01-06T15:16:27\"]],\"hovertemplate\":[\"Start: (%{lat}, %{lon})<br>Leaving: %{customdata[0]}<br>At: %{customdata[1]}\",\"End: (%{lat}, %{lon})<br>Arriving: %{customdata[0]}<br>At: %{customdata[1]}\"],\"lat\":[38.888774,38.886978],\"lon\":[-77.028694,-77.013769],\"marker\":{\"size\":8},\"mode\":\"markers+lines\",\"type\":\"scattermapbox\"},{\"customdata\":[[\"8th & K St NE\",\"2021-01-06T13:34:27\"],[\"Constitution Ave & 2nd St NW/DOL\",\"2021-01-06T13:58:10\"]],\"hovertemplate\":[\"Start: (%{lat}, %{lon})<br>Leaving: %{customdata[0]}<br>At: %{customdata[1]}\",\"End: (%{lat}, %{lon})<br>Arriving: %{customdata[0]}<br>At: %{customdata[1]}\"],\"lat\":[38.90273216425078,38.892275],\"lon\":[-76.99514991079923,-77.013917],\"marker\":{\"size\":8},\"mode\":\"markers+lines\",\"type\":\"scattermapbox\"},{\"customdata\":[[\"6th & H St NE\",\"2021-01-06T13:40:44\"],[\"3rd St & Pennsylvania Ave SE\",\"2021-01-06T13:47:26\"]],\"hovertemplate\":[\"Start: (%{lat}, %{lon})<br>Leaving: %{customdata[0]}<br>At: %{customdata[1]}\",\"End: (%{lat}, %{lon})<br>Arriving: %{customdata[0]}<br>At: %{customdata[1]}\"],\"lat\":[38.899972,38.887378],\"lon\":[-76.998347,-77.001955],\"marker\":{\"size\":8},\"mode\":\"markers+lines\",\"type\":\"scattermapbox\"},{\"customdata\":[[\"Maryland Ave & E St NE\",\"2021-01-06T13:41:03\"],[\"3rd & D St SE\",\"2021-01-06T13:47:38\"]],\"hovertemplate\":[\"Start: (%{lat}, %{lon})<br>Leaving: %{customdata[0]}<br>At: %{customdata[1]}\",\"End: (%{lat}, %{lon})<br>Arriving: %{customdata[0]}<br>At: %{customdata[1]}\"],\"lat\":[38.896134,38.8851],\"lon\":[-76.9929,-77.0023],\"marker\":{\"size\":8},\"mode\":\"markers+lines\",\"type\":\"scattermapbox\"},{\"customdata\":[[\"3rd St & Pennsylvania Ave SE\",\"2021-01-06T13:47:46\"],[\"3rd St & Pennsylvania Ave SE\",\"2021-01-06T13:48:00\"]],\"hovertemplate\":[\"Start: (%{lat}, %{lon})<br>Leaving: %{customdata[0]}<br>At: %{customdata[1]}\",\"End: (%{lat}, %{lon})<br>Arriving: %{customdata[0]}<br>At: %{customdata[1]}\"],\"lat\":[38.887378,38.887378],\"lon\":[-77.001955,-77.001955],\"marker\":{\"size\":8},\"mode\":\"markers+lines\",\"type\":\"scattermapbox\"},{\"customdata\":[[\"Maryland Ave & 17th St NE\",\"2021-01-06T13:47:58\"],[\"Columbus Circle / Union Station\",\"2021-01-06T13:57:13\"]],\"hovertemplate\":[\"Start: (%{lat}, %{lon})<br>Leaving: %{customdata[0]}<br>At: %{customdata[1]}\",\"End: (%{lat}, %{lon})<br>Arriving: %{customdata[0]}<br>At: %{customdata[1]}\"],\"lat\":[38.901935,38.89696],\"lon\":[-76.978627,-77.00493],\"marker\":{\"size\":8},\"mode\":\"markers+lines\",\"type\":\"scattermapbox\"},{\"customdata\":[[\"Lincoln Memorial\",\"2021-01-06T13:51:55\"],[\"Columbus Circle / Union Station\",\"2021-01-06T14:57:36\"]],\"hovertemplate\":[\"Start: (%{lat}, %{lon})<br>Leaving: %{customdata[0]}<br>At: %{customdata[1]}\",\"End: (%{lat}, %{lon})<br>Arriving: %{customdata[0]}<br>At: %{customdata[1]}\"],\"lat\":[38.888255,38.89696],\"lon\":[-77.049437,-77.00493],\"marker\":{\"size\":8},\"mode\":\"markers+lines\",\"type\":\"scattermapbox\"},{\"customdata\":[[\"Constitution Ave & 2nd St NW/DOL\",\"2021-01-06T13:58:36\"],[\"Constitution Ave & 2nd St NW/DOL\",\"2021-01-06T14:47:09\"]],\"hovertemplate\":[\"Start: (%{lat}, %{lon})<br>Leaving: %{customdata[0]}<br>At: %{customdata[1]}\",\"End: (%{lat}, %{lon})<br>Arriving: %{customdata[0]}<br>At: %{customdata[1]}\"],\"lat\":[38.892275,38.892275],\"lon\":[-77.013917,-77.013917],\"marker\":{\"size\":8},\"mode\":\"markers+lines\",\"type\":\"scattermapbox\"},{\"customdata\":[[\"Henry Bacon Dr & Lincoln Memorial Circle NW\",\"2021-01-06T14:01:09\"],[\"Columbus Circle / Union Station\",\"2021-01-06T14:57:20\"]],\"hovertemplate\":[\"Start: (%{lat}, %{lon})<br>Leaving: %{customdata[0]}<br>At: %{customdata[1]}\",\"End: (%{lat}, %{lon})<br>Arriving: %{customdata[0]}<br>At: %{customdata[1]}\"],\"lat\":[38.890539,38.89696],\"lon\":[-77.049383,-77.00493],\"marker\":{\"size\":8},\"mode\":\"markers+lines\",\"type\":\"scattermapbox\"},{\"customdata\":[[\"New Jersey Ave & F St NW\",\"2021-01-06T14:10:07\"],[\"Constitution Ave & 2nd St NW/DOL\",\"2021-01-06T14:16:32\"]],\"hovertemplate\":[\"Start: (%{lat}, %{lon})<br>Leaving: %{customdata[0]}<br>At: %{customdata[1]}\",\"End: (%{lat}, %{lon})<br>Arriving: %{customdata[0]}<br>At: %{customdata[1]}\"],\"lat\":[38.897108,38.892275],\"lon\":[-77.011616,-77.013917],\"marker\":{\"size\":8},\"mode\":\"markers+lines\",\"type\":\"scattermapbox\"},{\"customdata\":[[\"10th St & Constitution Ave NW\",\"2021-01-06T14:11:53\"],[\"Constitution Ave & 2nd St NW/DOL\",\"2021-01-06T14:18:41\"]],\"hovertemplate\":[\"Start: (%{lat}, %{lon})<br>Leaving: %{customdata[0]}<br>At: %{customdata[1]}\",\"End: (%{lat}, %{lon})<br>Arriving: %{customdata[0]}<br>At: %{customdata[1]}\"],\"lat\":[38.893028,38.892275],\"lon\":[-77.026013,-77.013917],\"marker\":{\"size\":8},\"mode\":\"markers+lines\",\"type\":\"scattermapbox\"},{\"customdata\":[[\"1st & K St SE\",\"2021-01-06T14:17:59\"],[\"3rd St & Pennsylvania Ave SE\",\"2021-01-06T14:56:06\"]],\"hovertemplate\":[\"Start: (%{lat}, %{lon})<br>Leaving: %{customdata[0]}<br>At: %{customdata[1]}\",\"End: (%{lat}, %{lon})<br>Arriving: %{customdata[0]}<br>At: %{customdata[1]}\"],\"lat\":[38.878854378063295,38.887378],\"lon\":[-77.00572729110718,-77.001955],\"marker\":{\"size\":8},\"mode\":\"markers+lines\",\"type\":\"scattermapbox\"},{\"customdata\":[[\"Arlington Blvd & N Queen St\",\"2021-01-06T14:20:25\"],[\"Constitution Ave & 2nd St NW/DOL\",\"2021-01-06T15:42:43\"]],\"hovertemplate\":[\"Start: (%{lat}, %{lon})<br>Leaving: %{customdata[0]}<br>At: %{customdata[1]}\",\"End: (%{lat}, %{lon})<br>Arriving: %{customdata[0]}<br>At: %{customdata[1]}\"],\"lat\":[38.889365,38.892275],\"lon\":[-77.077294,-77.013917],\"marker\":{\"size\":8},\"mode\":\"markers+lines\",\"type\":\"scattermapbox\"},{\"customdata\":[[\"15th & K St NW\",\"2021-01-06T14:25:13\"],[\"Constitution Ave & 2nd St NW/DOL\",\"2021-01-06T14:43:13\"]],\"hovertemplate\":[\"Start: (%{lat}, %{lon})<br>Leaving: %{customdata[0]}<br>At: %{customdata[1]}\",\"End: (%{lat}, %{lon})<br>Arriving: %{customdata[0]}<br>At: %{customdata[1]}\"],\"lat\":[38.902,38.892275],\"lon\":[-77.03353,-77.013917],\"marker\":{\"size\":8},\"mode\":\"markers+lines\",\"type\":\"scattermapbox\"},{\"customdata\":[[\"Lincoln Park / 13th & East Capitol St NE \",\"2021-01-06T14:26:32\"],[\"Columbus Circle / Union Station\",\"2021-01-06T15:06:06\"]],\"hovertemplate\":[\"Start: (%{lat}, %{lon})<br>Leaving: %{customdata[0]}<br>At: %{customdata[1]}\",\"End: (%{lat}, %{lon})<br>Arriving: %{customdata[0]}<br>At: %{customdata[1]}\"],\"lat\":[38.890461,38.89696],\"lon\":[-76.988355,-77.00493],\"marker\":{\"size\":8},\"mode\":\"markers+lines\",\"type\":\"scattermapbox\"},{\"customdata\":[[\"4th St & G St SW\",\"2021-01-06T14:27:22\"],[\"Washington & Independence Ave SW/HHS\",\"2021-01-06T14:36:50\"]],\"hovertemplate\":[\"Start: (%{lat}, %{lon})<br>Leaving: %{customdata[0]}<br>At: %{customdata[1]}\",\"End: (%{lat}, %{lon})<br>Arriving: %{customdata[0]}<br>At: %{customdata[1]}\"],\"lat\":[38.881123,38.886978],\"lon\":[-77.017658,-77.013769],\"marker\":{\"size\":8},\"mode\":\"markers+lines\",\"type\":\"scattermapbox\"},{\"customdata\":[[\"4th St & G St SW\",\"2021-01-06T14:27:45\"],[\"Washington & Independence Ave SW/HHS\",\"2021-01-06T14:37:02\"]],\"hovertemplate\":[\"Start: (%{lat}, %{lon})<br>Leaving: %{customdata[0]}<br>At: %{customdata[1]}\",\"End: (%{lat}, %{lon})<br>Arriving: %{customdata[0]}<br>At: %{customdata[1]}\"],\"lat\":[38.881123,38.886978],\"lon\":[-77.017658,-77.013769],\"marker\":{\"size\":8},\"mode\":\"markers+lines\",\"type\":\"scattermapbox\"},{\"customdata\":[[\"1st & K St SE\",\"2021-01-06T14:30:13\"],[\"Columbus Circle / Union Station\",\"2021-01-06T14:39:47\"]],\"hovertemplate\":[\"Start: (%{lat}, %{lon})<br>Leaving: %{customdata[0]}<br>At: %{customdata[1]}\",\"End: (%{lat}, %{lon})<br>Arriving: %{customdata[0]}<br>At: %{customdata[1]}\"],\"lat\":[38.878851833333336,38.89699783333333],\"lon\":[-77.00608366666667,-77.0048565],\"marker\":{\"size\":8},\"mode\":\"markers+lines\",\"type\":\"scattermapbox\"},{\"customdata\":[[\"10th & G St NW\",\"2021-01-06T14:38:32\"],[\"4th & East Capitol St NE\",\"2021-01-06T15:08:07\"]],\"hovertemplate\":[\"Start: (%{lat}, %{lon})<br>Leaving: %{customdata[0]}<br>At: %{customdata[1]}\",\"End: (%{lat}, %{lon})<br>Arriving: %{customdata[0]}<br>At: %{customdata[1]}\"],\"lat\":[38.89824328774852,38.889955],\"lon\":[-77.02623546123505,-77.000349],\"marker\":{\"size\":8},\"mode\":\"markers+lines\",\"type\":\"scattermapbox\"},{\"customdata\":[[\"10th & G St NW\",\"2021-01-06T14:38:52\"],[\"4th & East Capitol St NE\",\"2021-01-06T15:08:05\"]],\"hovertemplate\":[\"Start: (%{lat}, %{lon})<br>Leaving: %{customdata[0]}<br>At: %{customdata[1]}\",\"End: (%{lat}, %{lon})<br>Arriving: %{customdata[0]}<br>At: %{customdata[1]}\"],\"lat\":[38.89824328774852,38.889955],\"lon\":[-77.02623546123505,-77.000349],\"marker\":{\"size\":8},\"mode\":\"markers+lines\",\"type\":\"scattermapbox\"},{\"customdata\":[[\"1st & M St NE\",\"2021-01-06T14:39:36\"],[\"Constitution Ave & 2nd St NW/DOL\",\"2021-01-06T15:10:21\"]],\"hovertemplate\":[\"Start: (%{lat}, %{lon})<br>Leaving: %{customdata[0]}<br>At: %{customdata[1]}\",\"End: (%{lat}, %{lon})<br>Arriving: %{customdata[0]}<br>At: %{customdata[1]}\"],\"lat\":[38.905697,38.892275],\"lon\":[-77.005483,-77.013917],\"marker\":{\"size\":8},\"mode\":\"markers+lines\",\"type\":\"scattermapbox\"},{\"customdata\":[[\"1st & M St NE\",\"2021-01-06T14:40:37\"],[\"Constitution Ave & 2nd St NW/DOL\",\"2021-01-06T15:12:21\"]],\"hovertemplate\":[\"Start: (%{lat}, %{lon})<br>Leaving: %{customdata[0]}<br>At: %{customdata[1]}\",\"End: (%{lat}, %{lon})<br>Arriving: %{customdata[0]}<br>At: %{customdata[1]}\"],\"lat\":[38.905697,38.892275],\"lon\":[-77.005483,-77.013917],\"marker\":{\"size\":8},\"mode\":\"markers+lines\",\"type\":\"scattermapbox\"},{\"customdata\":[[\"New York Ave & 15th St NW\",\"2021-01-06T14:41:13\"],[\"Constitution Ave & 2nd St NW/DOL\",\"2021-01-06T14:57:07\"]],\"hovertemplate\":[\"Start: (%{lat}, %{lon})<br>Leaving: %{customdata[0]}<br>At: %{customdata[1]}\",\"End: (%{lat}, %{lon})<br>Arriving: %{customdata[0]}<br>At: %{customdata[1]}\"],\"lat\":[38.89903234416315,38.892275],\"lon\":[-77.03335404396057,-77.013917],\"marker\":{\"size\":8},\"mode\":\"markers+lines\",\"type\":\"scattermapbox\"},{\"customdata\":[[\"North Capitol St & F St NW\",\"2021-01-06T14:44:30\"],[\"3rd St & Pennsylvania Ave SE\",\"2021-01-06T15:06:08\"]],\"hovertemplate\":[\"Start: (%{lat}, %{lon})<br>Leaving: %{customdata[0]}<br>At: %{customdata[1]}\",\"End: (%{lat}, %{lon})<br>Arriving: %{customdata[0]}<br>At: %{customdata[1]}\"],\"lat\":[38.897446,38.887378],\"lon\":[-77.009888,-77.001955],\"marker\":{\"size\":8},\"mode\":\"markers+lines\",\"type\":\"scattermapbox\"},{\"customdata\":[[\"New York Ave & Hecht Ave NE\",\"2021-01-06T14:47:42\"],[\"Columbus Circle / Union Station\",\"2021-01-06T14:59:15\"]],\"hovertemplate\":[\"Start: (%{lat}, %{lon})<br>Leaving: %{customdata[0]}<br>At: %{customdata[1]}\",\"End: (%{lat}, %{lon})<br>Arriving: %{customdata[0]}<br>At: %{customdata[1]}\"],\"lat\":[38.915604,38.89696],\"lon\":[-76.983683,-77.00493],\"marker\":{\"size\":8},\"mode\":\"markers+lines\",\"type\":\"scattermapbox\"},{\"customdata\":[[\"Independence Ave & L'Enfant Plaza SW/DOE\",\"2021-01-06T14:56:28\"],[\"Washington & Independence Ave SW/HHS\",\"2021-01-06T15:19:14\"]],\"hovertemplate\":[\"Start: (%{lat}, %{lon})<br>Leaving: %{customdata[0]}<br>At: %{customdata[1]}\",\"End: (%{lat}, %{lon})<br>Arriving: %{customdata[0]}<br>At: %{customdata[1]}\"],\"lat\":[38.887312,38.886978],\"lon\":[-77.025762,-77.013769],\"marker\":{\"size\":8},\"mode\":\"markers+lines\",\"type\":\"scattermapbox\"},{\"customdata\":[[\"4th & D St NW / Judiciary Square\",\"2021-01-06T14:56:37\"],[\"4th & East Capitol St NE\",\"2021-01-06T15:13:13\"]],\"hovertemplate\":[\"Start: (%{lat}, %{lon})<br>Leaving: %{customdata[0]}<br>At: %{customdata[1]}\",\"End: (%{lat}, %{lon})<br>Arriving: %{customdata[0]}<br>At: %{customdata[1]}\"],\"lat\":[38.895344,38.889955],\"lon\":[-77.016106,-77.000349],\"marker\":{\"size\":8},\"mode\":\"markers+lines\",\"type\":\"scattermapbox\"},{\"customdata\":[[\"Independence Ave & L'Enfant Plaza SW/DOE\",\"2021-01-06T14:59:56\"],[\"Washington & Independence Ave SW/HHS\",\"2021-01-06T15:12:30\"]],\"hovertemplate\":[\"Start: (%{lat}, %{lon})<br>Leaving: %{customdata[0]}<br>At: %{customdata[1]}\",\"End: (%{lat}, %{lon})<br>Arriving: %{customdata[0]}<br>At: %{customdata[1]}\"],\"lat\":[38.887312,38.886978],\"lon\":[-77.025762,-77.013769],\"marker\":{\"size\":8},\"mode\":\"markers+lines\",\"type\":\"scattermapbox\"}],                        {\"template\":{\"data\":{\"histogram2dcontour\":[{\"type\":\"histogram2dcontour\",\"colorbar\":{\"outlinewidth\":0,\"ticks\":\"\"},\"colorscale\":[[0.0,\"#0d0887\"],[0.1111111111111111,\"#46039f\"],[0.2222222222222222,\"#7201a8\"],[0.3333333333333333,\"#9c179e\"],[0.4444444444444444,\"#bd3786\"],[0.5555555555555556,\"#d8576b\"],[0.6666666666666666,\"#ed7953\"],[0.7777777777777778,\"#fb9f3a\"],[0.8888888888888888,\"#fdca26\"],[1.0,\"#f0f921\"]]}],\"choropleth\":[{\"type\":\"choropleth\",\"colorbar\":{\"outlinewidth\":0,\"ticks\":\"\"}}],\"histogram2d\":[{\"type\":\"histogram2d\",\"colorbar\":{\"outlinewidth\":0,\"ticks\":\"\"},\"colorscale\":[[0.0,\"#0d0887\"],[0.1111111111111111,\"#46039f\"],[0.2222222222222222,\"#7201a8\"],[0.3333333333333333,\"#9c179e\"],[0.4444444444444444,\"#bd3786\"],[0.5555555555555556,\"#d8576b\"],[0.6666666666666666,\"#ed7953\"],[0.7777777777777778,\"#fb9f3a\"],[0.8888888888888888,\"#fdca26\"],[1.0,\"#f0f921\"]]}],\"heatmap\":[{\"type\":\"heatmap\",\"colorbar\":{\"outlinewidth\":0,\"ticks\":\"\"},\"colorscale\":[[0.0,\"#0d0887\"],[0.1111111111111111,\"#46039f\"],[0.2222222222222222,\"#7201a8\"],[0.3333333333333333,\"#9c179e\"],[0.4444444444444444,\"#bd3786\"],[0.5555555555555556,\"#d8576b\"],[0.6666666666666666,\"#ed7953\"],[0.7777777777777778,\"#fb9f3a\"],[0.8888888888888888,\"#fdca26\"],[1.0,\"#f0f921\"]]}],\"heatmapgl\":[{\"type\":\"heatmapgl\",\"colorbar\":{\"outlinewidth\":0,\"ticks\":\"\"},\"colorscale\":[[0.0,\"#0d0887\"],[0.1111111111111111,\"#46039f\"],[0.2222222222222222,\"#7201a8\"],[0.3333333333333333,\"#9c179e\"],[0.4444444444444444,\"#bd3786\"],[0.5555555555555556,\"#d8576b\"],[0.6666666666666666,\"#ed7953\"],[0.7777777777777778,\"#fb9f3a\"],[0.8888888888888888,\"#fdca26\"],[1.0,\"#f0f921\"]]}],\"contourcarpet\":[{\"type\":\"contourcarpet\",\"colorbar\":{\"outlinewidth\":0,\"ticks\":\"\"}}],\"contour\":[{\"type\":\"contour\",\"colorbar\":{\"outlinewidth\":0,\"ticks\":\"\"},\"colorscale\":[[0.0,\"#0d0887\"],[0.1111111111111111,\"#46039f\"],[0.2222222222222222,\"#7201a8\"],[0.3333333333333333,\"#9c179e\"],[0.4444444444444444,\"#bd3786\"],[0.5555555555555556,\"#d8576b\"],[0.6666666666666666,\"#ed7953\"],[0.7777777777777778,\"#fb9f3a\"],[0.8888888888888888,\"#fdca26\"],[1.0,\"#f0f921\"]]}],\"surface\":[{\"type\":\"surface\",\"colorbar\":{\"outlinewidth\":0,\"ticks\":\"\"},\"colorscale\":[[0.0,\"#0d0887\"],[0.1111111111111111,\"#46039f\"],[0.2222222222222222,\"#7201a8\"],[0.3333333333333333,\"#9c179e\"],[0.4444444444444444,\"#bd3786\"],[0.5555555555555556,\"#d8576b\"],[0.6666666666666666,\"#ed7953\"],[0.7777777777777778,\"#fb9f3a\"],[0.8888888888888888,\"#fdca26\"],[1.0,\"#f0f921\"]]}],\"mesh3d\":[{\"type\":\"mesh3d\",\"colorbar\":{\"outlinewidth\":0,\"ticks\":\"\"}}],\"scatter\":[{\"fillpattern\":{\"fillmode\":\"overlay\",\"size\":10,\"solidity\":0.2},\"type\":\"scatter\"}],\"parcoords\":[{\"type\":\"parcoords\",\"line\":{\"colorbar\":{\"outlinewidth\":0,\"ticks\":\"\"}}}],\"scatterpolargl\":[{\"type\":\"scatterpolargl\",\"marker\":{\"colorbar\":{\"outlinewidth\":0,\"ticks\":\"\"}}}],\"bar\":[{\"error_x\":{\"color\":\"#2a3f5f\"},\"error_y\":{\"color\":\"#2a3f5f\"},\"marker\":{\"line\":{\"color\":\"#E5ECF6\",\"width\":0.5},\"pattern\":{\"fillmode\":\"overlay\",\"size\":10,\"solidity\":0.2}},\"type\":\"bar\"}],\"scattergeo\":[{\"type\":\"scattergeo\",\"marker\":{\"colorbar\":{\"outlinewidth\":0,\"ticks\":\"\"}}}],\"scatterpolar\":[{\"type\":\"scatterpolar\",\"marker\":{\"colorbar\":{\"outlinewidth\":0,\"ticks\":\"\"}}}],\"histogram\":[{\"marker\":{\"pattern\":{\"fillmode\":\"overlay\",\"size\":10,\"solidity\":0.2}},\"type\":\"histogram\"}],\"scattergl\":[{\"type\":\"scattergl\",\"marker\":{\"colorbar\":{\"outlinewidth\":0,\"ticks\":\"\"}}}],\"scatter3d\":[{\"type\":\"scatter3d\",\"line\":{\"colorbar\":{\"outlinewidth\":0,\"ticks\":\"\"}},\"marker\":{\"colorbar\":{\"outlinewidth\":0,\"ticks\":\"\"}}}],\"scattermapbox\":[{\"type\":\"scattermapbox\",\"marker\":{\"colorbar\":{\"outlinewidth\":0,\"ticks\":\"\"}}}],\"scatterternary\":[{\"type\":\"scatterternary\",\"marker\":{\"colorbar\":{\"outlinewidth\":0,\"ticks\":\"\"}}}],\"scattercarpet\":[{\"type\":\"scattercarpet\",\"marker\":{\"colorbar\":{\"outlinewidth\":0,\"ticks\":\"\"}}}],\"carpet\":[{\"aaxis\":{\"endlinecolor\":\"#2a3f5f\",\"gridcolor\":\"white\",\"linecolor\":\"white\",\"minorgridcolor\":\"white\",\"startlinecolor\":\"#2a3f5f\"},\"baxis\":{\"endlinecolor\":\"#2a3f5f\",\"gridcolor\":\"white\",\"linecolor\":\"white\",\"minorgridcolor\":\"white\",\"startlinecolor\":\"#2a3f5f\"},\"type\":\"carpet\"}],\"table\":[{\"cells\":{\"fill\":{\"color\":\"#EBF0F8\"},\"line\":{\"color\":\"white\"}},\"header\":{\"fill\":{\"color\":\"#C8D4E3\"},\"line\":{\"color\":\"white\"}},\"type\":\"table\"}],\"barpolar\":[{\"marker\":{\"line\":{\"color\":\"#E5ECF6\",\"width\":0.5},\"pattern\":{\"fillmode\":\"overlay\",\"size\":10,\"solidity\":0.2}},\"type\":\"barpolar\"}],\"pie\":[{\"automargin\":true,\"type\":\"pie\"}]},\"layout\":{\"autotypenumbers\":\"strict\",\"colorway\":[\"#636efa\",\"#EF553B\",\"#00cc96\",\"#ab63fa\",\"#FFA15A\",\"#19d3f3\",\"#FF6692\",\"#B6E880\",\"#FF97FF\",\"#FECB52\"],\"font\":{\"color\":\"#2a3f5f\"},\"hovermode\":\"closest\",\"hoverlabel\":{\"align\":\"left\"},\"paper_bgcolor\":\"white\",\"plot_bgcolor\":\"#E5ECF6\",\"polar\":{\"bgcolor\":\"#E5ECF6\",\"angularaxis\":{\"gridcolor\":\"white\",\"linecolor\":\"white\",\"ticks\":\"\"},\"radialaxis\":{\"gridcolor\":\"white\",\"linecolor\":\"white\",\"ticks\":\"\"}},\"ternary\":{\"bgcolor\":\"#E5ECF6\",\"aaxis\":{\"gridcolor\":\"white\",\"linecolor\":\"white\",\"ticks\":\"\"},\"baxis\":{\"gridcolor\":\"white\",\"linecolor\":\"white\",\"ticks\":\"\"},\"caxis\":{\"gridcolor\":\"white\",\"linecolor\":\"white\",\"ticks\":\"\"}},\"coloraxis\":{\"colorbar\":{\"outlinewidth\":0,\"ticks\":\"\"}},\"colorscale\":{\"sequential\":[[0.0,\"#0d0887\"],[0.1111111111111111,\"#46039f\"],[0.2222222222222222,\"#7201a8\"],[0.3333333333333333,\"#9c179e\"],[0.4444444444444444,\"#bd3786\"],[0.5555555555555556,\"#d8576b\"],[0.6666666666666666,\"#ed7953\"],[0.7777777777777778,\"#fb9f3a\"],[0.8888888888888888,\"#fdca26\"],[1.0,\"#f0f921\"]],\"sequentialminus\":[[0.0,\"#0d0887\"],[0.1111111111111111,\"#46039f\"],[0.2222222222222222,\"#7201a8\"],[0.3333333333333333,\"#9c179e\"],[0.4444444444444444,\"#bd3786\"],[0.5555555555555556,\"#d8576b\"],[0.6666666666666666,\"#ed7953\"],[0.7777777777777778,\"#fb9f3a\"],[0.8888888888888888,\"#fdca26\"],[1.0,\"#f0f921\"]],\"diverging\":[[0,\"#8e0152\"],[0.1,\"#c51b7d\"],[0.2,\"#de77ae\"],[0.3,\"#f1b6da\"],[0.4,\"#fde0ef\"],[0.5,\"#f7f7f7\"],[0.6,\"#e6f5d0\"],[0.7,\"#b8e186\"],[0.8,\"#7fbc41\"],[0.9,\"#4d9221\"],[1,\"#276419\"]]},\"xaxis\":{\"gridcolor\":\"white\",\"linecolor\":\"white\",\"ticks\":\"\",\"title\":{\"standoff\":15},\"zerolinecolor\":\"white\",\"automargin\":true,\"zerolinewidth\":2},\"yaxis\":{\"gridcolor\":\"white\",\"linecolor\":\"white\",\"ticks\":\"\",\"title\":{\"standoff\":15},\"zerolinecolor\":\"white\",\"automargin\":true,\"zerolinewidth\":2},\"scene\":{\"xaxis\":{\"backgroundcolor\":\"#E5ECF6\",\"gridcolor\":\"white\",\"linecolor\":\"white\",\"showbackground\":true,\"ticks\":\"\",\"zerolinecolor\":\"white\",\"gridwidth\":2},\"yaxis\":{\"backgroundcolor\":\"#E5ECF6\",\"gridcolor\":\"white\",\"linecolor\":\"white\",\"showbackground\":true,\"ticks\":\"\",\"zerolinecolor\":\"white\",\"gridwidth\":2},\"zaxis\":{\"backgroundcolor\":\"#E5ECF6\",\"gridcolor\":\"white\",\"linecolor\":\"white\",\"showbackground\":true,\"ticks\":\"\",\"zerolinecolor\":\"white\",\"gridwidth\":2}},\"shapedefaults\":{\"line\":{\"color\":\"#2a3f5f\"}},\"annotationdefaults\":{\"arrowcolor\":\"#2a3f5f\",\"arrowhead\":0,\"arrowwidth\":1},\"geo\":{\"bgcolor\":\"white\",\"landcolor\":\"#E5ECF6\",\"subunitcolor\":\"white\",\"showland\":true,\"showlakes\":true,\"lakecolor\":\"white\"},\"title\":{\"x\":0.05},\"mapbox\":{\"style\":\"light\"}}},\"margin\":{\"l\":0,\"t\":0,\"b\":0,\"r\":0},\"mapbox\":{\"center\":{\"lat\":38.9,\"lon\":-77.0},\"zoom\":11,\"accesstoken\":\"pk.eyJ1IjoiamFrZXBvbGF0dHkiLCJhIjoiY2xiNjFqajAxMDdvaTNycG12c21ocjE0aCJ9.u4v45cFbHgYTmwjVXnn7VQ\\n\"}},                        {\"responsive\": true}                    ).then(function(){\n",
       "                            \n",
       "var gd = document.getElementById('7a3ded78-a1c2-459b-8ee9-0e9f5dd57214');\n",
       "var x = new MutationObserver(function (mutations, observer) {{\n",
       "        var display = window.getComputedStyle(gd).display;\n",
       "        if (!display || display === 'none') {{\n",
       "            console.log([gd, 'removed!']);\n",
       "            Plotly.purge(gd);\n",
       "            observer.disconnect();\n",
       "        }}\n",
       "}});\n",
       "\n",
       "// Listen for the removal of the full notebook cells\n",
       "var notebookContainer = gd.closest('#notebook-container');\n",
       "if (notebookContainer) {{\n",
       "    x.observe(notebookContainer, {childList: true});\n",
       "}}\n",
       "\n",
       "// Listen for the clearing of the current output cell\n",
       "var outputEl = gd.closest('.output');\n",
       "if (outputEl) {{\n",
       "    x.observe(outputEl, {childList: true});\n",
       "}}\n",
       "\n",
       "                        })                };                });            </script>        </div>"
      ]
     },
     "metadata": {},
     "output_type": "display_data"
    }
   ],
   "source": [
    "fig = go.Figure(go.Scattermapbox(\n",
    "    mode = \"markers+lines\",\n",
    "    marker = {'size': 10}))\n",
    "\n",
    "def draw_route(row):\n",
    "    start_lat = row['start_lat']\n",
    "    start_lng = row['start_lng']\n",
    "    end_lat = row['end_lat']\n",
    "    end_lng = row['end_lng']\n",
    "    \n",
    "    start_station = row['start_station_name']\n",
    "    end_station = row['end_station_name']\n",
    "    start_time = row['started_at']\n",
    "    end_time = row['ended_at']\n",
    "    \n",
    "    fig.add_trace(go.Scattermapbox(\n",
    "        mode = \"markers+lines\",\n",
    "        lon = [start_lng, end_lng],\n",
    "        lat = [start_lat, end_lat],\n",
    "        customdata=[[start_station, start_time],\n",
    "                    [end_station, end_time]],\n",
    "        marker = {'size': 8},\n",
    "        hovertemplate=[\n",
    "            \"Start: (%{lat}, %{lon})<br>Leaving: %{customdata[0]}<br>At: %{customdata[1]}\",\n",
    "            \"End: (%{lat}, %{lon})<br>Arriving: %{customdata[0]}<br>At: %{customdata[1]}\"\n",
    "        ]))\n",
    "    \n",
    "capitol_arrivals_df.apply(draw_route, axis=1)\n",
    "\n",
    "#fig.update_layout(mapbox_style=\"open-street-map\")\n",
    "fig.update_layout(\n",
    "    margin={'l':0,'t':0,'b':0,'r':0},\n",
    "    mapbox={\n",
    "        'center':{'lat': 38.9, 'lon': -77.0},\n",
    "        'zoom':11\n",
    "    },\n",
    "    mapbox_accesstoken=mapbox_token)\n",
    "\n",
    "fig.show()"
   ]
  },
  {
   "cell_type": "code",
   "execution_count": 122,
   "id": "cc8c91ef",
   "metadata": {},
   "outputs": [
    {
     "name": "stdout",
     "output_type": "stream",
     "text": [
      "Number of rides leaving Capitol after breach:  3\n"
     ]
    },
    {
     "data": {
      "text/html": [
       "<div>\n",
       "<style scoped>\n",
       "    .dataframe tbody tr th:only-of-type {\n",
       "        vertical-align: middle;\n",
       "    }\n",
       "\n",
       "    .dataframe tbody tr th {\n",
       "        vertical-align: top;\n",
       "    }\n",
       "\n",
       "    .dataframe thead th {\n",
       "        text-align: right;\n",
       "    }\n",
       "</style>\n",
       "<table border=\"1\" class=\"dataframe\">\n",
       "  <thead>\n",
       "    <tr style=\"text-align: right;\">\n",
       "      <th></th>\n",
       "      <th>rideable_type</th>\n",
       "      <th>started_at</th>\n",
       "      <th>ended_at</th>\n",
       "      <th>start_station_name</th>\n",
       "      <th>start_station_id</th>\n",
       "      <th>end_station_name</th>\n",
       "      <th>end_station_id</th>\n",
       "      <th>start_lat</th>\n",
       "      <th>start_lng</th>\n",
       "      <th>end_lat</th>\n",
       "      <th>end_lng</th>\n",
       "      <th>member_casual</th>\n",
       "      <th>duration</th>\n",
       "      <th>distance</th>\n",
       "    </tr>\n",
       "    <tr>\n",
       "      <th>ride_id</th>\n",
       "      <th></th>\n",
       "      <th></th>\n",
       "      <th></th>\n",
       "      <th></th>\n",
       "      <th></th>\n",
       "      <th></th>\n",
       "      <th></th>\n",
       "      <th></th>\n",
       "      <th></th>\n",
       "      <th></th>\n",
       "      <th></th>\n",
       "      <th></th>\n",
       "      <th></th>\n",
       "      <th></th>\n",
       "    </tr>\n",
       "  </thead>\n",
       "  <tbody>\n",
       "    <tr>\n",
       "      <th>A61A3E412594CC82</th>\n",
       "      <td>classic_bike</td>\n",
       "      <td>2021-01-06 14:56:28</td>\n",
       "      <td>2021-01-06 15:19:14</td>\n",
       "      <td>Independence Ave &amp; L'Enfant Plaza SW/DOE</td>\n",
       "      <td>31633.0</td>\n",
       "      <td>Washington &amp; Independence Ave SW/HHS</td>\n",
       "      <td>31272.0</td>\n",
       "      <td>38.887312</td>\n",
       "      <td>-77.025762</td>\n",
       "      <td>38.886978</td>\n",
       "      <td>-77.013769</td>\n",
       "      <td>casual</td>\n",
       "      <td>0 days 00:22:46</td>\n",
       "      <td>0.646984</td>\n",
       "    </tr>\n",
       "    <tr>\n",
       "      <th>12EA08FC7531EFEA</th>\n",
       "      <td>classic_bike</td>\n",
       "      <td>2021-01-06 14:56:37</td>\n",
       "      <td>2021-01-06 15:13:13</td>\n",
       "      <td>4th &amp; D St NW / Judiciary Square</td>\n",
       "      <td>31621.0</td>\n",
       "      <td>4th &amp; East Capitol St NE</td>\n",
       "      <td>31618.0</td>\n",
       "      <td>38.895344</td>\n",
       "      <td>-77.016106</td>\n",
       "      <td>38.889955</td>\n",
       "      <td>-77.000349</td>\n",
       "      <td>member</td>\n",
       "      <td>0 days 00:16:36</td>\n",
       "      <td>0.927215</td>\n",
       "    </tr>\n",
       "    <tr>\n",
       "      <th>38E9F5CF1A15059D</th>\n",
       "      <td>classic_bike</td>\n",
       "      <td>2021-01-06 14:59:56</td>\n",
       "      <td>2021-01-06 15:12:30</td>\n",
       "      <td>Independence Ave &amp; L'Enfant Plaza SW/DOE</td>\n",
       "      <td>31633.0</td>\n",
       "      <td>Washington &amp; Independence Ave SW/HHS</td>\n",
       "      <td>31272.0</td>\n",
       "      <td>38.887312</td>\n",
       "      <td>-77.025762</td>\n",
       "      <td>38.886978</td>\n",
       "      <td>-77.013769</td>\n",
       "      <td>casual</td>\n",
       "      <td>0 days 00:12:34</td>\n",
       "      <td>0.646984</td>\n",
       "    </tr>\n",
       "  </tbody>\n",
       "</table>\n",
       "</div>"
      ],
      "text/plain": [
       "                 rideable_type          started_at            ended_at  \\\n",
       "ride_id                                                                  \n",
       "A61A3E412594CC82  classic_bike 2021-01-06 14:56:28 2021-01-06 15:19:14   \n",
       "12EA08FC7531EFEA  classic_bike 2021-01-06 14:56:37 2021-01-06 15:13:13   \n",
       "38E9F5CF1A15059D  classic_bike 2021-01-06 14:59:56 2021-01-06 15:12:30   \n",
       "\n",
       "                                        start_station_name  start_station_id  \\\n",
       "ride_id                                                                        \n",
       "A61A3E412594CC82  Independence Ave & L'Enfant Plaza SW/DOE           31633.0   \n",
       "12EA08FC7531EFEA          4th & D St NW / Judiciary Square           31621.0   \n",
       "38E9F5CF1A15059D  Independence Ave & L'Enfant Plaza SW/DOE           31633.0   \n",
       "\n",
       "                                      end_station_name  end_station_id  \\\n",
       "ride_id                                                                  \n",
       "A61A3E412594CC82  Washington & Independence Ave SW/HHS         31272.0   \n",
       "12EA08FC7531EFEA              4th & East Capitol St NE         31618.0   \n",
       "38E9F5CF1A15059D  Washington & Independence Ave SW/HHS         31272.0   \n",
       "\n",
       "                  start_lat  start_lng    end_lat    end_lng member_casual  \\\n",
       "ride_id                                                                      \n",
       "A61A3E412594CC82  38.887312 -77.025762  38.886978 -77.013769        casual   \n",
       "12EA08FC7531EFEA  38.895344 -77.016106  38.889955 -77.000349        member   \n",
       "38E9F5CF1A15059D  38.887312 -77.025762  38.886978 -77.013769        casual   \n",
       "\n",
       "                        duration  distance  \n",
       "ride_id                                     \n",
       "A61A3E412594CC82 0 days 00:22:46  0.646984  \n",
       "12EA08FC7531EFEA 0 days 00:16:36  0.927215  \n",
       "38E9F5CF1A15059D 0 days 00:12:34  0.646984  "
      ]
     },
     "execution_count": 122,
     "metadata": {},
     "output_type": "execute_result"
    }
   ],
   "source": [
    "capitol_departures_df = filter_end_stations(jan6_df, stations_near_capitol)\n",
    "capitol_departures_df = filter_start_time(capitol_departures_df, '2021-01-06 14:50:00', '2021-01-06 23:00:00')\n",
    "\n",
    "print(\"Number of rides leaving Capitol after breach: \", len(capitol_departures_df))\n",
    "capitol_departures_df.head()"
   ]
  },
  {
   "cell_type": "code",
   "execution_count": null,
   "id": "04780584",
   "metadata": {},
   "outputs": [],
   "source": []
  },
  {
   "cell_type": "code",
   "execution_count": null,
   "id": "e25cb49e",
   "metadata": {},
   "outputs": [],
   "source": []
  }
 ],
 "metadata": {
  "kernelspec": {
   "display_name": "Python 3 (ipykernel)",
   "language": "python",
   "name": "python3"
  },
  "language_info": {
   "codemirror_mode": {
    "name": "ipython",
    "version": 3
   },
   "file_extension": ".py",
   "mimetype": "text/x-python",
   "name": "python",
   "nbconvert_exporter": "python",
   "pygments_lexer": "ipython3",
   "version": "3.10.8"
  }
 },
 "nbformat": 4,
 "nbformat_minor": 5
}
